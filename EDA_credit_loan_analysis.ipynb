{
 "cells": [
  {
   "cell_type": "code",
   "execution_count": 420,
   "id": "d899b225",
   "metadata": {},
   "outputs": [],
   "source": [
    "import pandas as pd\n",
    "import numpy as np\n",
    "import matplotlib.pyplot as plt\n",
    "import seaborn as sns\n",
    "from sklearn.model_selection import train_test_split\n",
    "from sklearn.preprocessing import StandardScaler, LabelEncoder\n",
    "from sklearn.cluster import KMeans\n",
    "from sklearn.decomposition import PCA\n",
    "from sklearn.ensemble import RandomForestClassifier\n",
    "from sklearn.metrics import confusion_matrix, classification_report"
   ]
  },
  {
   "cell_type": "code",
   "execution_count": 421,
   "id": "134c3d49",
   "metadata": {},
   "outputs": [],
   "source": [
    "df=pd.read_csv('credit_scoring.csv')"
   ]
  },
  {
   "cell_type": "markdown",
   "id": "af09df79",
   "metadata": {},
   "source": [
    "| Variable Name                  | Description                                                                 | Type       |\n",
    "|--------------------------------|-----------------------------------------------------------------------------|------------|\n",
    "| Default                        | Client with more than 90 days without paying their loan                     | Y/N        |\n",
    "| Prct_uso_tc                    | Percentage of credit card usage in the last month                           | percentage |\n",
    "| Edad                           | Age                                                                         | integer    |\n",
    "| Nro_prestamo_retrasados        | Number of loans with payment delays of more than 3 months in the last 3 years | integer    |\n",
    "| Prct_deuda_vs_ingresos         | Financial debt-to-income ratio                                              | percentage |\n",
    "| Mto_ingreso_mensual            | Monthly income amount                                                       | real       |\n",
    "| Nro_prod_financieros_deuda     | Number of loans (including vehicle or mortgage loans) and number of credit cards last year | integer |\n",
    "| Nro_retraso_60dias             | Number of times the client has been over 60 days late in the last 3 years    | integer    |\n",
    "| Nro_creditos_hipotecarios      | Number of mortgage loans                                                    | integer    |\n",
    "| Nro_retraso_ultm3anios         | Number of payment delays over 30 days in the last 3 years                   | integer    |\n",
    "| Nro_dependiente                | Number of dependents                                                        | integer    |\n"
   ]
  },
  {
   "cell_type": "code",
   "execution_count": 422,
   "id": "f17e6e84",
   "metadata": {
    "scrolled": true
   },
   "outputs": [
    {
     "data": {
      "text/html": [
       "<div>\n",
       "<style scoped>\n",
       "    .dataframe tbody tr th:only-of-type {\n",
       "        vertical-align: middle;\n",
       "    }\n",
       "\n",
       "    .dataframe tbody tr th {\n",
       "        vertical-align: top;\n",
       "    }\n",
       "\n",
       "    .dataframe thead th {\n",
       "        text-align: right;\n",
       "    }\n",
       "</style>\n",
       "<table border=\"1\" class=\"dataframe\">\n",
       "  <thead>\n",
       "    <tr style=\"text-align: right;\">\n",
       "      <th></th>\n",
       "      <th>ID</th>\n",
       "      <th>Default</th>\n",
       "      <th>Prct_uso_tc</th>\n",
       "      <th>Edad</th>\n",
       "      <th>Nro_prestao_retrasados</th>\n",
       "      <th>Prct_deuda_vs_ingresos</th>\n",
       "      <th>Mto_ingreso_mensual</th>\n",
       "      <th>Nro_prod_financieros_deuda</th>\n",
       "      <th>Nro_retraso_60dias</th>\n",
       "      <th>Nro_creditos_hipotecarios</th>\n",
       "      <th>Nro_retraso_ultm3anios</th>\n",
       "      <th>Nro_dependiente</th>\n",
       "    </tr>\n",
       "  </thead>\n",
       "  <tbody>\n",
       "    <tr>\n",
       "      <th>0</th>\n",
       "      <td>1</td>\n",
       "      <td>1</td>\n",
       "      <td>0.766127</td>\n",
       "      <td>45</td>\n",
       "      <td>2</td>\n",
       "      <td>0.802982</td>\n",
       "      <td>9120.0</td>\n",
       "      <td>13</td>\n",
       "      <td>0</td>\n",
       "      <td>6</td>\n",
       "      <td>0</td>\n",
       "      <td>2.0</td>\n",
       "    </tr>\n",
       "    <tr>\n",
       "      <th>1</th>\n",
       "      <td>2</td>\n",
       "      <td>0</td>\n",
       "      <td>0.957151</td>\n",
       "      <td>40</td>\n",
       "      <td>0</td>\n",
       "      <td>0.121876</td>\n",
       "      <td>2600.0</td>\n",
       "      <td>4</td>\n",
       "      <td>0</td>\n",
       "      <td>0</td>\n",
       "      <td>0</td>\n",
       "      <td>1.0</td>\n",
       "    </tr>\n",
       "    <tr>\n",
       "      <th>2</th>\n",
       "      <td>3</td>\n",
       "      <td>0</td>\n",
       "      <td>0.658180</td>\n",
       "      <td>38</td>\n",
       "      <td>1</td>\n",
       "      <td>0.085113</td>\n",
       "      <td>3042.0</td>\n",
       "      <td>2</td>\n",
       "      <td>1</td>\n",
       "      <td>0</td>\n",
       "      <td>0</td>\n",
       "      <td>0.0</td>\n",
       "    </tr>\n",
       "    <tr>\n",
       "      <th>3</th>\n",
       "      <td>4</td>\n",
       "      <td>0</td>\n",
       "      <td>0.233810</td>\n",
       "      <td>30</td>\n",
       "      <td>0</td>\n",
       "      <td>0.036050</td>\n",
       "      <td>3300.0</td>\n",
       "      <td>5</td>\n",
       "      <td>0</td>\n",
       "      <td>0</td>\n",
       "      <td>0</td>\n",
       "      <td>0.0</td>\n",
       "    </tr>\n",
       "    <tr>\n",
       "      <th>4</th>\n",
       "      <td>5</td>\n",
       "      <td>0</td>\n",
       "      <td>0.907239</td>\n",
       "      <td>49</td>\n",
       "      <td>1</td>\n",
       "      <td>0.024926</td>\n",
       "      <td>63588.0</td>\n",
       "      <td>7</td>\n",
       "      <td>0</td>\n",
       "      <td>1</td>\n",
       "      <td>0</td>\n",
       "      <td>0.0</td>\n",
       "    </tr>\n",
       "  </tbody>\n",
       "</table>\n",
       "</div>"
      ],
      "text/plain": [
       "   ID  Default  Prct_uso_tc  Edad  Nro_prestao_retrasados  \\\n",
       "0   1        1     0.766127    45                       2   \n",
       "1   2        0     0.957151    40                       0   \n",
       "2   3        0     0.658180    38                       1   \n",
       "3   4        0     0.233810    30                       0   \n",
       "4   5        0     0.907239    49                       1   \n",
       "\n",
       "   Prct_deuda_vs_ingresos  Mto_ingreso_mensual  Nro_prod_financieros_deuda  \\\n",
       "0                0.802982               9120.0                          13   \n",
       "1                0.121876               2600.0                           4   \n",
       "2                0.085113               3042.0                           2   \n",
       "3                0.036050               3300.0                           5   \n",
       "4                0.024926              63588.0                           7   \n",
       "\n",
       "   Nro_retraso_60dias  Nro_creditos_hipotecarios  Nro_retraso_ultm3anios  \\\n",
       "0                   0                          6                       0   \n",
       "1                   0                          0                       0   \n",
       "2                   1                          0                       0   \n",
       "3                   0                          0                       0   \n",
       "4                   0                          1                       0   \n",
       "\n",
       "   Nro_dependiente  \n",
       "0              2.0  \n",
       "1              1.0  \n",
       "2              0.0  \n",
       "3              0.0  \n",
       "4              0.0  "
      ]
     },
     "execution_count": 422,
     "metadata": {},
     "output_type": "execute_result"
    }
   ],
   "source": [
    "df.head(5)"
   ]
  },
  {
   "cell_type": "code",
   "execution_count": 423,
   "id": "b8aa0c2e",
   "metadata": {},
   "outputs": [
    {
     "data": {
      "text/plain": [
       "count    150000.000000\n",
       "mean          0.421033\n",
       "std           4.192781\n",
       "min           0.000000\n",
       "25%           0.000000\n",
       "50%           0.000000\n",
       "75%           0.000000\n",
       "max          98.000000\n",
       "Name: Nro_prestao_retrasados, dtype: float64"
      ]
     },
     "execution_count": 423,
     "metadata": {},
     "output_type": "execute_result"
    }
   ],
   "source": [
    "df['Nro_prestao_retrasados'].describe()"
   ]
  },
  {
   "cell_type": "code",
   "execution_count": 409,
   "id": "3dd2bcb7",
   "metadata": {},
   "outputs": [
    {
     "data": {
      "image/png": "[encoded data removed]",
      "text/plain": [
       "<Figure size 864x432 with 1 Axes>"
      ]
     },
     "metadata": {
      "needs_background": "light"
     },
     "output_type": "display_data"
    }
   ],
   "source": [
    "# Box plot for Number of Dependents by Default Status\n",
    "plt.figure(figsize=(12, 6))\n",
    "sns.boxplot(x='Default', y='Nro_prestao_retrasados', data=df)\n",
    "plt.title(\"Number of Dependents by Default Status\")\n",
    "plt.xlabel(\"Default Status (0 = Not Defaulted, 1 = Defaulted)\")\n",
    "plt.ylabel(\"Number of Dependents\")\n",
    "plt.show()\n"
   ]
  },
  {
   "cell_type": "code",
   "execution_count": null,
   "id": "61cb2a39",
   "metadata": {},
   "outputs": [],
   "source": []
  },
  {
   "cell_type": "code",
   "execution_count": 350,
   "id": "dfe383a4",
   "metadata": {},
   "outputs": [
    {
     "data": {
      "text/plain": [
       "Index(['ID', 'Default', 'Prct_uso_tc', 'Edad', 'Nro_prestao_retrasados',\n",
       "       'Prct_deuda_vs_ingresos', 'Mto_ingreso_mensual',\n",
       "       'Nro_prod_financieros_deuda', 'Nro_retraso_60dias',\n",
       "       'Nro_creditos_hipotecarios', 'Nro_retraso_ultm3anios',\n",
       "       'Nro_dependiente'],\n",
       "      dtype='object')"
      ]
     },
     "execution_count": 350,
     "metadata": {},
     "output_type": "execute_result"
    }
   ],
   "source": [
    "df.columns"
   ]
  },
  {
   "cell_type": "code",
   "execution_count": 351,
   "id": "2a72de73",
   "metadata": {},
   "outputs": [],
   "source": [
    "# df.rename(columns={\n",
    "#     'Prct_uso_tc': 'per_credit_card_usage',\n",
    "#     'Edad': 'age',\n",
    "#     'Nro_prestao_retrasados': 'No_loans_3mts_3yrs',\n",
    "#     'Prct_deuda_vs_ingresos': 'debt_to_income',\n",
    "#     'Mto_ingreso_mensual': 'monthly_income',\n",
    "#     'Nro_prod_financieros_deuda': 'number_loans_and_credit_cards',\n",
    "#     'Nro_retraso_60dias':'60days_late_3yrs',\n",
    "#     'Nro_creditos_hipotecarios':'mortgage_loans',\n",
    "#     'Nro_retraso_ultm3anios':'pay_delays_30ds_3yrs',\n",
    "#     'Nro_dependiente':'number_dependent'\n",
    "# }, inplace=True)"
   ]
  },
  {
   "cell_type": "code",
   "execution_count": 352,
   "id": "956551d2",
   "metadata": {},
   "outputs": [],
   "source": [
    "# df[['Default','age','debt_to_income']]"
   ]
  },
  {
   "cell_type": "code",
   "execution_count": 353,
   "id": "5799ef88",
   "metadata": {},
   "outputs": [
    {
     "data": {
      "text/html": [
       "<div>\n",
       "<style scoped>\n",
       "    .dataframe tbody tr th:only-of-type {\n",
       "        vertical-align: middle;\n",
       "    }\n",
       "\n",
       "    .dataframe tbody tr th {\n",
       "        vertical-align: top;\n",
       "    }\n",
       "\n",
       "    .dataframe thead th {\n",
       "        text-align: right;\n",
       "    }\n",
       "</style>\n",
       "<table border=\"1\" class=\"dataframe\">\n",
       "  <thead>\n",
       "    <tr style=\"text-align: right;\">\n",
       "      <th></th>\n",
       "      <th>Default</th>\n",
       "      <th>Edad</th>\n",
       "      <th>Nro_prod_financieros_deuda</th>\n",
       "      <th>Nro_creditos_hipotecarios</th>\n",
       "      <th>Nro_dependiente</th>\n",
       "    </tr>\n",
       "  </thead>\n",
       "  <tbody>\n",
       "    <tr>\n",
       "      <th>0</th>\n",
       "      <td>1</td>\n",
       "      <td>45</td>\n",
       "      <td>13</td>\n",
       "      <td>6</td>\n",
       "      <td>2.0</td>\n",
       "    </tr>\n",
       "    <tr>\n",
       "      <th>13</th>\n",
       "      <td>1</td>\n",
       "      <td>40</td>\n",
       "      <td>9</td>\n",
       "      <td>1</td>\n",
       "      <td>2.0</td>\n",
       "    </tr>\n",
       "    <tr>\n",
       "      <th>21</th>\n",
       "      <td>1</td>\n",
       "      <td>38</td>\n",
       "      <td>7</td>\n",
       "      <td>1</td>\n",
       "      <td>2.0</td>\n",
       "    </tr>\n",
       "    <tr>\n",
       "      <th>25</th>\n",
       "      <td>1</td>\n",
       "      <td>50</td>\n",
       "      <td>14</td>\n",
       "      <td>3</td>\n",
       "      <td>1.0</td>\n",
       "    </tr>\n",
       "    <tr>\n",
       "      <th>51</th>\n",
       "      <td>1</td>\n",
       "      <td>31</td>\n",
       "      <td>10</td>\n",
       "      <td>2</td>\n",
       "      <td>1.0</td>\n",
       "    </tr>\n",
       "    <tr>\n",
       "      <th>74</th>\n",
       "      <td>1</td>\n",
       "      <td>49</td>\n",
       "      <td>9</td>\n",
       "      <td>2</td>\n",
       "      <td>3.0</td>\n",
       "    </tr>\n",
       "    <tr>\n",
       "      <th>88</th>\n",
       "      <td>1</td>\n",
       "      <td>45</td>\n",
       "      <td>13</td>\n",
       "      <td>2</td>\n",
       "      <td>2.0</td>\n",
       "    </tr>\n",
       "    <tr>\n",
       "      <th>162</th>\n",
       "      <td>1</td>\n",
       "      <td>47</td>\n",
       "      <td>6</td>\n",
       "      <td>2</td>\n",
       "      <td>1.0</td>\n",
       "    </tr>\n",
       "    <tr>\n",
       "      <th>179</th>\n",
       "      <td>1</td>\n",
       "      <td>35</td>\n",
       "      <td>6</td>\n",
       "      <td>1</td>\n",
       "      <td>1.0</td>\n",
       "    </tr>\n",
       "    <tr>\n",
       "      <th>184</th>\n",
       "      <td>1</td>\n",
       "      <td>51</td>\n",
       "      <td>11</td>\n",
       "      <td>1</td>\n",
       "      <td>0.0</td>\n",
       "    </tr>\n",
       "  </tbody>\n",
       "</table>\n",
       "</div>"
      ],
      "text/plain": [
       "     Default  Edad  Nro_prod_financieros_deuda  Nro_creditos_hipotecarios  \\\n",
       "0          1    45                          13                          6   \n",
       "13         1    40                           9                          1   \n",
       "21         1    38                           7                          1   \n",
       "25         1    50                          14                          3   \n",
       "51         1    31                          10                          2   \n",
       "74         1    49                           9                          2   \n",
       "88         1    45                          13                          2   \n",
       "162        1    47                           6                          2   \n",
       "179        1    35                           6                          1   \n",
       "184        1    51                          11                          1   \n",
       "\n",
       "     Nro_dependiente  \n",
       "0                2.0  \n",
       "13               2.0  \n",
       "21               2.0  \n",
       "25               1.0  \n",
       "51               1.0  \n",
       "74               3.0  \n",
       "88               2.0  \n",
       "162              1.0  \n",
       "179              1.0  \n",
       "184              0.0  "
      ]
     },
     "execution_count": 353,
     "metadata": {},
     "output_type": "execute_result"
    }
   ],
   "source": [
    "df[['Default','Edad','Nro_prod_financieros_deuda','Nro_creditos_hipotecarios','Nro_dependiente']][df['Default']==1].head(10)"
   ]
  },
  {
   "cell_type": "code",
   "execution_count": 363,
   "id": "2491f389",
   "metadata": {},
   "outputs": [],
   "source": [
    "df = df[df['ID'] != 65696]"
   ]
  },
  {
   "cell_type": "code",
   "execution_count": 364,
   "id": "5531852d",
   "metadata": {},
   "outputs": [
    {
     "name": "stdout",
     "output_type": "stream",
     "text": [
      "<class 'pandas.core.frame.DataFrame'>\n",
      "Int64Index: 149999 entries, 0 to 149999\n",
      "Data columns (total 14 columns):\n",
      " #   Column                      Non-Null Count   Dtype   \n",
      "---  ------                      --------------   -----   \n",
      " 0   ID                          149999 non-null  int64   \n",
      " 1   Default                     149999 non-null  int64   \n",
      " 2   Prct_uso_tc                 149999 non-null  float64 \n",
      " 3   Edad                        149999 non-null  int64   \n",
      " 4   Nro_prestao_retrasados      149999 non-null  int64   \n",
      " 5   Prct_deuda_vs_ingresos      149999 non-null  float64 \n",
      " 6   Mto_ingreso_mensual         120268 non-null  float64 \n",
      " 7   Nro_prod_financieros_deuda  149999 non-null  int64   \n",
      " 8   Nro_retraso_60dias          149999 non-null  int64   \n",
      " 9   Nro_creditos_hipotecarios   149999 non-null  int64   \n",
      " 10  Nro_retraso_ultm3anios      149999 non-null  int64   \n",
      " 11  Nro_dependiente             146075 non-null  float64 \n",
      " 12  Age_Group                   149999 non-null  category\n",
      " 13  Edad_bin                    149999 non-null  category\n",
      "dtypes: category(2), float64(4), int64(8)\n",
      "memory usage: 15.2 MB\n"
     ]
    }
   ],
   "source": [
    "df.info()"
   ]
  },
  {
   "cell_type": "code",
   "execution_count": 322,
   "id": "cef26bb3",
   "metadata": {},
   "outputs": [
    {
     "name": "stdout",
     "output_type": "stream",
     "text": [
      "Missing Values:\n",
      " ID                                0\n",
      "Default                           0\n",
      "Prct_uso_tc                       0\n",
      "Edad                              0\n",
      "Nro_prestao_retrasados            0\n",
      "Prct_deuda_vs_ingresos            0\n",
      "Mto_ingreso_mensual           29731\n",
      "Nro_prod_financieros_deuda        0\n",
      "Nro_retraso_60dias                0\n",
      "Nro_creditos_hipotecarios         0\n",
      "Nro_retraso_ultm3anios            0\n",
      "Nro_dependiente                3924\n",
      "dtype: int64\n"
     ]
    }
   ],
   "source": [
    "print(\"Missing Values:\\n\", df.isnull().sum())"
   ]
  },
  {
   "cell_type": "code",
   "execution_count": 323,
   "id": "c61d112e",
   "metadata": {},
   "outputs": [
    {
     "name": "stdout",
     "output_type": "stream",
     "text": [
      "Missing Values After Imputation:\n",
      " ID                            0\n",
      "Default                       0\n",
      "Prct_uso_tc                   0\n",
      "Edad                          0\n",
      "Nro_prestao_retrasados        0\n",
      "Prct_deuda_vs_ingresos        0\n",
      "Mto_ingreso_mensual           0\n",
      "Nro_prod_financieros_deuda    0\n",
      "Nro_retraso_60dias            0\n",
      "Nro_creditos_hipotecarios     0\n",
      "Nro_retraso_ultm3anios        0\n",
      "Nro_dependiente               0\n",
      "dtype: int64\n"
     ]
    }
   ],
   "source": [
    "# Handling missing values in 'Mto_ingreso_mensual'\n",
    "# Option 1: Replace with median\n",
    "df['Mto_ingreso_mensual'].fillna(df['Mto_ingreso_mensual'].median(), inplace=True)\n",
    "\n",
    "# # Option 2: Predictive imputation (if preferred)\n",
    "# # Uncomment and use this block for predictive imputation\n",
    "# from sklearn.linear_model import LinearRegression\n",
    "# impute_df = df[df['Mto_ingreso_mensual'].notnull()]\n",
    "# predict_df = df[df['Mto_ingreso_mensual'].isnull()]\n",
    "# reg = LinearRegression()\n",
    "# reg.fit(impute_df.drop(['Mto_ingreso_mensual', 'ID', 'Default'], axis=1), impute_df['Mto_ingreso_mensual'])\n",
    "# predicted_values = reg.predict(predict_df.drop(['Mto_ingreso_mensual', 'ID', 'Default'], axis=1))\n",
    "# df.loc[df['Mto_ingreso_mensual'].isnull(), 'Mto_ingreso_mensual'] = predicted_values\n",
    "\n",
    "# Handling missing values in 'Nro_dependiente'\n",
    "# Replace missing values with median\n",
    "df['Nro_dependiente'].fillna(df['Nro_dependiente'].median(), inplace=True)\n",
    "\n",
    "# Verify there are no missing values left\n",
    "print(\"Missing Values After Imputation:\\n\", df.isnull().sum())"
   ]
  },
  {
   "cell_type": "code",
   "execution_count": 324,
   "id": "e3870e8d",
   "metadata": {},
   "outputs": [],
   "source": [
    "df = df.dropna()"
   ]
  },
  {
   "cell_type": "code",
   "execution_count": 325,
   "id": "ab220550",
   "metadata": {},
   "outputs": [
    {
     "name": "stdout",
     "output_type": "stream",
     "text": [
      "<class 'pandas.core.frame.DataFrame'>\n",
      "RangeIndex: 150000 entries, 0 to 149999\n",
      "Data columns (total 12 columns):\n",
      " #   Column                      Non-Null Count   Dtype  \n",
      "---  ------                      --------------   -----  \n",
      " 0   ID                          150000 non-null  int64  \n",
      " 1   Default                     150000 non-null  int64  \n",
      " 2   Prct_uso_tc                 150000 non-null  float64\n",
      " 3   Edad                        150000 non-null  int64  \n",
      " 4   Nro_prestao_retrasados      150000 non-null  int64  \n",
      " 5   Prct_deuda_vs_ingresos      150000 non-null  float64\n",
      " 6   Mto_ingreso_mensual         150000 non-null  float64\n",
      " 7   Nro_prod_financieros_deuda  150000 non-null  int64  \n",
      " 8   Nro_retraso_60dias          150000 non-null  int64  \n",
      " 9   Nro_creditos_hipotecarios   150000 non-null  int64  \n",
      " 10  Nro_retraso_ultm3anios      150000 non-null  int64  \n",
      " 11  Nro_dependiente             150000 non-null  float64\n",
      "dtypes: float64(4), int64(8)\n",
      "memory usage: 13.7 MB\n"
     ]
    }
   ],
   "source": [
    "df.info()"
   ]
  },
  {
   "cell_type": "code",
   "execution_count": 184,
   "id": "2f3d5b22",
   "metadata": {},
   "outputs": [
    {
     "data": {
      "image/png": "[encoded data removed]",
      "text/plain": [
       "<Figure size 432x288 with 1 Axes>"
      ]
     },
     "metadata": {
      "needs_background": "light"
     },
     "output_type": "display_data"
    }
   ],
   "source": [
    "sns.countplot(x='Default', data=df)\n",
    "plt.title(\"Distribution of Default\")\n",
    "plt.xlabel(\"Default (1 = Defaulted, 0 = Not Defaulted)\")\n",
    "plt.ylabel(\"Count\")\n",
    "\n",
    "# Adding count numbers on top of bars\n",
    "for bar in plt.gca().patches:\n",
    "    plt.text(\n",
    "        bar.get_x() + bar.get_width() / 2,\n",
    "        bar.get_height() + 5,  # Adjust the position above the bar\n",
    "        int(bar.get_height()),\n",
    "        ha='center', va='bottom'\n",
    "    )\n",
    "\n",
    "plt.show()"
   ]
  },
  {
   "cell_type": "code",
   "execution_count": 185,
   "id": "8a541e1b",
   "metadata": {},
   "outputs": [
    {
     "data": {
      "image/png": "[encoded data removed]",
      "text/plain": [
       "<Figure size 576x432 with 1 Axes>"
      ]
     },
     "metadata": {},
     "output_type": "display_data"
    }
   ],
   "source": [
    "import matplotlib.pyplot as plt\n",
    "\n",
    "# Assuming you have the counts from your data\n",
    "counts = [139974, 10026]  # Replace with your actual counts\n",
    "labels = ['Not Defaulted', 'Defaulted']\n",
    "\n",
    "# Define a custom function to format the percentage text\n",
    "def autopct_white(pct):\n",
    "    return f'{pct:.1f}%'\n",
    "\n",
    "# Creating the pie chart with Democratic and Republican colors\n",
    "plt.figure(figsize=(8, 6))\n",
    "wedges, texts, autotexts = plt.pie(\n",
    "    counts, \n",
    "    labels=labels, \n",
    "    autopct=autopct_white, \n",
    "    startangle=90, \n",
    "    colors=['blue', 'red'], \n",
    "    textprops={'fontsize': 12, 'fontweight': 'bold'}\n",
    ")\n",
    "\n",
    "# Set the percentage text color to white\n",
    "for autotext in autotexts:\n",
    "    autotext.set_color('white')\n",
    "\n",
    "plt.title(\"Distribution of Default\", fontsize=16, fontweight='bold')\n",
    "plt.show()"
   ]
  },
  {
   "cell_type": "code",
   "execution_count": 407,
   "id": "03982417",
   "metadata": {},
   "outputs": [
    {
     "name": "stderr",
     "output_type": "stream",
     "text": [
      "/opt/ohpc/pub/apps/python/3.8.12/lib/python3.8/site-packages/seaborn/categorical.py:381: DeprecationWarning: distutils Version classes are deprecated. Use packaging.version instead.\n",
      "  if LooseVersion(mpl.__version__) < \"3.0\":\n",
      "/opt/ohpc/pub/apps/python/3.8.12/lib/python3.8/site-packages/setuptools/_distutils/version.py:351: DeprecationWarning: distutils Version classes are deprecated. Use packaging.version instead.\n",
      "  other = LooseVersion(other)\n"
     ]
    },
    {
     "data": {
      "image/png": "[encoded data removed]",
      "text/plain": [
       "<Figure size 864x432 with 1 Axes>"
      ]
     },
     "metadata": {
      "needs_background": "light"
     },
     "output_type": "display_data"
    },
    {
     "ename": "TypeError",
     "evalue": "savefig() missing 1 required positional argument: 'fname'",
     "output_type": "error",
     "traceback": [
      "\u001b[0;31m---------------------------------------------------------------------------\u001b[0m",
      "\u001b[0;31mTypeError\u001b[0m                                 Traceback (most recent call last)",
      "Input \u001b[0;32mIn [407]\u001b[0m, in \u001b[0;36m<module>\u001b[0;34m\u001b[0m\n\u001b[1;32m     15\u001b[0m plt\u001b[38;5;241m.\u001b[39mlegend(\n\u001b[1;32m     16\u001b[0m     title\u001b[38;5;241m=\u001b[39m\u001b[38;5;124m\"\u001b[39m\u001b[38;5;124mDefault Status\u001b[39m\u001b[38;5;124m\"\u001b[39m,\n\u001b[1;32m     17\u001b[0m     labels\u001b[38;5;241m=\u001b[39m[\u001b[38;5;124m\"\u001b[39m\u001b[38;5;124m0: Not Defaulted\u001b[39m\u001b[38;5;124m\"\u001b[39m, \u001b[38;5;124m\"\u001b[39m\u001b[38;5;124m1: Defaulted\u001b[39m\u001b[38;5;124m\"\u001b[39m],\n\u001b[1;32m     18\u001b[0m     loc\u001b[38;5;241m=\u001b[39m\u001b[38;5;124m'\u001b[39m\u001b[38;5;124mupper right\u001b[39m\u001b[38;5;124m'\u001b[39m)\n\u001b[1;32m     19\u001b[0m plt\u001b[38;5;241m.\u001b[39mshow()\n\u001b[0;32m---> 20\u001b[0m \u001b[43mplt\u001b[49m\u001b[38;5;241;43m.\u001b[39;49m\u001b[43msavefig\u001b[49m\u001b[43m(\u001b[49m\u001b[43mdpi\u001b[49m\u001b[38;5;241;43m=\u001b[39;49m\u001b[38;5;241;43m300\u001b[39;49m\u001b[43m)\u001b[49m\n",
      "File \u001b[0;32m/opt/ohpc/pub/apps/python/3.8.12/lib/python3.8/site-packages/matplotlib/pyplot.py:958\u001b[0m, in \u001b[0;36msavefig\u001b[0;34m(*args, **kwargs)\u001b[0m\n\u001b[1;32m    955\u001b[0m \u001b[38;5;129m@_copy_docstring_and_deprecators\u001b[39m(Figure\u001b[38;5;241m.\u001b[39msavefig)\n\u001b[1;32m    956\u001b[0m \u001b[38;5;28;01mdef\u001b[39;00m \u001b[38;5;21msavefig\u001b[39m(\u001b[38;5;241m*\u001b[39margs, \u001b[38;5;241m*\u001b[39m\u001b[38;5;241m*\u001b[39mkwargs):\n\u001b[1;32m    957\u001b[0m     fig \u001b[38;5;241m=\u001b[39m gcf()\n\u001b[0;32m--> 958\u001b[0m     res \u001b[38;5;241m=\u001b[39m \u001b[43mfig\u001b[49m\u001b[38;5;241;43m.\u001b[39;49m\u001b[43msavefig\u001b[49m\u001b[43m(\u001b[49m\u001b[38;5;241;43m*\u001b[39;49m\u001b[43margs\u001b[49m\u001b[43m,\u001b[49m\u001b[43m \u001b[49m\u001b[38;5;241;43m*\u001b[39;49m\u001b[38;5;241;43m*\u001b[39;49m\u001b[43mkwargs\u001b[49m\u001b[43m)\u001b[49m\n\u001b[1;32m    959\u001b[0m     fig\u001b[38;5;241m.\u001b[39mcanvas\u001b[38;5;241m.\u001b[39mdraw_idle()   \u001b[38;5;66;03m# need this if 'transparent=True' to reset colors\u001b[39;00m\n\u001b[1;32m    960\u001b[0m     \u001b[38;5;28;01mreturn\u001b[39;00m res\n",
      "\u001b[0;31mTypeError\u001b[0m: savefig() missing 1 required positional argument: 'fname'"
     ]
    },
    {
     "data": {
      "text/plain": [
       "<Figure size 432x288 with 0 Axes>"
      ]
     },
     "metadata": {},
     "output_type": "display_data"
    }
   ],
   "source": [
    "df['Debt_to_Income_Bin'] = pd.cut(\n",
    "    df['Prct_deuda_vs_ingresos'],\n",
    "    bins=[0, .35, 0.49, float('inf')],  # Realistic thresholds\n",
    "    labels=['Low (0-35%)', 'Medium (36-49%)', 'High (>50%)'])\n",
    "# Bar plot for Debt-to-Income Ratio by Default\n",
    "plt.figure(figsize=(12, 6))\n",
    "ax = sns.countplot(x='Debt_to_Income_Bin', hue='Default', data=df)\n",
    "plt.title(\"Count of Clients by Debt-to-Income Ratio and Default Status\")\n",
    "plt.xlabel(\"Debt-to-Income Ratio\")\n",
    "plt.ylabel(\"Count\")\n",
    "for container in ax.containers:\n",
    "    # Safely handle NaN values in the bar labels\n",
    "    labels = [f'{int(value):,}' if not np.isnan(value) else '' for value in container.datavalues]\n",
    "    ax.bar_label(container, labels=labels, label_type='edge', fontsize=10, color='black', padding=3)\n",
    "plt.legend(\n",
    "    title=\"Default Status\",\n",
    "    labels=[\"0: Not Defaulted\", \"1: Defaulted\"],\n",
    "    loc='upper right')\n",
    "plt.show()\n",
    "plt.savefig(dpi=300)"
   ]
  },
  {
   "cell_type": "code",
   "execution_count": null,
   "id": "687b9ac3",
   "metadata": {},
   "outputs": [],
   "source": [
    "# # Binning Monthly Income in actual dollar ranges\n",
    "# df['Income_Category'] = pd.cut(\n",
    "#     df['Mto_ingreso_mensual'],\n",
    "#     bins=[0, 2000, 4000, 6000, 10000, float('inf')],\n",
    "#     labels=['Very Low', 'Low', 'Medium', 'High', 'Very High']\n",
    "# )\n",
    "\n",
    "# # Bar plot for Income Category by Default\n",
    "# plt.figure(figsize=(12, 6))\n",
    "# ax = sns.countplot(x='Income_Category', hue='Default', data=df)\n",
    "# plt.title(\"Count of Clients by Monthly Income Category and Default Status\")\n",
    "# plt.xlabel(\"Income Category\")\n",
    "# plt.ylabel(\"Count\")\n",
    "\n",
    "# # Add count labels on top of each bar with commas\n",
    "# for container in ax.containers:\n",
    "#     # Format labels with commas\n",
    "#     labels = [f'{int(value):,}' if value else '' for value in container.datavalues]\n",
    "#     ax.bar_label(container, labels=labels, label_type='edge', fontsize=10, color='black', padding=3)\n",
    "\n",
    "# # Customizing the legend with color-coded descriptions\n",
    "# plt.legend(\n",
    "#     title=\"Default Status\",\n",
    "#     labels=[\"0: Not Defaulted\", \"1: Defaulted\"],\n",
    "#     loc='upper right'\n",
    "# )\n",
    "\n",
    "# plt.show()"
   ]
  },
  {
   "cell_type": "code",
   "execution_count": null,
   "id": "9c5fe48d",
   "metadata": {},
   "outputs": [],
   "source": [
    "# Binning Monthly Income into realistic U.S.-based bins\n",
    "df['Income_Category'] = pd.cut(\n",
    "    df['Mto_ingreso_mensual'],\n",
    "    bins = [0, 2500, 4800, 7800, 12750, float('inf')],\n",
    "    labels = ['Very Low ($0-$2.5K)', \n",
    "    'Low ($2.5K-$4.8K)', \n",
    "    'Medium ($4.8K-$7.8K)', \n",
    "    'High ($7.8K-$12.75K)', \n",
    "    'Very High (>$12.75K)'])\n",
    "# Bar plot for Income Category by Default\n",
    "plt.figure(figsize=(12, 6))\n",
    "ax = sns.countplot(x='Income_Category', hue='Default', data=df)\n",
    "plt.title(\"Count of Clients by Monthly Income Category and Default Status\")\n",
    "plt.xlabel(\"Income Category\")\n",
    "plt.ylabel(\"Count\")\n",
    "# Add count labels on top of each bar with commas\n",
    "for container in ax.containers:\n",
    "    # Format labels with commas\n",
    "    labels = [f'{int(value):,}' if not np.isnan(value) else '' for value in container.datavalues]\n",
    "    ax.bar_label(container, labels=labels, label_type='edge', fontsize=10, color='black', padding=3)\n",
    "# Customizing the legend with color-coded descriptions\n",
    "plt.legend(\n",
    "    title=\"Default Status\",\n",
    "    labels=[\"0: Not Defaulted\", \"1: Defaulted\"],\n",
    "    loc='upper right')\n",
    "plt.show()"
   ]
  },
  {
   "cell_type": "code",
   "execution_count": null,
   "id": "613afec4",
   "metadata": {},
   "outputs": [],
   "source": [
    "# Plot 3: Boxplot (Age Distribution by Default)\n",
    "sns.boxplot(x='Default', y='Edad', data=df)\n",
    "\n",
    "plt.title(\"Age Distribution by Default Status\")\n",
    "plt.xlabel(\"Default (1 = Defaulted, 0 = Not Defaulted)\")\n",
    "plt.ylabel(\"Age\")\n",
    "plt.show()"
   ]
  },
  {
   "cell_type": "code",
   "execution_count": null,
   "id": "4f1161e5",
   "metadata": {},
   "outputs": [],
   "source": [
    "# # Box plot for Percentage of Credit Card Usage by Default Status\n",
    "# plt.figure(figsize=(12, 6))\n",
    "# sns.boxplot(x='Default', y='Prct_uso_tc', data=df)\n",
    "# plt.title(\"Percentage of Credit Card Usage by Default Status\")\n",
    "# plt.xlabel(\"Default Status (0 = Not Defaulted, 1 = Defaulted)\")\n",
    "# plt.ylabel(\"Percentage of Credit Card Usage\")\n",
    "# plt.show()\n"
   ]
  },
  {
   "cell_type": "code",
   "execution_count": null,
   "id": "9e85ff7b",
   "metadata": {},
   "outputs": [],
   "source": [
    "# Binning Age into groups\n",
    "df['Age_Group'] = pd.cut(\n",
    "    df['Edad'],\n",
    "    bins=[18, 29, 39,49, 59, 69, float('inf')],\n",
    "    labels=['18–29', '30-39', '40–49','50-59','60-69', '70+']\n",
    ")\n",
    "\n",
    "# Bar plot for Age Groups by Default Status\n",
    "plt.figure(figsize=(12, 6))\n",
    "sns.countplot(x='Age_Group', hue='Default', data=df)\n",
    "plt.title(\"Default Status by Age Group\")\n",
    "plt.xlabel(\"Age Group\")\n",
    "plt.ylabel(\"Count\")\n",
    "plt.legend(title=\"Default Status\", labels=[\"0: Not Defaulted\", \"1: Defaulted\"])\n",
    "plt.show()\n"
   ]
  },
  {
   "cell_type": "code",
   "execution_count": null,
   "id": "b20767d0",
   "metadata": {},
   "outputs": [],
   "source": [
    "avg_delayed_loans = df.groupby('Default')['Nro_prestao_retrasados'].mean()\n",
    "\n",
    "plt.figure(figsize=(12, 6))\n",
    "avg_delayed_loans.plot(kind='bar', color=['blue', 'orange'])\n",
    "plt.title(\"Average Number of Delayed Loans (>3 Months) by Default Status\")\n",
    "plt.xlabel(\"Default Status (0 = Not Defaulted, 1 = Defaulted)\")\n",
    "plt.ylabel(\"Average Number of Delayed Loans\")\n",
    "plt.xticks(rotation=0)\n",
    "plt.show()"
   ]
  },
  {
   "cell_type": "code",
   "execution_count": null,
   "id": "698a2681",
   "metadata": {},
   "outputs": [],
   "source": [
    "avg_financial_products = df.groupby('Default')['Nro_prod_financieros_deuda'].mean()\n",
    "\n",
    "plt.figure(figsize=(12, 6))\n",
    "avg_financial_products.plot(kind='bar', color=['blue', 'orange'])\n",
    "plt.title(\"Average Number of Financial Products by Default Status\")\n",
    "plt.xlabel(\"Default Status (0 = Not Defaulted, 1 = Defaulted)\")\n",
    "plt.ylabel(\"Average Number of Financial Products\")\n",
    "plt.xticks(rotation=0)\n",
    "plt.show()"
   ]
  },
  {
   "cell_type": "code",
   "execution_count": 408,
   "id": "7f8f04c7",
   "metadata": {},
   "outputs": [
    {
     "data": {
      "image/png": "[encoded data removed]",
      "text/plain": [
       "<Figure size 864x432 with 1 Axes>"
      ]
     },
     "metadata": {
      "needs_background": "light"
     },
     "output_type": "display_data"
    }
   ],
   "source": [
    "# Box plot for Number of Dependents by Default Status\n",
    "plt.figure(figsize=(12, 6))\n",
    "sns.boxplot(x='Default', y='Nro_dependiente', data=df)\n",
    "plt.title(\"Number of Dependents by Default Status\")\n",
    "plt.xlabel(\"Default Status (0 = Not Defaulted, 1 = Defaulted)\")\n",
    "plt.ylabel(\"Number of Dependents\")\n",
    "plt.show()\n"
   ]
  },
  {
   "cell_type": "code",
   "execution_count": null,
   "id": "3cf36f9c",
   "metadata": {},
   "outputs": [],
   "source": [
    "df[df['Default'] == 0]['Nro_dependiente'].describe()"
   ]
  },
  {
   "cell_type": "code",
   "execution_count": null,
   "id": "60e639bd",
   "metadata": {},
   "outputs": [],
   "source": [
    "df[df['Default'] == 1]['Nro_dependiente'].describe()"
   ]
  },
  {
   "cell_type": "code",
   "execution_count": null,
   "id": "b8657c7a",
   "metadata": {},
   "outputs": [],
   "source": [
    "# plt.figure(figsize=(12, 6))\n",
    "# sns.boxplot(x='Default', y='Prct_uso_tc', data=df, palette='coolwarm')\n",
    "# plt.title(\"Percentage of Credit Card Usage by Default Status\", fontsize=16)\n",
    "# plt.xlabel(\"Default Status (0 = Not Defaulted, 1 = Defaulted)\", fontsize=12)\n",
    "# plt.ylabel(\"Percentage of Credit Card Usage\", fontsize=12)\n",
    "# plt.xticks(fontsize=10)\n",
    "# plt.yticks(fontsize=10)\n",
    "# plt.grid(axis='y', linestyle='--', alpha=0.7)\n",
    "# plt.show()\n"
   ]
  },
  {
   "cell_type": "code",
   "execution_count": null,
   "id": "1baa79c4",
   "metadata": {},
   "outputs": [],
   "source": []
  },
  {
   "cell_type": "code",
   "execution_count": 187,
   "id": "aeabc706",
   "metadata": {},
   "outputs": [],
   "source": [
    "# fig, axes = plt.subplots(1, 2, figsize=(16, 6))\n",
    "\n",
    "# sns.boxplot(ax=axes[0], x='Default', y='Prct_uso_tc', data=df, palette='coolwarm')\n",
    "# axes[0].set_title(\"Percentage of Credit Card Usage by Default Status\", fontsize=14)\n",
    "# axes[0].set_xlabel(\"Default Status (0 = Not Defaulted, 1 = Defaulted)\")\n",
    "# axes[0].set_ylabel(\"Percentage of Credit Card Usage\")\n",
    "# axes[0].grid(axis='y', linestyle='--', alpha=0.7)\n",
    "\n",
    "# avg_delayed_loans = df.groupby('Default')['Nro_prestao_retrasados'].mean()\n",
    "# avg_delayed_loans.plot(kind='bar', ax=axes[1], color=['#1f77b4', '#ff7f0e'], edgecolor='black')\n",
    "# axes[1].set_title(\"Average Number of Delayed Loans (>3 Months)\", fontsize=14)\n",
    "# axes[1].set_xlabel(\"Default Status (0 = Not Defaulted, 1 = Defaulted)\")\n",
    "# axes[1].set_ylabel(\"Average Number of Delayed Loans\")\n",
    "# axes[1].grid(axis='y', linestyle='--', alpha=0.7)\n",
    "\n",
    "# plt.tight_layout()\n",
    "# plt.show()"
   ]
  },
  {
   "cell_type": "code",
   "execution_count": 311,
   "id": "1dd0a5a8",
   "metadata": {},
   "outputs": [],
   "source": [
    "# fig, axes = plt.subplots(1, 2, figsize=(16, 6))\n",
    "\n",
    "# sns.countplot(ax=axes[0], x='Age_Group', hue='Default', data=df, palette='Set2')\n",
    "# axes[0].set_title(\"Default Status by Age Group\", fontsize=14)\n",
    "# axes[0].set_xlabel(\"Age Group\")\n",
    "# axes[0].set_ylabel(\"Count\")\n",
    "# axes[0].legend(title=\"Default Status\", labels=[\"0: Not Defaulted\", \"1: Defaulted\"], fontsize=10)\n",
    "# axes[0].grid(axis='y', linestyle='--', alpha=0.7)\n",
    "\n",
    "# sns.boxplot(ax=axes[1], x='Default', y='Nro_dependiente', data=df, palette='husl')\n",
    "# axes[1].set_title(\"Number of Dependents by Default Status\", fontsize=14)\n",
    "# axes[1].set_xlabel(\"Default Status (0 = Not Defaulted, 1 = Defaulted)\")\n",
    "# axes[1].set_ylabel(\"Number of Dependents\")\n",
    "# axes[1].grid(axis='y', linestyle='--', alpha=0.7)\n",
    "\n",
    "# plt.tight_layout()\n",
    "# plt.show()"
   ]
  },
  {
   "cell_type": "code",
   "execution_count": null,
   "id": "d3467c19",
   "metadata": {},
   "outputs": [],
   "source": [
    "plt.figure(figsize=(8, 6))\n",
    "avg_financial_products = df.groupby('Default')['Nro_prod_financieros_deuda'].mean()\n",
    "avg_financial_products.plot(kind='bar', color=['#1f77b4', '#ff7f0e'], edgecolor='black')\n",
    "plt.title(\"Average Number of Financial Products by Default Status\", fontsize=16)\n",
    "plt.xlabel(\"Default Status (0 = Not Defaulted, 1 = Defaulted)\", fontsize=12)\n",
    "plt.ylabel(\"Average Number of Financial Products\", fontsize=12)\n",
    "plt.xticks(rotation=0, fontsize=10)\n",
    "plt.yticks(fontsize=10)\n",
    "plt.grid(axis='y', linestyle='--', alpha=0.7)\n",
    "plt.show()"
   ]
  },
  {
   "cell_type": "markdown",
   "id": "59471f40",
   "metadata": {},
   "source": [
    "### Clusterring"
   ]
  },
  {
   "cell_type": "code",
   "execution_count": null,
   "id": "8a68b346",
   "metadata": {},
   "outputs": [],
   "source": [
    "from sklearn.preprocessing import StandardScaler\n",
    "from sklearn.decomposition import PCA\n",
    "from sklearn.cluster import KMeans\n",
    "import matplotlib.pyplot as plt\n",
    "import pandas as pd\n",
    "\n",
    "numeric_cols = ['Prct_uso_tc', 'Edad', 'Nro_prestao_retrasados', 'Prct_deuda_vs_ingresos', \n",
    "                'Mto_ingreso_mensual', 'Nro_prod_financieros_deuda', \n",
    "                'Nro_retraso_60dias', 'Nro_creditos_hipotecarios', 'Nro_retraso_ultm3anios', 'Nro_dependiente']\n",
    "\n",
    "df_numeric = df[numeric_cols].dropna()\n",
    "\n",
    "scaler = StandardScaler()\n",
    "scaled_data = scaler.fit_transform(df_numeric)"
   ]
  },
  {
   "cell_type": "code",
   "execution_count": null,
   "id": "bb1725fe",
   "metadata": {},
   "outputs": [],
   "source": [
    "inertia = []\n",
    "k_range = range(1, 11)\n",
    "\n",
    "for k in k_range:\n",
    "    kmeans = KMeans(n_clusters=k, random_state=42)\n",
    "    kmeans.fit(scaled_data)\n",
    "    inertia.append(kmeans.inertia_)\n",
    "\n",
    "plt.figure(figsize=(10, 6))\n",
    "plt.plot(k_range, inertia, marker='o', linestyle='--')\n",
    "plt.title(\"Elbow Method for Optimal K\", fontsize=14)\n",
    "plt.xlabel(\"Number of Clusters (k)\", fontsize=12)\n",
    "plt.ylabel(\"Inertia\", fontsize=12)\n",
    "plt.xticks(k_range)\n",
    "plt.grid(True, linestyle='--', alpha=0.7)\n",
    "plt.show()"
   ]
  },
  {
   "cell_type": "code",
   "execution_count": null,
   "id": "507232b2",
   "metadata": {},
   "outputs": [],
   "source": []
  },
  {
   "cell_type": "code",
   "execution_count": null,
   "id": "ef58851e",
   "metadata": {},
   "outputs": [],
   "source": [
    "\n",
    "optimal_k = 2\n",
    "kmeans = KMeans(n_clusters=optimal_k, random_state=42)\n",
    "clusters = kmeans.fit_predict(scaled_data)\n",
    "\n",
    "df_numeric['Cluster'] = clusters\n",
    "pca = PCA(n_components=2)\n",
    "\n",
    "pca_data = pca.fit_transform(scaled_data)\n",
    "\n",
    "# Create a dataframe for plotting\n",
    "pca_df = pd.DataFrame(data=pca_data, columns=['PCA1', 'PCA2'])\n",
    "pca_df['Cluster'] = clusters\n",
    "\n",
    "# Plot the clusters\n",
    "plt.figure(figsize=(12, 8))\n",
    "sns.scatterplot(x='PCA1', y='PCA2', hue='Cluster', data=pca_df, palette='Set2', s=100, edgecolor='black')\n",
    "plt.title(\"K-Means Clustering (PCA Projection)\", fontsize=16)\n",
    "plt.xlabel(\"Principal Component 1\", fontsize=12)\n",
    "plt.ylabel(\"Principal Component 2\", fontsize=12)\n",
    "plt.legend(title=\"Cluster\", fontsize=10)\n",
    "plt.grid(True, linestyle='--', alpha=0.7)\n",
    "plt.show()\n"
   ]
  },
  {
   "cell_type": "code",
   "execution_count": 189,
   "id": "ff74918b",
   "metadata": {},
   "outputs": [
    {
     "data": {
      "image/png": "[encoded data removed]",
      "text/plain": [
       "<Figure size 1080x720 with 1 Axes>"
      ]
     },
     "metadata": {
      "needs_background": "light"
     },
     "output_type": "display_data"
    }
   ],
   "source": [
    "sampled_data = scaled_data[:1000] if scaled_data.shape[0] > 1000 else scaled_data  # Sample for large data\n",
    "linked = linkage(sampled_data, method='ward')\n",
    "\n",
    "plt.figure(figsize=(15, 10))\n",
    "dendrogram(linked, truncate_mode='level', p=5, leaf_rotation=45, leaf_font_size=12, color_threshold=0.5 * np.max(linked[:, 2]))\n",
    "plt.title(\"Dendrogram for Hierarchical Clustering\", fontsize=16)\n",
    "plt.xlabel(\"Cluster Size\", fontsize=12)\n",
    "plt.ylabel(\"Distance\", fontsize=12)\n",
    "plt.grid(True, linestyle='--', alpha=0.7)\n",
    "plt.show()"
   ]
  },
  {
   "cell_type": "code",
   "execution_count": null,
   "id": "7e5116fb",
   "metadata": {},
   "outputs": [
    {
     "name": "stdout",
     "output_type": "stream",
     "text": [
      "Silhouette Score for k=2: 0.9317910326846138\n"
     ]
    }
   ],
   "source": [
    "# from sklearn.metrics import silhouette_score\n",
    "\n",
    "# for k in range(2, 10):\n",
    "#     kmeans = KMeans(n_clusters=k, random_state=42)\n",
    "#     labels = kmeans.fit_predict(scaled_data)\n",
    "#     score = silhouette_score(scaled_data, labels)\n",
    "#     print(f\"Silhouette Score for k={k}: {score}\")\n"
   ]
  },
  {
   "cell_type": "code",
   "execution_count": null,
   "id": "9a5ba36e",
   "metadata": {},
   "outputs": [],
   "source": [
    "# from sklearn.cluster import KMeans\n",
    "# from sklearn.metrics import silhouette_score\n",
    "# import matplotlib.pyplot as plt\n",
    "\n",
    "# # Perform silhouette analysis for a range of cluster numbers\n",
    "# silhouette_scores = []\n",
    "# k_range = range(2, 11)  # Evaluate k from 2 to 10\n",
    "\n",
    "# for k in k_range:\n",
    "#     kmeans = KMeans(n_clusters=k, random_state=42)\n",
    "#     labels = kmeans.fit_predict(scaled_data)  # scaled_data is your standardized dataset\n",
    "#     score = silhouette_score(scaled_data, labels)\n",
    "#     silhouette_scores.append(score)\n",
    "\n",
    "# # Plot silhouette scores for each k\n",
    "# plt.figure(figsize=(10, 6))\n",
    "# plt.plot(k_range, silhouette_scores, marker='o', linestyle='--')\n",
    "# plt.title(\"Silhouette Analysis for Optimal k\", fontsize=14)\n",
    "# plt.xlabel(\"Number of Clusters (k)\", fontsize=12)\n",
    "# plt.ylabel(\"Silhouette Score\", fontsize=12)\n",
    "# plt.xticks(k_range)\n",
    "# plt.grid(True, linestyle='--', alpha=0.7)\n",
    "# plt.show()\n",
    "\n",
    "# # Find and print the optimal k with the highest silhouette score\n",
    "# optimal_k = k_range[silhouette_scores.index(max(silhouette_scores))]\n",
    "# print(f\"Optimal number of clusters based on silhouette score: {optimal_k}\")\n"
   ]
  },
  {
   "cell_type": "code",
   "execution_count": null,
   "id": "3afb349e",
   "metadata": {},
   "outputs": [],
   "source": []
  },
  {
   "cell_type": "code",
   "execution_count": 120,
   "id": "0984f8af",
   "metadata": {},
   "outputs": [],
   "source": [
    "# from sklearn.metrics import silhouette_score, silhouette_samples\n",
    "# import numpy as np\n",
    "\n",
    "# # Calculate the silhouette score\n",
    "# silhouette_avg = silhouette_score(scaled_data, clusters_agg)\n",
    "# print(f\"Silhouette Score: {silhouette_avg:.2f}\")\n",
    "\n",
    "# # Calculate silhouette values for each sample\n",
    "# silhouette_vals = silhouette_samples(scaled_data, clusters_agg)\n",
    "\n",
    "# # Plot silhouette scores for each cluster\n",
    "# plt.figure(figsize=(10, 8))\n",
    "# y_lower = 10\n",
    "# for i in range(optimal_clusters):\n",
    "#     ith_cluster_silhouette_vals = silhouette_vals[clusters_agg == i]\n",
    "#     ith_cluster_silhouette_vals.sort()\n",
    "#     size_cluster_i = ith_cluster_silhouette_vals.shape[0]\n",
    "#     y_upper = y_lower + size_cluster_i\n",
    "\n",
    "#     plt.fill_betweenx(np.arange(y_lower, y_upper), 0, ith_cluster_silhouette_vals)\n",
    "#     plt.text(-0.05, y_lower + 0.5 * size_cluster_i, str(i))\n",
    "\n",
    "#     y_lower = y_upper + 10\n",
    "\n",
    "# plt.axvline(x=silhouette_avg, color=\"red\", linestyle=\"--\")\n",
    "# plt.title(\"Silhouette Plot for DIANA Clustering\")\n",
    "# plt.xlabel(\"Silhouette Coefficient Values\")\n",
    "# plt.ylabel(\"Cluster\")\n",
    "# plt.show()\n"
   ]
  },
  {
   "cell_type": "code",
   "execution_count": null,
   "id": "072767c5",
   "metadata": {},
   "outputs": [],
   "source": []
  },
  {
   "cell_type": "markdown",
   "id": "40d1a722",
   "metadata": {},
   "source": [
    "### Classifications"
   ]
  },
  {
   "cell_type": "code",
   "execution_count": 190,
   "id": "3de909d3",
   "metadata": {},
   "outputs": [],
   "source": [
    "from sklearn.tree import DecisionTreeClassifier\n",
    "from sklearn.naive_bayes import GaussianNB\n",
    "from sklearn.ensemble import RandomForestClassifier\n",
    "from sklearn.svm import SVC\n",
    "from sklearn.neighbors import KNeighborsClassifier\n",
    "from sklearn.metrics import classification_report, accuracy_score\n",
    "from sklearn.impute import SimpleImputer\n"
   ]
  },
  {
   "cell_type": "code",
   "execution_count": 191,
   "id": "504e595a",
   "metadata": {},
   "outputs": [],
   "source": [
    "# Selecting the identified features and the target variable\n",
    "selected_features = ['Prct_deuda_vs_ingresos', 'Mto_ingreso_mensual', 'Edad', \n",
    "                     'Nro_prestao_retrasados', 'Nro_dependiente', 'Prct_uso_tc']\n",
    "target = 'Default'\n",
    "\n",
    "# Handling missing values with imputation\n",
    "imputer = SimpleImputer(strategy='mean')\n",
    "df[selected_features] = imputer.fit_transform(df[selected_features])\n",
    "\n",
    "# Splitting into features (X) and target variable (y)\n",
    "X = df[selected_features]\n",
    "y = df[target]\n",
    "\n",
    "# Scaling the features\n",
    "scaler = StandardScaler()\n",
    "X_scaled = scaler.fit_transform(X)\n",
    "\n",
    "# Splitting into training and test sets\n",
    "X_train, X_test, y_train, y_test = train_test_split(X_scaled, y, test_size=0.2, random_state=42)"
   ]
  },
  {
   "cell_type": "markdown",
   "id": "42175a83",
   "metadata": {},
   "source": [
    "### Decision Tree Classifier"
   ]
  },
  {
   "cell_type": "code",
   "execution_count": 192,
   "id": "d5729153",
   "metadata": {},
   "outputs": [
    {
     "name": "stdout",
     "output_type": "stream",
     "text": [
      "----- Decision Tree -----\n",
      "Accuracy: 0.89\n",
      "Classification Report:\n",
      "               precision    recall  f1-score   support\n",
      "\n",
      "           0       0.95      0.94      0.94     28044\n",
      "           1       0.20      0.23      0.22      1956\n",
      "\n",
      "    accuracy                           0.89     30000\n",
      "   macro avg       0.57      0.58      0.58     30000\n",
      "weighted avg       0.90      0.89      0.89     30000\n",
      "\n"
     ]
    }
   ],
   "source": [
    "# Initialize and train the model\n",
    "dt_model = DecisionTreeClassifier(random_state=42)\n",
    "dt_model.fit(X_train, y_train)\n",
    "\n",
    "# Make predictions\n",
    "y_pred_dt = dt_model.predict(X_test)\n",
    "\n",
    "# Evaluate the model\n",
    "print(\"----- Decision Tree -----\")\n",
    "print(f\"Accuracy: {accuracy_score(y_test, y_pred_dt):.2f}\")\n",
    "print(\"Classification Report:\\n\", classification_report(y_test, y_pred_dt))"
   ]
  },
  {
   "cell_type": "code",
   "execution_count": 193,
   "id": "0a16bcd0",
   "metadata": {},
   "outputs": [
    {
     "data": {
      "image/png": "[encoded data removed]",
      "text/plain": [
       "<Figure size 432x432 with 1 Axes>"
      ]
     },
     "metadata": {
      "needs_background": "light"
     },
     "output_type": "display_data"
    }
   ],
   "source": [
    "import matplotlib.pyplot as plt\n",
    "import numpy as np\n",
    "from sklearn.tree import DecisionTreeClassifier\n",
    "from sklearn.metrics import confusion_matrix, ConfusionMatrixDisplay\n",
    "\n",
    "# Train and predict using the Decision Tree model\n",
    "dt_model = DecisionTreeClassifier(random_state=42)\n",
    "dt_model.fit(X_train, y_train)\n",
    "y_pred_dt = dt_model.predict(X_test)\n",
    "\n",
    "# Compute confusion matrix\n",
    "cm = confusion_matrix(y_test, y_pred_dt)\n",
    "\n",
    "# Create a custom confusion matrix plot\n",
    "fig, ax = plt.subplots(figsize=(6, 6))\n",
    "ax.matshow(cm, cmap='coolwarm', alpha=0.6)\n",
    "for i in range(cm.shape[0]):\n",
    "    for j in range(cm.shape[1]):\n",
    "        ax.text(x=j, y=i, s=cm[i, j], va='center', ha='center', size=15)\n",
    "\n",
    "# Customize axes and labels\n",
    "ax.set_title(\"Confusion Matrix\", pad=20, fontsize=14)\n",
    "ax.set_xlabel(\"Actual\", fontsize=12)\n",
    "ax.set_ylabel(\"Predicted\", fontsize=12)\n",
    "ax.xaxis.set_label_position('top')\n",
    "ax.xaxis.tick_top()\n",
    "ax.set_xticks(range(len(np.unique(y_test))))\n",
    "ax.set_yticks(range(len(np.unique(y_test))))\n",
    "ax.set_xticklabels([f\"Actual: {i}\" for i in np.unique(y_test)])\n",
    "ax.set_yticklabels([f\"Predicted: {i}\" for i in np.unique(y_test)])\n",
    "plt.show()\n"
   ]
  },
  {
   "cell_type": "markdown",
   "id": "06f770ae",
   "metadata": {},
   "source": [
    "### Random Forest Classifier"
   ]
  },
  {
   "cell_type": "code",
   "execution_count": 194,
   "id": "3fc50451",
   "metadata": {},
   "outputs": [
    {
     "name": "stdout",
     "output_type": "stream",
     "text": [
      "Accuracy: 0.9347666666666666\n",
      "Classification Report:\n",
      "               precision    recall  f1-score   support\n",
      "\n",
      "           0       0.94      0.99      0.97     28044\n",
      "           1       0.50      0.11      0.19      1956\n",
      "\n",
      "    accuracy                           0.93     30000\n",
      "   macro avg       0.72      0.55      0.58     30000\n",
      "weighted avg       0.91      0.93      0.92     30000\n",
      "\n"
     ]
    }
   ],
   "source": [
    "# Building and training a Random Forest classifier\n",
    "rf_model = RandomForestClassifier(random_state=42, n_estimators=100)\n",
    "rf_model.fit(X_train, y_train)\n",
    "\n",
    "# Making predictions\n",
    "y_pred = rf_model.predict(X_test)\n",
    "\n",
    "# Evaluating the model\n",
    "accuracy = accuracy_score(y_test, y_pred)\n",
    "print(\"Accuracy:\", accuracy)\n",
    "print(\"Classification Report:\\n\", classification_report(y_test, y_pred))"
   ]
  },
  {
   "cell_type": "markdown",
   "id": "9c04494c",
   "metadata": {},
   "source": [
    "### Naive Bayes Classifier"
   ]
  },
  {
   "cell_type": "code",
   "execution_count": 195,
   "id": "3e9b9325",
   "metadata": {},
   "outputs": [
    {
     "name": "stdout",
     "output_type": "stream",
     "text": [
      "----- Naive Bayes -----\n",
      "Accuracy: 0.93\n",
      "Classification Report:\n",
      "               precision    recall  f1-score   support\n",
      "\n",
      "           0       0.94      0.99      0.96     28044\n",
      "           1       0.30      0.03      0.06      1956\n",
      "\n",
      "    accuracy                           0.93     30000\n",
      "   macro avg       0.62      0.51      0.51     30000\n",
      "weighted avg       0.90      0.93      0.91     30000\n",
      "\n"
     ]
    }
   ],
   "source": [
    "# Naive Bayes Classifier\n",
    "from sklearn.naive_bayes import GaussianNB\n",
    "\n",
    "# Initialize and train the model\n",
    "nb_model = GaussianNB()\n",
    "nb_model.fit(X_train, y_train)\n",
    "\n",
    "# Make predictions\n",
    "y_pred_nb = nb_model.predict(X_test)\n",
    "\n",
    "# Evaluate the model\n",
    "print(\"----- Naive Bayes -----\")\n",
    "print(f\"Accuracy: {accuracy_score(y_test, y_pred_nb):.2f}\")\n",
    "print(\"Classification Report:\\n\", classification_report(y_test, y_pred_nb))\n"
   ]
  },
  {
   "cell_type": "markdown",
   "id": "923c6db3",
   "metadata": {},
   "source": [
    "### Support Vector Machine Classifier"
   ]
  },
  {
   "cell_type": "code",
   "execution_count": 33,
   "id": "7dab913a",
   "metadata": {},
   "outputs": [
    {
     "name": "stdout",
     "output_type": "stream",
     "text": [
      "----- SVM -----\n",
      "Accuracy: 0.94\n",
      "Classification Report:\n",
      "               precision    recall  f1-score   support\n",
      "\n",
      "           0       0.94      1.00      0.97     28044\n",
      "           1       0.78      0.01      0.02      1956\n",
      "\n",
      "    accuracy                           0.94     30000\n",
      "   macro avg       0.86      0.50      0.49     30000\n",
      "weighted avg       0.93      0.94      0.90     30000\n",
      "\n"
     ]
    }
   ],
   "source": [
    "# # Support Vector Machine Classifier\n",
    "# from sklearn.svm import SVC\n",
    "\n",
    "# # Initialize and train the model\n",
    "# svm_model = SVC(kernel='linear', random_state=42)\n",
    "# svm_model.fit(X_train, y_train)\n",
    "\n",
    "# # Make predictions\n",
    "# y_pred_svm = svm_model.predict(X_test)\n",
    "\n",
    "# # Evaluate the model\n",
    "# print(\"----- SVM -----\")\n",
    "# print(f\"Accuracy: {accuracy_score(y_test, y_pred_svm):.2f}\")\n",
    "# print(\"Classification Report:\\n\", classification_report(y_test, y_pred_svm))\n"
   ]
  },
  {
   "cell_type": "code",
   "execution_count": 196,
   "id": "fa151cc9",
   "metadata": {},
   "outputs": [],
   "source": [
    "# from sklearn.svm import SVC\n",
    "# from sklearn.model_selection import GridSearchCV\n",
    "# from sklearn.preprocessing import StandardScaler\n",
    "\n",
    "# # Scale your data\n",
    "# scaler = StandardScaler()\n",
    "# X_train_scaled = scaler.fit_transform(X_train)\n",
    "# X_test_scaled = scaler.transform(X_test)\n",
    "\n",
    "# # Define the parameter grid\n",
    "# param_grid = {\n",
    "#     'C': [0.1, 1, 10, 100],\n",
    "#     'gamma': [1, 0.1, 0.01, 0.001],\n",
    "#     'kernel': ['linear', 'rbf']\n",
    "# }\n",
    "\n",
    "# # Initialize GridSearchCV\n",
    "# grid_search = GridSearchCV(\n",
    "#     SVC(random_state=42),\n",
    "#     param_grid,\n",
    "#     cv=3,\n",
    "#     verbose=2,\n",
    "#     n_jobs=-1,\n",
    "#     return_train_score=True  # Include training scores\n",
    "# )\n",
    "\n",
    "# # Fit the model\n",
    "# grid_search.fit(X_train_scaled, y_train)\n"
   ]
  },
  {
   "cell_type": "code",
   "execution_count": null,
   "id": "c94c93bb",
   "metadata": {},
   "outputs": [],
   "source": [
    "# import pandas as pd\n",
    "\n",
    "# # Convert the cv_results_ dictionary to a pandas DataFrame\n",
    "# results_df = pd.DataFrame(grid_search.cv_results_)\n"
   ]
  },
  {
   "cell_type": "code",
   "execution_count": null,
   "id": "bb82b0dc",
   "metadata": {},
   "outputs": [],
   "source": [
    "# import matplotlib.pyplot as plt\n",
    "\n",
    "# # Filter results for the linear kernel\n",
    "# linear_results = results_df[results_df['param_kernel'] == 'linear']\n",
    "\n",
    "# # Plot mean test score vs. C\n",
    "# plt.figure(figsize=(8, 6))\n",
    "# plt.plot(\n",
    "#     linear_results['param_C'].astype('float'),\n",
    "#     linear_results['mean_test_score'],\n",
    "#     marker='o'\n",
    "# )\n",
    "# plt.xscale('log')\n",
    "# plt.xlabel('C (Regularization Parameter)', fontsize=12)\n",
    "# plt.ylabel('Mean Cross-Validated Accuracy', fontsize=12)\n",
    "# plt.title('SVM Performance vs. C (Linear Kernel)', fontsize=14)\n",
    "# plt.grid(True, linestyle='--', alpha=0.7)\n",
    "# plt.show()\n"
   ]
  },
  {
   "cell_type": "code",
   "execution_count": null,
   "id": "3938fef5",
   "metadata": {},
   "outputs": [],
   "source": [
    "# import seaborn as sns\n",
    "# import numpy as np\n",
    "\n",
    "# # Filter results for the RBF kernel\n",
    "# rbf_results = results_df[results_df['param_kernel'] == 'rbf']\n",
    "\n",
    "# # Pivot the DataFrame to create a matrix for heatmap\n",
    "# pivot_table = rbf_results.pivot(\n",
    "#     index='param_gamma',\n",
    "#     columns='param_C',\n",
    "#     values='mean_test_score'\n",
    "# )\n",
    "\n",
    "# # Convert parameter values to float\n",
    "# pivot_table.index = pivot_table.index.astype('float')\n",
    "# pivot_table.columns = pivot_table.columns.astype('float')\n",
    "\n",
    "# # Plot heatmap\n",
    "# plt.figure(figsize=(10, 8))\n",
    "# sns.heatmap(\n",
    "#     pivot_table,\n",
    "#     annot=True,\n",
    "#     fmt=\".3f\",\n",
    "#     cmap='viridis',\n",
    "#     cbar_kws={'label': 'Mean CV Accuracy'}\n",
    "# )\n",
    "# plt.xscale('log')\n",
    "# plt.yscale('log')\n",
    "# plt.xlabel('C (Regularization Parameter)', fontsize=12)\n",
    "# plt.ylabel('Gamma (Kernel Coefficient)', fontsize=12)\n",
    "# plt.title('SVM Performance Heatmap (RBF Kernel)', fontsize=14)\n",
    "# plt.show()\n"
   ]
  },
  {
   "cell_type": "code",
   "execution_count": null,
   "id": "41b1b073",
   "metadata": {},
   "outputs": [],
   "source": []
  },
  {
   "cell_type": "code",
   "execution_count": null,
   "id": "933e6554",
   "metadata": {},
   "outputs": [],
   "source": []
  },
  {
   "cell_type": "markdown",
   "id": "af886f35",
   "metadata": {},
   "source": [
    "### K-Nearest Neighbors Classifier"
   ]
  },
  {
   "cell_type": "code",
   "execution_count": 32,
   "id": "cbc15102",
   "metadata": {},
   "outputs": [
    {
     "name": "stdout",
     "output_type": "stream",
     "text": [
      "----- KNN -----\n",
      "Accuracy: 0.93\n",
      "Classification Report:\n",
      "               precision    recall  f1-score   support\n",
      "\n",
      "           0       0.94      0.99      0.96     28044\n",
      "           1       0.28      0.04      0.08      1956\n",
      "\n",
      "    accuracy                           0.93     30000\n",
      "   macro avg       0.61      0.52      0.52     30000\n",
      "weighted avg       0.89      0.93      0.91     30000\n",
      "\n"
     ]
    }
   ],
   "source": [
    "# K-Nearest Neighbors Classifier\n",
    "from sklearn.neighbors import KNeighborsClassifier\n",
    "\n",
    "# Initialize and train the model\n",
    "knn_model = KNeighborsClassifier(n_neighbors=2)\n",
    "knn_model.fit(X_train, y_train)\n",
    "\n",
    "# Make predictions\n",
    "y_pred_knn = knn_model.predict(X_test)\n",
    "\n",
    "# Evaluate the model\n",
    "print(\"----- KNN -----\")\n",
    "print(f\"Accuracy: {accuracy_score(y_test, y_pred_knn):.2f}\")\n",
    "print(\"Classification Report:\\n\", classification_report(y_test, y_pred_knn))\n"
   ]
  },
  {
   "cell_type": "markdown",
   "id": "52436094",
   "metadata": {},
   "source": [
    "## All together"
   ]
  },
  {
   "cell_type": "code",
   "execution_count": null,
   "id": "fe0f4434",
   "metadata": {},
   "outputs": [],
   "source": [
    "# # Importing required libraries\n",
    "# from sklearn.tree import DecisionTreeClassifier\n",
    "# from sklearn.naive_bayes import GaussianNB\n",
    "# from sklearn.ensemble import RandomForestClassifier\n",
    "# from sklearn.svm import SVC\n",
    "# from sklearn.neighbors import KNeighborsClassifier\n",
    "# from sklearn.metrics import classification_report, accuracy_score\n",
    "\n",
    "# # Initializing classifiers\n",
    "# classifiers = {\n",
    "#     'Decision Tree': DecisionTreeClassifier(random_state=42),\n",
    "#     'Naive Bayes': GaussianNB(),\n",
    "#     'Random Forest': RandomForestClassifier(random_state=42, n_estimators=100),\n",
    "#     'SVM': SVC(kernel='linear', random_state=42),\n",
    "#     'KNN': KNeighborsClassifier(n_neighbors=5)\n",
    "# }\n",
    "\n",
    "# # Training and evaluating classifiers\n",
    "# for name, classifier in classifiers.items():\n",
    "#     print(f\"--- {name} ---\")\n",
    "    \n",
    "#     # Train the model\n",
    "#     classifier.fit(X_train, y_train)\n",
    "    \n",
    "#     # Predict on the test set\n",
    "#     y_pred = classifier.predict(X_test)\n",
    "    \n",
    "#     # Evaluate the model\n",
    "#     accuracy = accuracy_score(y_test, y_pred)\n",
    "#     print(f\"Accuracy: {accuracy:.2f}\")\n",
    "#     print(\"Classification Report:\\n\", classification_report(y_test, y_pred))\n",
    "#     print(\"\\n\")\n"
   ]
  },
  {
   "cell_type": "markdown",
   "id": "62d6ac6b",
   "metadata": {},
   "source": [
    "### ASSOCIATION RULES​"
   ]
  },
  {
   "cell_type": "code",
   "execution_count": 391,
   "id": "65f7b305",
   "metadata": {},
   "outputs": [
    {
     "data": {
      "text/plain": [
       "0         High\n",
       "1          Low\n",
       "2          Low\n",
       "3          Low\n",
       "4    Very High\n",
       "Name: income_bin, dtype: category\n",
       "Categories (5, object): ['Very Low' < 'Low' < 'Medium' < 'High' < 'Very High']"
      ]
     },
     "execution_count": 391,
     "metadata": {},
     "output_type": "execute_result"
    }
   ],
   "source": [
    "# Discretize continuous variables into bins\n",
    "df['income_bin'] = pd.cut(df['Mto_ingreso_mensual'], bins=[0, 2500, 4800, 7800, 12750, float('inf')], \n",
    "                          labels=['Very Low', 'Low', 'Medium', 'High','Very High'])\n",
    "# df['Mto_ingreso_mensual_bin'] = pd.cut(df['Mto_ingreso_mensual'], bins=[0, 5000, 20000, 100000], labels=['Low Income', 'Middle Income', 'High Income'])\n",
    "\n",
    "# Debug: Check the discretized columns\n",
    "df['income_bin'].head()\n"
   ]
  },
  {
   "cell_type": "code",
   "execution_count": 392,
   "id": "e85d4555",
   "metadata": {},
   "outputs": [
    {
     "data": {
      "text/plain": [
       "['High', 'Low', 'Very High', NaN, 'Very Low', 'Medium']\n",
       "Categories (5, object): ['Very Low' < 'Low' < 'Medium' < 'High' < 'Very High']"
      ]
     },
     "execution_count": 392,
     "metadata": {},
     "output_type": "execute_result"
    }
   ],
   "source": [
    "df['income_bin'].unique()"
   ]
  },
  {
   "cell_type": "code",
   "execution_count": 393,
   "id": "66108db2",
   "metadata": {},
   "outputs": [
    {
     "data": {
      "text/html": [
       "<div>\n",
       "<style scoped>\n",
       "    .dataframe tbody tr th:only-of-type {\n",
       "        vertical-align: middle;\n",
       "    }\n",
       "\n",
       "    .dataframe tbody tr th {\n",
       "        vertical-align: top;\n",
       "    }\n",
       "\n",
       "    .dataframe thead th {\n",
       "        text-align: right;\n",
       "    }\n",
       "</style>\n",
       "<table border=\"1\" class=\"dataframe\">\n",
       "  <thead>\n",
       "    <tr style=\"text-align: right;\">\n",
       "      <th></th>\n",
       "      <th>Default</th>\n",
       "      <th>Very Low</th>\n",
       "      <th>Low</th>\n",
       "      <th>Medium</th>\n",
       "      <th>High</th>\n",
       "      <th>Very High</th>\n",
       "    </tr>\n",
       "  </thead>\n",
       "  <tbody>\n",
       "    <tr>\n",
       "      <th>0</th>\n",
       "      <td>1</td>\n",
       "      <td>0</td>\n",
       "      <td>0</td>\n",
       "      <td>0</td>\n",
       "      <td>1</td>\n",
       "      <td>0</td>\n",
       "    </tr>\n",
       "    <tr>\n",
       "      <th>1</th>\n",
       "      <td>0</td>\n",
       "      <td>0</td>\n",
       "      <td>1</td>\n",
       "      <td>0</td>\n",
       "      <td>0</td>\n",
       "      <td>0</td>\n",
       "    </tr>\n",
       "    <tr>\n",
       "      <th>2</th>\n",
       "      <td>0</td>\n",
       "      <td>0</td>\n",
       "      <td>1</td>\n",
       "      <td>0</td>\n",
       "      <td>0</td>\n",
       "      <td>0</td>\n",
       "    </tr>\n",
       "    <tr>\n",
       "      <th>3</th>\n",
       "      <td>0</td>\n",
       "      <td>0</td>\n",
       "      <td>1</td>\n",
       "      <td>0</td>\n",
       "      <td>0</td>\n",
       "      <td>0</td>\n",
       "    </tr>\n",
       "    <tr>\n",
       "      <th>4</th>\n",
       "      <td>0</td>\n",
       "      <td>0</td>\n",
       "      <td>0</td>\n",
       "      <td>0</td>\n",
       "      <td>0</td>\n",
       "      <td>1</td>\n",
       "    </tr>\n",
       "  </tbody>\n",
       "</table>\n",
       "</div>"
      ],
      "text/plain": [
       "   Default  Very Low  Low  Medium  High  Very High\n",
       "0        1         0    0       0     1          0\n",
       "1        0         0    1       0     0          0\n",
       "2        0         0    1       0     0          0\n",
       "3        0         0    1       0     0          0\n",
       "4        0         0    0       0     0          1"
      ]
     },
     "execution_count": 393,
     "metadata": {},
     "output_type": "execute_result"
    }
   ],
   "source": [
    "# Transform the dataset into a transactional-style format\n",
    "df_transactions = pd.get_dummies(\n",
    "    df[['income_bin', 'Default']],\n",
    "    prefix='', prefix_sep=''\n",
    ")\n",
    "\n",
    "# Debug: Verify the transaction format|\n",
    "df_transactions.head()\n"
   ]
  },
  {
   "cell_type": "code",
   "execution_count": 404,
   "id": "3ba0989c",
   "metadata": {},
   "outputs": [
    {
     "name": "stderr",
     "output_type": "stream",
     "text": [
      "/home/u21/fantacher/.local/lib/python3.8/site-packages/mlxtend/frequent_patterns/fpcommon.py:161: DeprecationWarning: DataFrames with non-bool types result in worse computationalperformance and their support might be discontinued in the future.Please use a DataFrame with bool type\n",
      "  warnings.warn(\n"
     ]
    },
    {
     "data": {
      "text/html": [
       "<div>\n",
       "<style scoped>\n",
       "    .dataframe tbody tr th:only-of-type {\n",
       "        vertical-align: middle;\n",
       "    }\n",
       "\n",
       "    .dataframe tbody tr th {\n",
       "        vertical-align: top;\n",
       "    }\n",
       "\n",
       "    .dataframe thead th {\n",
       "        text-align: right;\n",
       "    }\n",
       "</style>\n",
       "<table border=\"1\" class=\"dataframe\">\n",
       "  <thead>\n",
       "    <tr style=\"text-align: right;\">\n",
       "      <th></th>\n",
       "      <th>antecedents</th>\n",
       "      <th>consequents</th>\n",
       "      <th>antecedent support</th>\n",
       "      <th>consequent support</th>\n",
       "      <th>support</th>\n",
       "      <th>confidence</th>\n",
       "      <th>lift</th>\n",
       "      <th>representativity</th>\n",
       "      <th>leverage</th>\n",
       "      <th>conviction</th>\n",
       "      <th>zhangs_metric</th>\n",
       "      <th>jaccard</th>\n",
       "      <th>certainty</th>\n",
       "      <th>kulczynski</th>\n",
       "    </tr>\n",
       "  </thead>\n",
       "  <tbody>\n",
       "  </tbody>\n",
       "</table>\n",
       "</div>"
      ],
      "text/plain": [
       "Empty DataFrame\n",
       "Columns: [antecedents, consequents, antecedent support, consequent support, support, confidence, lift, representativity, leverage, conviction, zhangs_metric, jaccard, certainty, kulczynski]\n",
       "Index: []"
      ]
     },
     "execution_count": 404,
     "metadata": {},
     "output_type": "execute_result"
    }
   ],
   "source": [
    "# Apply Apriori with lower thresholds\n",
    "frequent_itemsets = apriori(df_transactions, min_support=0.005, use_colnames=True)\n",
    "frequent_itemsets['num_itemsets'] = frequent_itemsets['itemsets'].apply(len)\n",
    "\n",
    "# Generate rules with even lower confidence threshold\n",
    "rules = association_rules(frequent_itemsets, metric=\"confidence\", min_threshold=0.2, num_itemsets=frequent_itemsets['num_itemsets'])\n",
    "\n",
    "# Display the first few rules\n",
    "rules.head()\n"
   ]
  },
  {
   "cell_type": "code",
   "execution_count": 403,
   "id": "a887156f",
   "metadata": {},
   "outputs": [
    {
     "data": {
      "image/png": "[encoded data removed]",
      "text/plain": [
       "<Figure size 576x432 with 2 Axes>"
      ]
     },
     "metadata": {
      "needs_background": "light"
     },
     "output_type": "display_data"
    }
   ],
   "source": [
    "import matplotlib.pyplot as plt\n",
    "\n",
    "# Prepare data for plotting\n",
    "income_groups = ['Low', 'Medium']\n",
    "rules_data_income = [\n",
    "    {'Income Group': 'Low', 'Support': 0.019773, 'Confidence': 0.295831, 'Lift': 1.327381},\n",
    "    {'Income Group': 'Medium', 'Support': 0.014900, 'Confidence': 0.222920, 'Lift': 0.955940},\n",
    "]\n",
    "\n",
    "# Convert to DataFrame\n",
    "rules_df_income = pd.DataFrame(rules_data_income)\n",
    "\n",
    "# Create scatter plot\n",
    "plt.figure(figsize=(8, 6))\n",
    "plt.scatter(rules_df_income['Support'], rules_df_income['Confidence'], c=rules_df_income['Lift'], cmap='coolwarm', s=200, edgecolor='black')\n",
    "for i, row in rules_df_income.iterrows():\n",
    "    plt.text(row['Support'], row['Confidence'], row['Income Group'], fontsize=12, ha='right')\n",
    "\n",
    "# Add labels and color bar\n",
    "plt.colorbar(label='Lift')\n",
    "plt.xlabel('Support', fontsize=12)\n",
    "plt.ylabel('Confidence', fontsize=12)\n",
    "plt.title('Default Rules by Monthly Income Groups', fontsize=14)\n",
    "plt.grid(True, linestyle='--', alpha=0.7)\n",
    "plt.show()\n"
   ]
  },
  {
   "cell_type": "markdown",
   "id": "07557a24",
   "metadata": {},
   "source": [
    "#### Age"
   ]
  },
  {
   "cell_type": "code",
   "execution_count": 367,
   "id": "15971bb1",
   "metadata": {},
   "outputs": [
    {
     "data": {
      "text/html": [
       "<div>\n",
       "<style scoped>\n",
       "    .dataframe tbody tr th:only-of-type {\n",
       "        vertical-align: middle;\n",
       "    }\n",
       "\n",
       "    .dataframe tbody tr th {\n",
       "        vertical-align: top;\n",
       "    }\n",
       "\n",
       "    .dataframe thead th {\n",
       "        text-align: right;\n",
       "    }\n",
       "</style>\n",
       "<table border=\"1\" class=\"dataframe\">\n",
       "  <thead>\n",
       "    <tr style=\"text-align: right;\">\n",
       "      <th></th>\n",
       "      <th>Edad_bin</th>\n",
       "    </tr>\n",
       "  </thead>\n",
       "  <tbody>\n",
       "    <tr>\n",
       "      <th>0</th>\n",
       "      <td>Middle-aged</td>\n",
       "    </tr>\n",
       "    <tr>\n",
       "      <th>1</th>\n",
       "      <td>Middle-aged</td>\n",
       "    </tr>\n",
       "    <tr>\n",
       "      <th>2</th>\n",
       "      <td>Middle-aged</td>\n",
       "    </tr>\n",
       "    <tr>\n",
       "      <th>3</th>\n",
       "      <td>Middle-aged</td>\n",
       "    </tr>\n",
       "    <tr>\n",
       "      <th>4</th>\n",
       "      <td>Middle-aged</td>\n",
       "    </tr>\n",
       "  </tbody>\n",
       "</table>\n",
       "</div>"
      ],
      "text/plain": [
       "      Edad_bin\n",
       "0  Middle-aged\n",
       "1  Middle-aged\n",
       "2  Middle-aged\n",
       "3  Middle-aged\n",
       "4  Middle-aged"
      ]
     },
     "execution_count": 367,
     "metadata": {},
     "output_type": "execute_result"
    }
   ],
   "source": [
    "# Discretize continuous variables into bins\n",
    "df['Edad_bin'] = pd.cut(df['Edad'], bins=[18, 29, 49, 69, float('inf')], labels=['Young', 'Middle-aged', 'Senior', 'Elderly'])\n",
    "# df['Mto_ingreso_mensual_bin'] = pd.cut(df['Mto_ingreso_mensual'], bins=[0, 5000, 20000, 100000], labels=['Low Income', 'Middle Income', 'High Income'])\n",
    "\n",
    "# Debug: Check the discretized columns\n",
    "df[['Edad_bin']].head()\n"
   ]
  },
  {
   "cell_type": "code",
   "execution_count": 382,
   "id": "46888df5",
   "metadata": {},
   "outputs": [
    {
     "data": {
      "text/plain": [
       "['Middle-aged', 'Elderly', 'Senior', 'Young']\n",
       "Categories (4, object): ['Young' < 'Middle-aged' < 'Senior' < 'Elderly']"
      ]
     },
     "execution_count": 382,
     "metadata": {},
     "output_type": "execute_result"
    }
   ],
   "source": [
    "df['Edad_bin'].unique()"
   ]
  },
  {
   "cell_type": "code",
   "execution_count": 383,
   "id": "60c24a0c",
   "metadata": {},
   "outputs": [
    {
     "data": {
      "text/html": [
       "<div>\n",
       "<style scoped>\n",
       "    .dataframe tbody tr th:only-of-type {\n",
       "        vertical-align: middle;\n",
       "    }\n",
       "\n",
       "    .dataframe tbody tr th {\n",
       "        vertical-align: top;\n",
       "    }\n",
       "\n",
       "    .dataframe thead th {\n",
       "        text-align: right;\n",
       "    }\n",
       "</style>\n",
       "<table border=\"1\" class=\"dataframe\">\n",
       "  <thead>\n",
       "    <tr style=\"text-align: right;\">\n",
       "      <th></th>\n",
       "      <th>Default</th>\n",
       "      <th>Young</th>\n",
       "      <th>Middle-aged</th>\n",
       "      <th>Senior</th>\n",
       "      <th>Elderly</th>\n",
       "    </tr>\n",
       "  </thead>\n",
       "  <tbody>\n",
       "    <tr>\n",
       "      <th>0</th>\n",
       "      <td>1</td>\n",
       "      <td>0</td>\n",
       "      <td>1</td>\n",
       "      <td>0</td>\n",
       "      <td>0</td>\n",
       "    </tr>\n",
       "    <tr>\n",
       "      <th>1</th>\n",
       "      <td>0</td>\n",
       "      <td>0</td>\n",
       "      <td>1</td>\n",
       "      <td>0</td>\n",
       "      <td>0</td>\n",
       "    </tr>\n",
       "    <tr>\n",
       "      <th>2</th>\n",
       "      <td>0</td>\n",
       "      <td>0</td>\n",
       "      <td>1</td>\n",
       "      <td>0</td>\n",
       "      <td>0</td>\n",
       "    </tr>\n",
       "    <tr>\n",
       "      <th>3</th>\n",
       "      <td>0</td>\n",
       "      <td>0</td>\n",
       "      <td>1</td>\n",
       "      <td>0</td>\n",
       "      <td>0</td>\n",
       "    </tr>\n",
       "    <tr>\n",
       "      <th>4</th>\n",
       "      <td>0</td>\n",
       "      <td>0</td>\n",
       "      <td>1</td>\n",
       "      <td>0</td>\n",
       "      <td>0</td>\n",
       "    </tr>\n",
       "  </tbody>\n",
       "</table>\n",
       "</div>"
      ],
      "text/plain": [
       "   Default  Young  Middle-aged  Senior  Elderly\n",
       "0        1      0            1       0        0\n",
       "1        0      0            1       0        0\n",
       "2        0      0            1       0        0\n",
       "3        0      0            1       0        0\n",
       "4        0      0            1       0        0"
      ]
     },
     "execution_count": 383,
     "metadata": {},
     "output_type": "execute_result"
    }
   ],
   "source": [
    "# Transform the dataset into a transactional-style format\n",
    "df_transactions = pd.get_dummies(\n",
    "    df[['Edad_bin', 'Default']],\n",
    "    prefix='', prefix_sep=''\n",
    ")\n",
    "\n",
    "# Debug: Verify the transaction format|\n",
    "df_transactions.head()\n"
   ]
  },
  {
   "cell_type": "code",
   "execution_count": 389,
   "id": "292e8d2f",
   "metadata": {},
   "outputs": [
    {
     "name": "stderr",
     "output_type": "stream",
     "text": [
      "/home/u21/fantacher/.local/lib/python3.8/site-packages/mlxtend/frequent_patterns/fpcommon.py:161: DeprecationWarning: DataFrames with non-bool types result in worse computationalperformance and their support might be discontinued in the future.Please use a DataFrame with bool type\n",
      "  warnings.warn(\n"
     ]
    },
    {
     "data": {
      "text/html": [
       "<div>\n",
       "<style scoped>\n",
       "    .dataframe tbody tr th:only-of-type {\n",
       "        vertical-align: middle;\n",
       "    }\n",
       "\n",
       "    .dataframe tbody tr th {\n",
       "        vertical-align: top;\n",
       "    }\n",
       "\n",
       "    .dataframe thead th {\n",
       "        text-align: right;\n",
       "    }\n",
       "</style>\n",
       "<table border=\"1\" class=\"dataframe\">\n",
       "  <thead>\n",
       "    <tr style=\"text-align: right;\">\n",
       "      <th></th>\n",
       "      <th>antecedents</th>\n",
       "      <th>consequents</th>\n",
       "      <th>antecedent support</th>\n",
       "      <th>consequent support</th>\n",
       "      <th>support</th>\n",
       "      <th>confidence</th>\n",
       "      <th>lift</th>\n",
       "      <th>representativity</th>\n",
       "      <th>leverage</th>\n",
       "      <th>conviction</th>\n",
       "      <th>zhangs_metric</th>\n",
       "      <th>jaccard</th>\n",
       "      <th>certainty</th>\n",
       "      <th>kulczynski</th>\n",
       "    </tr>\n",
       "  </thead>\n",
       "  <tbody>\n",
       "    <tr>\n",
       "      <th>0</th>\n",
       "      <td>(Default)</td>\n",
       "      <td>(Middle-aged)</td>\n",
       "      <td>0.06684</td>\n",
       "      <td>0.383736</td>\n",
       "      <td>0.034754</td>\n",
       "      <td>0.519948</td>\n",
       "      <td>1.354964</td>\n",
       "      <td>1.0</td>\n",
       "      <td>0.009104</td>\n",
       "      <td>1.283745</td>\n",
       "      <td>0.280737</td>\n",
       "      <td>0.083578</td>\n",
       "      <td>0.221029</td>\n",
       "      <td>0.305257</td>\n",
       "    </tr>\n",
       "    <tr>\n",
       "      <th>1</th>\n",
       "      <td>(Default)</td>\n",
       "      <td>(Senior)</td>\n",
       "      <td>0.06684</td>\n",
       "      <td>0.428043</td>\n",
       "      <td>0.022187</td>\n",
       "      <td>0.331937</td>\n",
       "      <td>0.775476</td>\n",
       "      <td>1.0</td>\n",
       "      <td>-0.006424</td>\n",
       "      <td>0.856142</td>\n",
       "      <td>-0.236798</td>\n",
       "      <td>0.046937</td>\n",
       "      <td>-0.168030</td>\n",
       "      <td>0.191885</td>\n",
       "    </tr>\n",
       "  </tbody>\n",
       "</table>\n",
       "</div>"
      ],
      "text/plain": [
       "  antecedents    consequents  antecedent support  consequent support  \\\n",
       "0   (Default)  (Middle-aged)             0.06684            0.383736   \n",
       "1   (Default)       (Senior)             0.06684            0.428043   \n",
       "\n",
       "    support  confidence      lift  representativity  leverage  conviction  \\\n",
       "0  0.034754    0.519948  1.354964               1.0  0.009104    1.283745   \n",
       "1  0.022187    0.331937  0.775476               1.0 -0.006424    0.856142   \n",
       "\n",
       "   zhangs_metric   jaccard  certainty  kulczynski  \n",
       "0       0.280737  0.083578   0.221029    0.305257  \n",
       "1      -0.236798  0.046937  -0.168030    0.191885  "
      ]
     },
     "execution_count": 389,
     "metadata": {},
     "output_type": "execute_result"
    }
   ],
   "source": [
    "# Apply Apriori with lower thresholds\n",
    "frequent_itemsets = apriori(df_transactions, min_support=0.005, use_colnames=True)\n",
    "frequent_itemsets['num_itemsets'] = frequent_itemsets['itemsets'].apply(len)\n",
    "\n",
    "# Generate rules with even lower confidence threshold\n",
    "rules = association_rules(frequent_itemsets, metric=\"confidence\", min_threshold=0.2, num_itemsets=frequent_itemsets['num_itemsets'])\n",
    "\n",
    "# Display the first few rules\n",
    "rules.head()\n"
   ]
  },
  {
   "cell_type": "code",
   "execution_count": 390,
   "id": "1bde3cf8",
   "metadata": {},
   "outputs": [
    {
     "data": {
      "image/png": "[encoded data removed]",
      "text/plain": [
       "<Figure size 576x432 with 2 Axes>"
      ]
     },
     "metadata": {
      "needs_background": "light"
     },
     "output_type": "display_data"
    }
   ],
   "source": [
    "import matplotlib.pyplot as plt\n",
    "\n",
    "# Prepare data for plotting\n",
    "age_groups = ['Middle-aged', 'Senior']\n",
    "rules_data = [\n",
    "    {'Age Group': 'Middle-aged', 'Support': 0.034754, 'Confidence': 0.519948, 'Lift': 1.354964},\n",
    "    {'Age Group': 'Senior', 'Support': 0.022187, 'Confidence': 0.331937, 'Lift': 0.775476},\n",
    "]\n",
    "\n",
    "# Convert to DataFrame\n",
    "rules_df = pd.DataFrame(rules_data)\n",
    "\n",
    "# Create scatter plot\n",
    "plt.figure(figsize=(8, 6))\n",
    "plt.scatter(rules_df['Support'], rules_df['Confidence'], c=rules_df['Lift'], cmap='coolwarm', s=200, edgecolor='black')\n",
    "for i, row in rules_df.iterrows():\n",
    "    plt.text(row['Support'], row['Confidence'], row['Age Group'], fontsize=12, ha='right')\n",
    "\n",
    "# Add labels and color bar\n",
    "plt.colorbar(label='Lift')\n",
    "plt.xlabel('Support', fontsize=12)\n",
    "plt.ylabel('Confidence', fontsize=12)\n",
    "plt.title('Default Rules by Age Groups', fontsize=14)\n",
    "plt.grid(True, linestyle='--', alpha=0.7)\n",
    "plt.show()\n"
   ]
  },
  {
   "cell_type": "code",
   "execution_count": null,
   "id": "f4246a3b",
   "metadata": {},
   "outputs": [],
   "source": [
    "bins = [0, 0.5, 5, 20, float('inf')]  # Define bin edges\n",
    "labels = ['No Delays', 'Few Delays', 'Many Delays', 'High Delays']  # Define categories\n",
    "df['Nro_prestao_retrasados_bin'] = pd.cut(df['Nro_prestao_retrasados'], bins=bins, labels=labels, right=False)\n",
    "\n",
    "# Verify the distribution\n",
    "print(df['Nro_prestao_retrasados_bin'].value_counts())"
   ]
  },
  {
   "cell_type": "code",
   "execution_count": 410,
   "id": "6a141e03",
   "metadata": {},
   "outputs": [
    {
     "data": {
      "text/plain": [
       "0    Few Delays\n",
       "1     No Delays\n",
       "2    Few Delays\n",
       "3     No Delays\n",
       "4    Few Delays\n",
       "Name: Nro_prestao_retrasados_bin, dtype: category\n",
       "Categories (4, object): ['No Delays' < 'Few Delays' < 'Many Delays' < 'High Delays']"
      ]
     },
     "execution_count": 410,
     "metadata": {},
     "output_type": "execute_result"
    }
   ],
   "source": [
    "bins = [0, 0.5, 5, 20, float('inf')]  # Define bin edges\n",
    "labels = ['No Delays', 'Few Delays', 'Many Delays', 'High Delays']  # Define categories\n",
    "df['Nro_prestao_retrasados_bin'] = pd.cut(df['Nro_prestao_retrasados'], bins=bins, labels=labels, right=False)\n",
    "# Debug: Check the discretized columns\n",
    "df['Nro_prestao_retrasados_bin'].head()\n"
   ]
  },
  {
   "cell_type": "code",
   "execution_count": 415,
   "id": "4b472687",
   "metadata": {},
   "outputs": [
    {
     "data": {
      "text/html": [
       "<div>\n",
       "<style scoped>\n",
       "    .dataframe tbody tr th:only-of-type {\n",
       "        vertical-align: middle;\n",
       "    }\n",
       "\n",
       "    .dataframe tbody tr th {\n",
       "        vertical-align: top;\n",
       "    }\n",
       "\n",
       "    .dataframe thead th {\n",
       "        text-align: right;\n",
       "    }\n",
       "</style>\n",
       "<table border=\"1\" class=\"dataframe\">\n",
       "  <thead>\n",
       "    <tr style=\"text-align: right;\">\n",
       "      <th></th>\n",
       "      <th>Default</th>\n",
       "      <th>Young</th>\n",
       "      <th>Middle-aged</th>\n",
       "      <th>Senior</th>\n",
       "      <th>Elderly</th>\n",
       "      <th>Very Low</th>\n",
       "      <th>Low</th>\n",
       "      <th>Medium</th>\n",
       "      <th>High</th>\n",
       "      <th>Very High</th>\n",
       "    </tr>\n",
       "  </thead>\n",
       "  <tbody>\n",
       "    <tr>\n",
       "      <th>0</th>\n",
       "      <td>1</td>\n",
       "      <td>0</td>\n",
       "      <td>1</td>\n",
       "      <td>0</td>\n",
       "      <td>0</td>\n",
       "      <td>0</td>\n",
       "      <td>0</td>\n",
       "      <td>0</td>\n",
       "      <td>1</td>\n",
       "      <td>0</td>\n",
       "    </tr>\n",
       "    <tr>\n",
       "      <th>1</th>\n",
       "      <td>0</td>\n",
       "      <td>0</td>\n",
       "      <td>1</td>\n",
       "      <td>0</td>\n",
       "      <td>0</td>\n",
       "      <td>0</td>\n",
       "      <td>1</td>\n",
       "      <td>0</td>\n",
       "      <td>0</td>\n",
       "      <td>0</td>\n",
       "    </tr>\n",
       "    <tr>\n",
       "      <th>2</th>\n",
       "      <td>0</td>\n",
       "      <td>0</td>\n",
       "      <td>1</td>\n",
       "      <td>0</td>\n",
       "      <td>0</td>\n",
       "      <td>0</td>\n",
       "      <td>1</td>\n",
       "      <td>0</td>\n",
       "      <td>0</td>\n",
       "      <td>0</td>\n",
       "    </tr>\n",
       "    <tr>\n",
       "      <th>3</th>\n",
       "      <td>0</td>\n",
       "      <td>0</td>\n",
       "      <td>1</td>\n",
       "      <td>0</td>\n",
       "      <td>0</td>\n",
       "      <td>0</td>\n",
       "      <td>1</td>\n",
       "      <td>0</td>\n",
       "      <td>0</td>\n",
       "      <td>0</td>\n",
       "    </tr>\n",
       "    <tr>\n",
       "      <th>4</th>\n",
       "      <td>0</td>\n",
       "      <td>0</td>\n",
       "      <td>1</td>\n",
       "      <td>0</td>\n",
       "      <td>0</td>\n",
       "      <td>0</td>\n",
       "      <td>0</td>\n",
       "      <td>0</td>\n",
       "      <td>0</td>\n",
       "      <td>1</td>\n",
       "    </tr>\n",
       "  </tbody>\n",
       "</table>\n",
       "</div>"
      ],
      "text/plain": [
       "   Default  Young  Middle-aged  Senior  Elderly  Very Low  Low  Medium  High  \\\n",
       "0        1      0            1       0        0         0    0       0     1   \n",
       "1        0      0            1       0        0         0    1       0     0   \n",
       "2        0      0            1       0        0         0    1       0     0   \n",
       "3        0      0            1       0        0         0    1       0     0   \n",
       "4        0      0            1       0        0         0    0       0     0   \n",
       "\n",
       "   Very High  \n",
       "0          0  \n",
       "1          0  \n",
       "2          0  \n",
       "3          0  \n",
       "4          1  "
      ]
     },
     "execution_count": 415,
     "metadata": {},
     "output_type": "execute_result"
    }
   ],
   "source": [
    "# Transform the dataset into a transactional-style format\n",
    "df_transactions = pd.get_dummies(\n",
    "    df[['Edad_bin','income_bin', 'Default']],\n",
    "    prefix='', prefix_sep=''\n",
    ")\n",
    "\n",
    "# Debug: Verify the transaction format|\n",
    "df_transactions.head()\n"
   ]
  },
  {
   "cell_type": "code",
   "execution_count": 416,
   "id": "9d53ed21",
   "metadata": {},
   "outputs": [
    {
     "name": "stderr",
     "output_type": "stream",
     "text": [
      "/home/u21/fantacher/.local/lib/python3.8/site-packages/mlxtend/frequent_patterns/fpcommon.py:161: DeprecationWarning: DataFrames with non-bool types result in worse computationalperformance and their support might be discontinued in the future.Please use a DataFrame with bool type\n",
      "  warnings.warn(\n"
     ]
    },
    {
     "data": {
      "text/html": [
       "<div>\n",
       "<style scoped>\n",
       "    .dataframe tbody tr th:only-of-type {\n",
       "        vertical-align: middle;\n",
       "    }\n",
       "\n",
       "    .dataframe tbody tr th {\n",
       "        vertical-align: top;\n",
       "    }\n",
       "\n",
       "    .dataframe thead th {\n",
       "        text-align: right;\n",
       "    }\n",
       "</style>\n",
       "<table border=\"1\" class=\"dataframe\">\n",
       "  <thead>\n",
       "    <tr style=\"text-align: right;\">\n",
       "      <th></th>\n",
       "      <th>antecedents</th>\n",
       "      <th>consequents</th>\n",
       "      <th>antecedent support</th>\n",
       "      <th>consequent support</th>\n",
       "      <th>support</th>\n",
       "      <th>confidence</th>\n",
       "      <th>lift</th>\n",
       "      <th>representativity</th>\n",
       "      <th>leverage</th>\n",
       "      <th>conviction</th>\n",
       "      <th>zhangs_metric</th>\n",
       "      <th>jaccard</th>\n",
       "      <th>certainty</th>\n",
       "      <th>kulczynski</th>\n",
       "    </tr>\n",
       "  </thead>\n",
       "  <tbody>\n",
       "    <tr>\n",
       "      <th>0</th>\n",
       "      <td>(Default)</td>\n",
       "      <td>(Middle-aged)</td>\n",
       "      <td>0.06684</td>\n",
       "      <td>0.383736</td>\n",
       "      <td>0.034754</td>\n",
       "      <td>0.519948</td>\n",
       "      <td>1.354964</td>\n",
       "      <td>1.0</td>\n",
       "      <td>0.009104</td>\n",
       "      <td>1.283745</td>\n",
       "      <td>0.280737</td>\n",
       "      <td>0.083578</td>\n",
       "      <td>0.221029</td>\n",
       "      <td>0.305257</td>\n",
       "    </tr>\n",
       "    <tr>\n",
       "      <th>1</th>\n",
       "      <td>(Default)</td>\n",
       "      <td>(Senior)</td>\n",
       "      <td>0.06684</td>\n",
       "      <td>0.428043</td>\n",
       "      <td>0.022187</td>\n",
       "      <td>0.331937</td>\n",
       "      <td>0.775476</td>\n",
       "      <td>1.0</td>\n",
       "      <td>-0.006424</td>\n",
       "      <td>0.856142</td>\n",
       "      <td>-0.236798</td>\n",
       "      <td>0.046937</td>\n",
       "      <td>-0.168030</td>\n",
       "      <td>0.191885</td>\n",
       "    </tr>\n",
       "    <tr>\n",
       "      <th>2</th>\n",
       "      <td>(Default)</td>\n",
       "      <td>(Low)</td>\n",
       "      <td>0.06684</td>\n",
       "      <td>0.222868</td>\n",
       "      <td>0.019773</td>\n",
       "      <td>0.295831</td>\n",
       "      <td>1.327381</td>\n",
       "      <td>1.0</td>\n",
       "      <td>0.004877</td>\n",
       "      <td>1.103615</td>\n",
       "      <td>0.264303</td>\n",
       "      <td>0.073253</td>\n",
       "      <td>0.093887</td>\n",
       "      <td>0.192277</td>\n",
       "    </tr>\n",
       "    <tr>\n",
       "      <th>3</th>\n",
       "      <td>(Default)</td>\n",
       "      <td>(Medium)</td>\n",
       "      <td>0.06684</td>\n",
       "      <td>0.233195</td>\n",
       "      <td>0.014900</td>\n",
       "      <td>0.222920</td>\n",
       "      <td>0.955940</td>\n",
       "      <td>1.0</td>\n",
       "      <td>-0.000687</td>\n",
       "      <td>0.986778</td>\n",
       "      <td>-0.047067</td>\n",
       "      <td>0.052256</td>\n",
       "      <td>-0.013399</td>\n",
       "      <td>0.143408</td>\n",
       "    </tr>\n",
       "    <tr>\n",
       "      <th>4</th>\n",
       "      <td>(Young)</td>\n",
       "      <td>(Very Low)</td>\n",
       "      <td>0.05880</td>\n",
       "      <td>0.109847</td>\n",
       "      <td>0.022373</td>\n",
       "      <td>0.380499</td>\n",
       "      <td>3.463886</td>\n",
       "      <td>1.0</td>\n",
       "      <td>0.015914</td>\n",
       "      <td>1.436886</td>\n",
       "      <td>0.755745</td>\n",
       "      <td>0.152956</td>\n",
       "      <td>0.304051</td>\n",
       "      <td>0.292088</td>\n",
       "    </tr>\n",
       "  </tbody>\n",
       "</table>\n",
       "</div>"
      ],
      "text/plain": [
       "  antecedents    consequents  antecedent support  consequent support  \\\n",
       "0   (Default)  (Middle-aged)             0.06684            0.383736   \n",
       "1   (Default)       (Senior)             0.06684            0.428043   \n",
       "2   (Default)          (Low)             0.06684            0.222868   \n",
       "3   (Default)       (Medium)             0.06684            0.233195   \n",
       "4     (Young)     (Very Low)             0.05880            0.109847   \n",
       "\n",
       "    support  confidence      lift  representativity  leverage  conviction  \\\n",
       "0  0.034754    0.519948  1.354964               1.0  0.009104    1.283745   \n",
       "1  0.022187    0.331937  0.775476               1.0 -0.006424    0.856142   \n",
       "2  0.019773    0.295831  1.327381               1.0  0.004877    1.103615   \n",
       "3  0.014900    0.222920  0.955940               1.0 -0.000687    0.986778   \n",
       "4  0.022373    0.380499  3.463886               1.0  0.015914    1.436886   \n",
       "\n",
       "   zhangs_metric   jaccard  certainty  kulczynski  \n",
       "0       0.280737  0.083578   0.221029    0.305257  \n",
       "1      -0.236798  0.046937  -0.168030    0.191885  \n",
       "2       0.264303  0.073253   0.093887    0.192277  \n",
       "3      -0.047067  0.052256  -0.013399    0.143408  \n",
       "4       0.755745  0.152956   0.304051    0.292088  "
      ]
     },
     "execution_count": 416,
     "metadata": {},
     "output_type": "execute_result"
    }
   ],
   "source": [
    "# Apply Apriori with lower thresholds\n",
    "frequent_itemsets = apriori(df_transactions, min_support=0.005, use_colnames=True)\n",
    "frequent_itemsets['num_itemsets'] = frequent_itemsets['itemsets'].apply(len)\n",
    "\n",
    "# Generate rules with even lower confidence threshold\n",
    "rules = association_rules(frequent_itemsets, metric=\"confidence\", min_threshold=0.2, num_itemsets=frequent_itemsets['num_itemsets'])\n",
    "\n",
    "# Display the first few rules\n",
    "rules.head()\n"
   ]
  },
  {
   "cell_type": "code",
   "execution_count": 418,
   "id": "af1ce711",
   "metadata": {},
   "outputs": [
    {
     "data": {
      "image/png": "[encoded data removed]",
      "text/plain": [
       "<Figure size 720x504 with 2 Axes>"
      ]
     },
     "metadata": {
      "needs_background": "light"
     },
     "output_type": "display_data"
    }
   ],
   "source": [
    "import matplotlib.pyplot as plt\n",
    "import pandas as pd\n",
    "\n",
    "# Data from rules for Age Groups and Income Levels\n",
    "rules_data_combined = [\n",
    "    {'Category': 'Middle-aged', 'Support': 0.034754, 'Confidence': 0.519948, 'Lift': 1.354964},\n",
    "    {'Category': 'Senior', 'Support': 0.022187, 'Confidence': 0.331937, 'Lift': 0.775476},\n",
    "    {'Category': 'Low Income', 'Support': 0.019773, 'Confidence': 0.295831, 'Lift': 1.327381},\n",
    "    {'Category': 'Medium Income', 'Support': 0.014900, 'Confidence': 0.222920, 'Lift': 0.955940},\n",
    "    {'Category': 'Young & Very Low Income', 'Support': 0.022373, 'Confidence': 0.380499, 'Lift': 3.463886},\n",
    "]\n",
    "\n",
    "# Convert to DataFrame\n",
    "rules_df_combined = pd.DataFrame(rules_data_combined)\n",
    "\n",
    "# Create scatter plot\n",
    "plt.figure(figsize=(10, 7))\n",
    "scatter = plt.scatter(\n",
    "    rules_df_combined['Support'], \n",
    "    rules_df_combined['Confidence'], \n",
    "    c=rules_df_combined['Lift'], \n",
    "    cmap='coolwarm', \n",
    "    s=300, \n",
    "    edgecolor='black'\n",
    ")\n",
    "\n",
    "# Annotate points with category names\n",
    "for i, row in rules_df_combined.iterrows():\n",
    "    plt.text(row['Support'], row['Confidence'], row['Category'], fontsize=12, ha='right', va='center')\n",
    "\n",
    "# Add color bar for lift values\n",
    "cbar = plt.colorbar(scatter)\n",
    "cbar.set_label('Lift', fontsize=12)\n",
    "\n",
    "# Add axis labels and title\n",
    "plt.xlabel('Support', fontsize=14)\n",
    "plt.ylabel('Confidence', fontsize=14)\n",
    "plt.title('Default Rules by Age and Income Groups', fontsize=16)\n",
    "\n",
    "# Add grid\n",
    "plt.grid(True, linestyle='--', alpha=0.7)\n",
    "\n",
    "# Show the plot\n",
    "plt.tight_layout()\n",
    "plt.show()\n"
   ]
  },
  {
   "cell_type": "code",
   "execution_count": null,
   "id": "52142be0",
   "metadata": {},
   "outputs": [],
   "source": []
  }
 ],
 "metadata": {
  "kernelspec": {
   "display_name": "Python 3 (ipykernel)",
   "language": "python",
   "name": "python3"
  },
  "language_info": {
   "codemirror_mode": {
    "name": "ipython",
    "version": 3
   },
   "file_extension": ".py",
   "mimetype": "text/x-python",
   "name": "python",
   "nbconvert_exporter": "python",
   "pygments_lexer": "ipython3",
   "version": "3.8.12"
  }
 },
 "nbformat": 4,
 "nbformat_minor": 5
}
