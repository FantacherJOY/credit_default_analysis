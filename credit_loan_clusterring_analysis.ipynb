{
 "cells": [
  {
   "cell_type": "code",
<<<<<<< HEAD
   "execution_count": 1,
=======
   "execution_count": 62,
>>>>>>> c51f44b306c20668da126acf530c70d153f634b2
   "id": "d899b225",
   "metadata": {},
   "outputs": [],
   "source": [
    "import pandas as pd\n",
    "import numpy as np\n",
    "import matplotlib.pyplot as plt\n",
    "import seaborn as sns\n",
    "from sklearn.model_selection import train_test_split\n",
    "from sklearn.preprocessing import StandardScaler, LabelEncoder\n",
    "from sklearn.cluster import KMeans\n",
    "from sklearn.decomposition import PCA\n",
    "from scipy.cluster.hierarchy import linkage, dendrogram\n",
    "from sklearn.cluster import KMeans\n",
    "from sklearn.metrics import silhouette_score\n",
    "from sklearn.impute import SimpleImputer\n",
    "from sklearn.linear_model import LinearRegression\n",
    "from sklearn.preprocessing import LabelEncoder\n",
    "from sklearn.preprocessing import StandardScaler\n",
    "from sklearn.decomposition import PCA\n",
    "from yellowbrick.cluster import KElbowVisualizer\n",
    "from mpl_toolkits.mplot3d import Axes3D\n",
    "from sklearn.cluster import AgglomerativeClustering\n",
    "from matplotlib.colors import ListedColormap"
   ]
  },
  {
   "cell_type": "code",
<<<<<<< HEAD
   "execution_count": 2,
=======
   "execution_count": 42,
>>>>>>> c51f44b306c20668da126acf530c70d153f634b2
   "id": "134c3d49",
   "metadata": {},
   "outputs": [],
   "source": [
    "df=pd.read_csv('credit_scoring.csv')"
   ]
  },
  {
   "cell_type": "markdown",
   "id": "952d2632",
   "metadata": {},
   "source": [
    "### Data Descriptions"
   ]
  },
  {
   "cell_type": "markdown",
   "id": "af09df79",
   "metadata": {},
   "source": [
    "| Variable Name                  | Description                                                                 | Type       |\n",
    "|:-------------------------------|:----------------------------------------------------------------------------|:-----------|\n",
    "| Default                        | Client with more than 90 days without paying their loan                     | Y/N        |\n",
    "| Prct_uso_tc                    | Percentage of credit card usage in the last month                           | percentage |\n",
    "| Edad                           | Age                                                                         | integer    |\n",
    "| Nro_prestamo_retrasados        | Number of loans with payment delays of more than 3 months in the last 3 years | integer    |\n",
    "| Prct_deuda_vs_ingresos         | Financial debt-to-income ratio                                              | percentage |\n",
    "| Mto_ingreso_mensual            | Monthly income amount                                                       | real       |\n",
    "| Nro_prod_financieros_deuda     | Number of loans (including vehicle or mortgage loans) and number of credit cards last year | integer |\n",
    "| Nro_retraso_60dias             | Number of times the client has been over 60 days late in the last 3 years    | integer    |\n",
    "| Nro_creditos_hipotecarios      | Number of mortgage loans                                                    | integer    |\n",
    "| Nro_retraso_ultm3anios         | Number of payment delays over 30 days in the last 3 years                   | integer    |\n",
    "| Nro_dependiente                | Number of dependents                                                        | integer    |\n"
   ]
  },
  {
   "cell_type": "code",
<<<<<<< HEAD
   "execution_count": 3,
=======
   "execution_count": 43,
>>>>>>> c51f44b306c20668da126acf530c70d153f634b2
   "id": "f17e6e84",
   "metadata": {
    "scrolled": true
   },
   "outputs": [
    {
     "data": {
      "text/html": [
       "<div>\n",
       "<style scoped>\n",
       "    .dataframe tbody tr th:only-of-type {\n",
       "        vertical-align: middle;\n",
       "    }\n",
       "\n",
       "    .dataframe tbody tr th {\n",
       "        vertical-align: top;\n",
       "    }\n",
       "\n",
       "    .dataframe thead th {\n",
       "        text-align: right;\n",
       "    }\n",
       "</style>\n",
       "<table border=\"1\" class=\"dataframe\">\n",
       "  <thead>\n",
       "    <tr style=\"text-align: right;\">\n",
       "      <th></th>\n",
       "      <th>ID</th>\n",
       "      <th>Default</th>\n",
       "      <th>Prct_uso_tc</th>\n",
       "      <th>Edad</th>\n",
       "      <th>Nro_prestao_retrasados</th>\n",
       "      <th>Prct_deuda_vs_ingresos</th>\n",
       "      <th>Mto_ingreso_mensual</th>\n",
       "      <th>Nro_prod_financieros_deuda</th>\n",
       "      <th>Nro_retraso_60dias</th>\n",
       "      <th>Nro_creditos_hipotecarios</th>\n",
       "      <th>Nro_retraso_ultm3anios</th>\n",
       "      <th>Nro_dependiente</th>\n",
       "    </tr>\n",
       "  </thead>\n",
       "  <tbody>\n",
       "    <tr>\n",
       "      <th>0</th>\n",
       "      <td>1</td>\n",
       "      <td>1</td>\n",
       "      <td>0.766127</td>\n",
       "      <td>45</td>\n",
       "      <td>2</td>\n",
       "      <td>0.802982</td>\n",
       "      <td>9120.0</td>\n",
       "      <td>13</td>\n",
       "      <td>0</td>\n",
       "      <td>6</td>\n",
       "      <td>0</td>\n",
       "      <td>2.0</td>\n",
       "    </tr>\n",
       "    <tr>\n",
       "      <th>1</th>\n",
       "      <td>2</td>\n",
       "      <td>0</td>\n",
       "      <td>0.957151</td>\n",
       "      <td>40</td>\n",
       "      <td>0</td>\n",
       "      <td>0.121876</td>\n",
       "      <td>2600.0</td>\n",
       "      <td>4</td>\n",
       "      <td>0</td>\n",
       "      <td>0</td>\n",
       "      <td>0</td>\n",
       "      <td>1.0</td>\n",
       "    </tr>\n",
       "    <tr>\n",
       "      <th>2</th>\n",
       "      <td>3</td>\n",
       "      <td>0</td>\n",
       "      <td>0.658180</td>\n",
       "      <td>38</td>\n",
       "      <td>1</td>\n",
       "      <td>0.085113</td>\n",
       "      <td>3042.0</td>\n",
       "      <td>2</td>\n",
       "      <td>1</td>\n",
       "      <td>0</td>\n",
       "      <td>0</td>\n",
       "      <td>0.0</td>\n",
       "    </tr>\n",
       "    <tr>\n",
       "      <th>3</th>\n",
       "      <td>4</td>\n",
       "      <td>0</td>\n",
       "      <td>0.233810</td>\n",
       "      <td>30</td>\n",
       "      <td>0</td>\n",
       "      <td>0.036050</td>\n",
       "      <td>3300.0</td>\n",
       "      <td>5</td>\n",
       "      <td>0</td>\n",
       "      <td>0</td>\n",
       "      <td>0</td>\n",
       "      <td>0.0</td>\n",
       "    </tr>\n",
       "    <tr>\n",
       "      <th>4</th>\n",
       "      <td>5</td>\n",
       "      <td>0</td>\n",
       "      <td>0.907239</td>\n",
       "      <td>49</td>\n",
       "      <td>1</td>\n",
       "      <td>0.024926</td>\n",
       "      <td>63588.0</td>\n",
       "      <td>7</td>\n",
       "      <td>0</td>\n",
       "      <td>1</td>\n",
       "      <td>0</td>\n",
       "      <td>0.0</td>\n",
       "    </tr>\n",
       "  </tbody>\n",
       "</table>\n",
       "</div>"
      ],
      "text/plain": [
       "   ID  Default  Prct_uso_tc  Edad  Nro_prestao_retrasados  \\\n",
       "0   1        1     0.766127    45                       2   \n",
       "1   2        0     0.957151    40                       0   \n",
       "2   3        0     0.658180    38                       1   \n",
       "3   4        0     0.233810    30                       0   \n",
       "4   5        0     0.907239    49                       1   \n",
       "\n",
       "   Prct_deuda_vs_ingresos  Mto_ingreso_mensual  Nro_prod_financieros_deuda  \\\n",
       "0                0.802982               9120.0                          13   \n",
       "1                0.121876               2600.0                           4   \n",
       "2                0.085113               3042.0                           2   \n",
       "3                0.036050               3300.0                           5   \n",
       "4                0.024926              63588.0                           7   \n",
       "\n",
       "   Nro_retraso_60dias  Nro_creditos_hipotecarios  Nro_retraso_ultm3anios  \\\n",
       "0                   0                          6                       0   \n",
       "1                   0                          0                       0   \n",
       "2                   1                          0                       0   \n",
       "3                   0                          0                       0   \n",
       "4                   0                          1                       0   \n",
       "\n",
       "   Nro_dependiente  \n",
       "0              2.0  \n",
       "1              1.0  \n",
       "2              0.0  \n",
       "3              0.0  \n",
       "4              0.0  "
      ]
     },
<<<<<<< HEAD
     "execution_count": 3,
=======
     "execution_count": 43,
>>>>>>> c51f44b306c20668da126acf530c70d153f634b2
     "metadata": {},
     "output_type": "execute_result"
    }
   ],
   "source": [
    "df.head(5)"
   ]
  },
  {
   "cell_type": "code",
<<<<<<< HEAD
   "execution_count": 4,
=======
   "execution_count": 44,
>>>>>>> c51f44b306c20668da126acf530c70d153f634b2
   "id": "b8aa0c2e",
   "metadata": {},
   "outputs": [
    {
     "name": "stdout",
     "output_type": "stream",
     "text": [
      "Missing Values:\n",
      " ID                                0\n",
      "Default                           0\n",
      "Prct_uso_tc                       0\n",
      "Edad                              0\n",
      "Nro_prestao_retrasados            0\n",
      "Prct_deuda_vs_ingresos            0\n",
      "Mto_ingreso_mensual           29731\n",
      "Nro_prod_financieros_deuda        0\n",
      "Nro_retraso_60dias                0\n",
      "Nro_creditos_hipotecarios         0\n",
      "Nro_retraso_ultm3anios            0\n",
      "Nro_dependiente                3924\n",
      "dtype: int64\n"
     ]
    }
   ],
   "source": [
    "print(\"Missing Values:\\n\", df.isnull().sum())"
   ]
  },
  {
   "cell_type": "code",
<<<<<<< HEAD
   "execution_count": 5,
=======
   "execution_count": 45,
>>>>>>> c51f44b306c20668da126acf530c70d153f634b2
   "id": "dfe383a4",
   "metadata": {},
   "outputs": [
    {
     "data": {
      "text/plain": [
       "Index(['ID', 'Default', 'Prct_uso_tc', 'Edad', 'Nro_prestao_retrasados',\n",
       "       'Prct_deuda_vs_ingresos', 'Mto_ingreso_mensual',\n",
       "       'Nro_prod_financieros_deuda', 'Nro_retraso_60dias',\n",
       "       'Nro_creditos_hipotecarios', 'Nro_retraso_ultm3anios',\n",
       "       'Nro_dependiente'],\n",
       "      dtype='object')"
      ]
     },
<<<<<<< HEAD
     "execution_count": 5,
=======
     "execution_count": 45,
>>>>>>> c51f44b306c20668da126acf530c70d153f634b2
     "metadata": {},
     "output_type": "execute_result"
    }
   ],
   "source": [
    "df.columns"
   ]
  },
  {
   "cell_type": "code",
<<<<<<< HEAD
   "execution_count": 6,
=======
   "execution_count": 46,
>>>>>>> c51f44b306c20668da126acf530c70d153f634b2
   "id": "c61d112e",
   "metadata": {},
   "outputs": [
    {
     "name": "stdout",
     "output_type": "stream",
     "text": [
      "Missing Values After Imputation:\n",
      " ID                            0\n",
      "Default                       0\n",
      "Prct_uso_tc                   0\n",
      "Edad                          0\n",
      "Nro_prestao_retrasados        0\n",
      "Prct_deuda_vs_ingresos        0\n",
      "Mto_ingreso_mensual           0\n",
      "Nro_prod_financieros_deuda    0\n",
      "Nro_retraso_60dias            0\n",
      "Nro_creditos_hipotecarios     0\n",
      "Nro_retraso_ultm3anios        0\n",
      "Nro_dependiente               0\n",
      "dtype: int64\n"
     ]
    }
   ],
   "source": [
<<<<<<< HEAD
=======
    "# Handling missing values in 'Mto_ingreso_mensual'\n",
    "# Option 1: Replace with median\n",
    "# df['Mto_ingreso_mensual'].fillna(df['Mto_ingreso_mensual'].median(), inplace=True)\n",
    "\n",
    "# Option 2: Predictive imputation (if preferred)\n",
    "# Uncomment and use this block for predictive imputation\n",
    "\n",
>>>>>>> c51f44b306c20668da126acf530c70d153f634b2
    "# Separate rows with and without missing target values\n",
    "impute_df = df[df['Mto_ingreso_mensual'].notnull()]\n",
    "predict_df = df[df['Mto_ingreso_mensual'].isnull()]\n",
    "\n",
    "# Define predictors (drop columns not used for prediction)\n",
    "X_train = impute_df.drop(['Mto_ingreso_mensual', 'ID', 'Default'], axis=1)\n",
    "y_train = impute_df['Mto_ingreso_mensual']\n",
    "X_predict = predict_df.drop(['Mto_ingreso_mensual', 'ID', 'Default'], axis=1)\n",
    "\n",
    "# Impute missing values in predictors\n",
    "imputer = SimpleImputer(strategy='mean')  # You can use 'median' or 'most_frequent' instead\n",
    "X_train = imputer.fit_transform(X_train)\n",
    "X_predict = imputer.transform(X_predict)\n",
    "\n",
    "# Train the regression model\n",
    "reg = LinearRegression()\n",
    "reg.fit(X_train, y_train)\n",
    "\n",
    "# Predict missing values\n",
    "predicted_values = reg.predict(X_predict)\n",
    "\n",
    "# Fill missing values in the original DataFrame\n",
    "df.loc[df['Mto_ingreso_mensual'].isnull(), 'Mto_ingreso_mensual'] = predicted_values\n",
    "\n",
    "# Handling missing values in 'Nro_dependiente'\n",
    "# Replace missing values with median\n",
    "df['Nro_dependiente'].fillna(df['Nro_dependiente'].median(), inplace=True)\n",
    "\n",
    "# Verify there are no missing values left\n",
    "print(\"Missing Values After Imputation:\\n\", df.isnull().sum())"
   ]
  },
  {
   "cell_type": "code",
<<<<<<< HEAD
   "execution_count": 7,
=======
   "execution_count": 47,
>>>>>>> c51f44b306c20668da126acf530c70d153f634b2
   "id": "e3870e8d",
   "metadata": {},
   "outputs": [],
   "source": [
    "df = df.dropna()"
   ]
  },
  {
   "cell_type": "code",
<<<<<<< HEAD
   "execution_count": 8,
=======
   "execution_count": 48,
>>>>>>> c51f44b306c20668da126acf530c70d153f634b2
   "id": "5a043c5d",
   "metadata": {},
   "outputs": [
    {
     "name": "stdout",
     "output_type": "stream",
     "text": [
      "<class 'pandas.core.frame.DataFrame'>\n",
      "RangeIndex: 150000 entries, 0 to 149999\n",
      "Data columns (total 12 columns):\n",
      " #   Column                      Non-Null Count   Dtype  \n",
      "---  ------                      --------------   -----  \n",
      " 0   ID                          150000 non-null  int64  \n",
      " 1   Default                     150000 non-null  int64  \n",
      " 2   Prct_uso_tc                 150000 non-null  float64\n",
      " 3   Edad                        150000 non-null  int64  \n",
      " 4   Nro_prestao_retrasados      150000 non-null  int64  \n",
      " 5   Prct_deuda_vs_ingresos      150000 non-null  float64\n",
      " 6   Mto_ingreso_mensual         150000 non-null  float64\n",
      " 7   Nro_prod_financieros_deuda  150000 non-null  int64  \n",
      " 8   Nro_retraso_60dias          150000 non-null  int64  \n",
      " 9   Nro_creditos_hipotecarios   150000 non-null  int64  \n",
      " 10  Nro_retraso_ultm3anios      150000 non-null  int64  \n",
      " 11  Nro_dependiente             150000 non-null  float64\n",
      "dtypes: float64(4), int64(8)\n",
      "memory usage: 13.7 MB\n"
     ]
    }
   ],
   "source": [
    "df.info()"
   ]
  },
  {
   "cell_type": "markdown",
   "id": "59471f40",
   "metadata": {},
   "source": [
    "### Clusterring"
   ]
  },
  {
   "cell_type": "code",
<<<<<<< HEAD
   "execution_count": 13,
=======
   "execution_count": 53,
>>>>>>> c51f44b306c20668da126acf530c70d153f634b2
   "id": "8a68b346",
   "metadata": {},
   "outputs": [],
   "source": [
<<<<<<< HEAD
=======
    "\n",
    "\n",
>>>>>>> c51f44b306c20668da126acf530c70d153f634b2
    "numeric_cols = ['Prct_uso_tc', 'Edad', 'Nro_prestao_retrasados', 'Prct_deuda_vs_ingresos', \n",
    "                'Mto_ingreso_mensual', 'Nro_prod_financieros_deuda', \n",
    "                'Nro_retraso_60dias', 'Nro_creditos_hipotecarios', 'Nro_retraso_ultm3anios', 'Nro_dependiente']\n",
    "\n",
    "df_numeric = df[numeric_cols].dropna()\n",
    "\n",
    "scaler = StandardScaler()\n",
<<<<<<< HEAD
    "scaled_data = scaler.fit_transform(df_numeric)"
   ]
  },
  {
   "cell_type": "code",
   "execution_count": 14,
   "id": "8aacedd4",
   "metadata": {},
   "outputs": [
    {
     "data": {
      "text/html": [
       "<div>\n",
       "<style scoped>\n",
       "    .dataframe tbody tr th:only-of-type {\n",
       "        vertical-align: middle;\n",
       "    }\n",
       "\n",
       "    .dataframe tbody tr th {\n",
       "        vertical-align: top;\n",
       "    }\n",
       "\n",
       "    .dataframe thead th {\n",
       "        text-align: right;\n",
       "    }\n",
       "</style>\n",
       "<table border=\"1\" class=\"dataframe\">\n",
       "  <thead>\n",
       "    <tr style=\"text-align: right;\">\n",
       "      <th></th>\n",
       "      <th>Prct_uso_tc</th>\n",
       "      <th>Edad</th>\n",
       "      <th>Nro_prestao_retrasados</th>\n",
       "      <th>Prct_deuda_vs_ingresos</th>\n",
       "      <th>Mto_ingreso_mensual</th>\n",
       "      <th>Nro_prod_financieros_deuda</th>\n",
       "      <th>Nro_retraso_60dias</th>\n",
       "      <th>Nro_creditos_hipotecarios</th>\n",
       "      <th>Nro_retraso_ultm3anios</th>\n",
       "      <th>Nro_dependiente</th>\n",
       "    </tr>\n",
       "  </thead>\n",
       "  <tbody>\n",
       "    <tr>\n",
       "      <th>0</th>\n",
       "      <td>0.766127</td>\n",
       "      <td>45</td>\n",
       "      <td>2</td>\n",
       "      <td>0.802982</td>\n",
       "      <td>9120.0</td>\n",
       "      <td>13</td>\n",
       "      <td>0</td>\n",
       "      <td>6</td>\n",
       "      <td>0</td>\n",
       "      <td>2.0</td>\n",
       "    </tr>\n",
       "    <tr>\n",
       "      <th>1</th>\n",
       "      <td>0.957151</td>\n",
       "      <td>40</td>\n",
       "      <td>0</td>\n",
       "      <td>0.121876</td>\n",
       "      <td>2600.0</td>\n",
       "      <td>4</td>\n",
       "      <td>0</td>\n",
       "      <td>0</td>\n",
       "      <td>0</td>\n",
       "      <td>1.0</td>\n",
       "    </tr>\n",
       "    <tr>\n",
       "      <th>2</th>\n",
       "      <td>0.658180</td>\n",
       "      <td>38</td>\n",
       "      <td>1</td>\n",
       "      <td>0.085113</td>\n",
       "      <td>3042.0</td>\n",
       "      <td>2</td>\n",
       "      <td>1</td>\n",
       "      <td>0</td>\n",
       "      <td>0</td>\n",
       "      <td>0.0</td>\n",
       "    </tr>\n",
       "    <tr>\n",
       "      <th>3</th>\n",
       "      <td>0.233810</td>\n",
       "      <td>30</td>\n",
       "      <td>0</td>\n",
       "      <td>0.036050</td>\n",
       "      <td>3300.0</td>\n",
       "      <td>5</td>\n",
       "      <td>0</td>\n",
       "      <td>0</td>\n",
       "      <td>0</td>\n",
       "      <td>0.0</td>\n",
       "    </tr>\n",
       "    <tr>\n",
       "      <th>4</th>\n",
       "      <td>0.907239</td>\n",
       "      <td>49</td>\n",
       "      <td>1</td>\n",
       "      <td>0.024926</td>\n",
       "      <td>63588.0</td>\n",
       "      <td>7</td>\n",
       "      <td>0</td>\n",
       "      <td>1</td>\n",
       "      <td>0</td>\n",
       "      <td>0.0</td>\n",
       "    </tr>\n",
       "  </tbody>\n",
       "</table>\n",
       "</div>"
      ],
      "text/plain": [
       "   Prct_uso_tc  Edad  Nro_prestao_retrasados  Prct_deuda_vs_ingresos  \\\n",
       "0     0.766127    45                       2                0.802982   \n",
       "1     0.957151    40                       0                0.121876   \n",
       "2     0.658180    38                       1                0.085113   \n",
       "3     0.233810    30                       0                0.036050   \n",
       "4     0.907239    49                       1                0.024926   \n",
       "\n",
       "   Mto_ingreso_mensual  Nro_prod_financieros_deuda  Nro_retraso_60dias  \\\n",
       "0               9120.0                          13                   0   \n",
       "1               2600.0                           4                   0   \n",
       "2               3042.0                           2                   1   \n",
       "3               3300.0                           5                   0   \n",
       "4              63588.0                           7                   0   \n",
       "\n",
       "   Nro_creditos_hipotecarios  Nro_retraso_ultm3anios  Nro_dependiente  \n",
       "0                          6                       0              2.0  \n",
       "1                          0                       0              1.0  \n",
       "2                          0                       0              0.0  \n",
       "3                          0                       0              0.0  \n",
       "4                          1                       0              0.0  "
      ]
     },
     "execution_count": 14,
     "metadata": {},
     "output_type": "execute_result"
    }
   ],
   "source": [
    "df_numeric.head()"
   ]
  },
  {
   "cell_type": "code",
   "execution_count": 16,
   "id": "24a435ea",
   "metadata": {},
   "outputs": [
    {
     "data": {
      "text/plain": [
       "array([[-0.02115001, -0.49385982,  0.37659296, ...,  4.40954554,\n",
       "        -0.05785249,  1.14052977],\n",
       "       [-0.02038516, -0.83234222, -0.10041896, ..., -0.90128301,\n",
       "        -0.05785249,  0.23720186],\n",
       "       [-0.02158222, -0.96773518,  0.138087  , ..., -0.90128301,\n",
       "        -0.05785249, -0.66612604],\n",
       "       ...,\n",
       "       [-0.02323239,  0.38619443, -0.10041896, ..., -0.01614492,\n",
       "        -0.05785249, -0.66612604],\n",
       "       [-0.02421753, -1.50930703, -0.10041896, ..., -0.90128301,\n",
       "        -0.05785249, -0.66612604],\n",
       "       [-0.02081306,  0.79237332, -0.10041896, ...,  0.86899317,\n",
       "        -0.05785249, -0.66612604]])"
      ]
     },
     "execution_count": 16,
     "metadata": {},
     "output_type": "execute_result"
    }
   ],
   "source": [
    "scaled_data"
=======
    "scaled_data = scaler.fit_transform(df_numeric)\n",
    "# scaler.fit(numeric_cols )\n",
    "# scaled_ds = pd.DataFrame(scaler.transform(df_numeric), columns= df_numeric.columns )"
>>>>>>> c51f44b306c20668da126acf530c70d153f634b2
   ]
  },
  {
   "cell_type": "markdown",
   "id": "c9f379bb",
   "metadata": {},
   "source": [
    "### K-means clusterring"
   ]
  },
  {
   "cell_type": "code",
<<<<<<< HEAD
   "execution_count": 10,
=======
   "execution_count": 63,
>>>>>>> c51f44b306c20668da126acf530c70d153f634b2
   "id": "bb1725fe",
   "metadata": {},
   "outputs": [
    {
     "name": "stderr",
     "output_type": "stream",
     "text": [
      "/home/u21/fantacher/.local/lib/python3.8/site-packages/sklearn/cluster/_kmeans.py:1416: FutureWarning: The default value of `n_init` will change from 10 to 'auto' in 1.4. Set the value of `n_init` explicitly to suppress the warning\n",
      "  super()._check_params_vs_input(X, default_n_init=10)\n",
      "/home/u21/fantacher/.local/lib/python3.8/site-packages/sklearn/cluster/_kmeans.py:1416: FutureWarning: The default value of `n_init` will change from 10 to 'auto' in 1.4. Set the value of `n_init` explicitly to suppress the warning\n",
      "  super()._check_params_vs_input(X, default_n_init=10)\n",
      "/home/u21/fantacher/.local/lib/python3.8/site-packages/sklearn/cluster/_kmeans.py:1416: FutureWarning: The default value of `n_init` will change from 10 to 'auto' in 1.4. Set the value of `n_init` explicitly to suppress the warning\n",
      "  super()._check_params_vs_input(X, default_n_init=10)\n",
      "/home/u21/fantacher/.local/lib/python3.8/site-packages/sklearn/cluster/_kmeans.py:1416: FutureWarning: The default value of `n_init` will change from 10 to 'auto' in 1.4. Set the value of `n_init` explicitly to suppress the warning\n",
      "  super()._check_params_vs_input(X, default_n_init=10)\n",
      "/home/u21/fantacher/.local/lib/python3.8/site-packages/sklearn/cluster/_kmeans.py:1416: FutureWarning: The default value of `n_init` will change from 10 to 'auto' in 1.4. Set the value of `n_init` explicitly to suppress the warning\n",
      "  super()._check_params_vs_input(X, default_n_init=10)\n",
      "/home/u21/fantacher/.local/lib/python3.8/site-packages/sklearn/cluster/_kmeans.py:1416: FutureWarning: The default value of `n_init` will change from 10 to 'auto' in 1.4. Set the value of `n_init` explicitly to suppress the warning\n",
      "  super()._check_params_vs_input(X, default_n_init=10)\n",
      "/home/u21/fantacher/.local/lib/python3.8/site-packages/sklearn/cluster/_kmeans.py:1416: FutureWarning: The default value of `n_init` will change from 10 to 'auto' in 1.4. Set the value of `n_init` explicitly to suppress the warning\n",
      "  super()._check_params_vs_input(X, default_n_init=10)\n",
      "/home/u21/fantacher/.local/lib/python3.8/site-packages/sklearn/cluster/_kmeans.py:1416: FutureWarning: The default value of `n_init` will change from 10 to 'auto' in 1.4. Set the value of `n_init` explicitly to suppress the warning\n",
      "  super()._check_params_vs_input(X, default_n_init=10)\n",
      "/home/u21/fantacher/.local/lib/python3.8/site-packages/sklearn/cluster/_kmeans.py:1416: FutureWarning: The default value of `n_init` will change from 10 to 'auto' in 1.4. Set the value of `n_init` explicitly to suppress the warning\n",
      "  super()._check_params_vs_input(X, default_n_init=10)\n",
      "/home/u21/fantacher/.local/lib/python3.8/site-packages/sklearn/cluster/_kmeans.py:1416: FutureWarning: The default value of `n_init` will change from 10 to 'auto' in 1.4. Set the value of `n_init` explicitly to suppress the warning\n",
      "  super()._check_params_vs_input(X, default_n_init=10)\n"
     ]
    },
    {
     "data": {
      "image/png": "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\n",
      "text/plain": [
       "<Figure size 720x432 with 1 Axes>"
      ]
     },
     "metadata": {},
     "output_type": "display_data"
    }
   ],
   "source": [
    "inertia = []\n",
    "k_range = range(1, 11)\n",
    "\n",
    "for k in k_range:\n",
    "    kmeans = KMeans(n_clusters=k, random_state=42)\n",
    "    kmeans.fit(scaled_data)\n",
    "    inertia.append(kmeans.inertia_)\n",
    "\n",
    "plt.figure(figsize=(10, 6))\n",
    "plt.plot(k_range, inertia, marker='o', linestyle='--')\n",
    "plt.title(\"Elbow Method for Optimal K\", fontsize=14)\n",
    "plt.xlabel(\"Number of Clusters (k)\", fontsize=12)\n",
    "plt.ylabel(\"Inertia\", fontsize=12)\n",
    "plt.xticks(k_range)\n",
    "plt.grid(True, linestyle='--', alpha=0.7)\n",
    "plt.savefig(\"Elbow Method for Optimal K.jpg\", dpi=300, bbox_inches=\"tight\")\n",
    "plt.show()"
   ]
  },
  {
   "cell_type": "code",
<<<<<<< HEAD
   "execution_count": 11,
=======
   "execution_count": 64,
>>>>>>> c51f44b306c20668da126acf530c70d153f634b2
   "id": "ef58851e",
   "metadata": {},
   "outputs": [
    {
     "name": "stderr",
     "output_type": "stream",
     "text": [
      "/home/u21/fantacher/.local/lib/python3.8/site-packages/sklearn/cluster/_kmeans.py:1416: FutureWarning: The default value of `n_init` will change from 10 to 'auto' in 1.4. Set the value of `n_init` explicitly to suppress the warning\n",
      "  super()._check_params_vs_input(X, default_n_init=10)\n"
     ]
    },
    {
     "data": {
      "image/png": "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\n",
      "text/plain": [
       "<Figure size 864x576 with 1 Axes>"
      ]
     },
     "metadata": {},
     "output_type": "display_data"
    }
   ],
   "source": [
<<<<<<< HEAD
    "numeric_cols = ['Prct_uso_tc', 'Edad', 'Nro_prestao_retrasados', 'Prct_deuda_vs_ingresos', \n",
    "                'Mto_ingreso_mensual', 'Nro_prod_financieros_deuda', \n",
    "                'Nro_retraso_60dias', 'Nro_creditos_hipotecarios', 'Nro_retraso_ultm3anios', 'Nro_dependiente']\n",
    "\n",
    "df_numeric = df[numeric_cols].dropna()\n",
    "\n",
    "scaler = StandardScaler()\n",
    "scaled_data = scaler.fit_transform(df_numeric)\n",
    "# scaler.fit(numeric_cols )\n",
    "# scaled_ds = pd.DataFrame(scaler.transform(df_numeric), columns= df_numeric.columns )\n",
=======
>>>>>>> c51f44b306c20668da126acf530c70d153f634b2
    "\n",
    "optimal_k = 2\n",
    "kmeans = KMeans(n_clusters=optimal_k, random_state=42)\n",
    "clusters = kmeans.fit_predict(scaled_data)\n",
    "\n",
    "df_numeric['Cluster'] = clusters\n",
    "pca = PCA(n_components=2)\n",
    "\n",
    "pca_data = pca.fit_transform(scaled_data)\n",
    "\n",
    "# Create a dataframe for plotting\n",
    "pca_df = pd.DataFrame(data=pca_data, columns=['PCA1', 'PCA2'])\n",
    "pca_df['Cluster'] = clusters\n",
    "\n",
    "# Plot the clusters\n",
    "plt.figure(figsize=(12, 8))\n",
    "sns.scatterplot(x='PCA1', y='PCA2', hue='Cluster', data=pca_df, palette='Set2', s=100, edgecolor='black')\n",
    "plt.title(\"K-Means Clustering (PCA Projection)\", fontsize=16)\n",
    "plt.xlabel(\"Principal Component 1\", fontsize=12)\n",
    "plt.ylabel(\"Principal Component 2\", fontsize=12)\n",
    "plt.legend(title=\"Cluster\", fontsize=10)\n",
    "plt.grid(True, linestyle='--', alpha=0.7)\n",
    "plt.savefig(\"K-Means Clustering (PCA Projection).jpg\", dpi=300, bbox_inches=\"tight\")\n",
    "plt.show()\n"
   ]
  },
  {
   "cell_type": "code",
<<<<<<< HEAD
   "execution_count": 12,
   "id": "ce7ca178",
   "metadata": {},
   "outputs": [
    {
     "data": {
      "text/html": [
       "<div>\n",
       "<style scoped>\n",
       "    .dataframe tbody tr th:only-of-type {\n",
       "        vertical-align: middle;\n",
       "    }\n",
       "\n",
       "    .dataframe tbody tr th {\n",
       "        vertical-align: top;\n",
       "    }\n",
       "\n",
       "    .dataframe thead th {\n",
       "        text-align: right;\n",
       "    }\n",
       "</style>\n",
       "<table border=\"1\" class=\"dataframe\">\n",
       "  <thead>\n",
       "    <tr style=\"text-align: right;\">\n",
       "      <th></th>\n",
       "      <th>PCA1</th>\n",
       "      <th>PCA2</th>\n",
       "      <th>Cluster</th>\n",
       "    </tr>\n",
       "  </thead>\n",
       "  <tbody>\n",
       "    <tr>\n",
       "      <th>0</th>\n",
       "      <td>-0.140572</td>\n",
       "      <td>3.708860</td>\n",
       "      <td>0</td>\n",
       "    </tr>\n",
       "    <tr>\n",
       "      <th>1</th>\n",
       "      <td>0.040396</td>\n",
       "      <td>-1.310462</td>\n",
       "      <td>0</td>\n",
       "    </tr>\n",
       "    <tr>\n",
       "      <th>2</th>\n",
       "      <td>0.359709</td>\n",
       "      <td>-1.739348</td>\n",
       "      <td>0</td>\n",
       "    </tr>\n",
       "    <tr>\n",
       "      <th>3</th>\n",
       "      <td>0.071870</td>\n",
       "      <td>-1.460424</td>\n",
       "      <td>0</td>\n",
       "    </tr>\n",
       "    <tr>\n",
       "      <th>4</th>\n",
       "      <td>-0.031871</td>\n",
       "      <td>0.740138</td>\n",
       "      <td>0</td>\n",
       "    </tr>\n",
       "    <tr>\n",
       "      <th>...</th>\n",
       "      <td>...</td>\n",
       "      <td>...</td>\n",
       "      <td>...</td>\n",
       "    </tr>\n",
       "    <tr>\n",
       "      <th>149995</th>\n",
       "      <td>-0.131702</td>\n",
       "      <td>-0.632015</td>\n",
       "      <td>0</td>\n",
       "    </tr>\n",
       "    <tr>\n",
       "      <th>149996</th>\n",
       "      <td>-0.034862</td>\n",
       "      <td>-0.434934</td>\n",
       "      <td>0</td>\n",
       "    </tr>\n",
       "    <tr>\n",
       "      <th>149997</th>\n",
       "      <td>-0.299117</td>\n",
       "      <td>1.218221</td>\n",
       "      <td>0</td>\n",
       "    </tr>\n",
       "    <tr>\n",
       "      <th>149998</th>\n",
       "      <td>0.083227</td>\n",
       "      <td>-1.537575</td>\n",
       "      <td>0</td>\n",
       "    </tr>\n",
       "    <tr>\n",
       "      <th>149999</th>\n",
       "      <td>-0.207952</td>\n",
       "      <td>0.477889</td>\n",
       "      <td>0</td>\n",
       "    </tr>\n",
       "  </tbody>\n",
       "</table>\n",
       "<p>150000 rows × 3 columns</p>\n",
       "</div>"
      ],
      "text/plain": [
       "            PCA1      PCA2  Cluster\n",
       "0      -0.140572  3.708860        0\n",
       "1       0.040396 -1.310462        0\n",
       "2       0.359709 -1.739348        0\n",
       "3       0.071870 -1.460424        0\n",
       "4      -0.031871  0.740138        0\n",
       "...          ...       ...      ...\n",
       "149995 -0.131702 -0.632015        0\n",
       "149996 -0.034862 -0.434934        0\n",
       "149997 -0.299117  1.218221        0\n",
       "149998  0.083227 -1.537575        0\n",
       "149999 -0.207952  0.477889        0\n",
       "\n",
       "[150000 rows x 3 columns]"
      ]
     },
     "execution_count": 12,
     "metadata": {},
     "output_type": "execute_result"
    }
   ],
   "source": [
    "pca_df"
=======
   "execution_count": 94,
   "id": "78d938ae",
   "metadata": {},
   "outputs": [],
   "source": [
    "# #Initiating the Agglomerative Clustering model \n",
    "# AC = AgglomerativeClustering(n_clusters=4)\n",
    "# # fit model and predict clusters\n",
    "# yhat_AC = AC.fit_predict(PCA_ds)\n",
    "# PCA_ds[\"Clusters\"] = yhat_AC\n",
    "# #Adding the Clusters feature to the orignal dataframe.\n",
    "# data[\"Clusters\"]= yhat_AC"
   ]
  },
  {
   "cell_type": "code",
   "execution_count": 38,
   "id": "442acf79",
   "metadata": {},
   "outputs": [],
   "source": [
    "# #Plotting the clusters\n",
    "# fig = plt.figure(figsize=(10,8))\n",
    "# ax = plt.subplot(111, projection='3d', label=\"bla\")\n",
    "# ax.scatter(x, y, z, s=40, c=PCA_ds[\"Clusters\"], marker='o', cmap = cmap )\n",
    "# ax.set_title(\"The Plot Of The Clusters\")\n",
    "# plt.show()"
>>>>>>> c51f44b306c20668da126acf530c70d153f634b2
   ]
  },
  {
   "cell_type": "code",
   "execution_count": null,
   "id": "8dfbdb09",
   "metadata": {},
   "outputs": [],
   "source": [
    "# !pip install yellowbrick"
   ]
  },
  {
<<<<<<< HEAD
=======
   "cell_type": "code",
   "execution_count": null,
   "id": "e81a88b2",
   "metadata": {},
   "outputs": [],
   "source": [
    "from yellowbrick.cluster import KElbowVisualizer\n",
    "print('Elbow Method to determine the number of clusters to be formed:')\n",
    "Elbow_M = KElbowVisualizer(KMeans(), k=10)\n",
    "Elbow_M.fit(PCA_ds)\n",
    "Elbow_M.show()"
   ]
  },
  {
   "cell_type": "code",
   "execution_count": null,
   "id": "d23f1f0b",
   "metadata": {},
   "outputs": [],
   "source": []
  },
  {
   "cell_type": "code",
   "execution_count": null,
   "id": "31918b66",
   "metadata": {},
   "outputs": [],
   "source": []
  },
  {
   "cell_type": "code",
   "execution_count": null,
   "id": "27df89bd",
   "metadata": {},
   "outputs": [],
   "source": [
    "pca = PCA(n_components=3)\n",
    "pca.fit(scaled_ds)\n",
    "PCA_ds = pd.DataFrame(pca.transform(scaled_ds), columns=([\"col1\",\"col2\", \"col3\"]))\n",
    "PCA_ds.describe().T"
   ]
  },
  {
>>>>>>> c51f44b306c20668da126acf530c70d153f634b2
   "cell_type": "markdown",
   "id": "ec2dd1bb",
   "metadata": {},
   "source": [
    "### Hierarchical Clusterring"
   ]
  },
  {
   "cell_type": "code",
   "execution_count": 65,
   "id": "ff74918b",
   "metadata": {},
   "outputs": [
    {
     "data": {
      "image/png": "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\n",
      "text/plain": [
       "<Figure size 1080x720 with 1 Axes>"
      ]
     },
     "metadata": {},
     "output_type": "display_data"
    }
   ],
   "source": [
    "sampled_data = scaled_data[:1000] if scaled_data.shape[0] > 1000 else scaled_data  # Sample for large data\n",
    "linked = linkage(sampled_data, method='ward')\n",
    "\n",
    "plt.figure(figsize=(15, 10))\n",
    "dendrogram(linked, truncate_mode='level', p=5, leaf_rotation=45, leaf_font_size=12, color_threshold=0.5 * np.max(linked[:, 2]))\n",
    "plt.title(\"Dendrogram for Hierarchical Clustering\", fontsize=16)\n",
    "plt.xlabel(\"Cluster Size\", fontsize=12)\n",
    "plt.ylabel(\"Distance\", fontsize=12)\n",
    "plt.grid(True, linestyle='--', alpha=0.7)\n",
    "plt.savefig(\"Hierarchical Clusterring.jpg\", dpi=300, bbox_inches=\"tight\")\n",
    "plt.show()"
   ]
  },
  {
   "cell_type": "code",
   "execution_count": null,
   "id": "7e5116fb",
   "metadata": {},
   "outputs": [
    {
     "name": "stdout",
     "output_type": "stream",
     "text": [
      "Silhouette Score for k=2: 0.9317910326846138\n"
     ]
    }
   ],
   "source": [
    "from sklearn.metrics import silhouette_score\n",
    "\n",
    "for k in range(2, 10):\n",
    "    kmeans = KMeans(n_clusters=k, random_state=42)\n",
    "    labels = kmeans.fit_predict(scaled_data)\n",
    "    score = silhouette_score(scaled_data, labels)\n",
    "    print(f\"Silhouette Score for k={k}: {score}\")\n"
   ]
  },
  {
   "cell_type": "code",
   "execution_count": 68,
   "id": "60998df6",
   "metadata": {},
   "outputs": [
    {
     "data": {
      "text/plain": [
       "[0.9317842165716668,\n",
       " 0.2283909933619689,\n",
       " 0.2152235581529685,\n",
       " 0.2165143964199994,\n",
       " 0.24705799164497147,\n",
       " 0.24895427159007769,\n",
       " 0.249760290326186,\n",
       " 0.24866559387878553,\n",
       " 0.23114872607846518]"
      ]
     },
     "execution_count": 68,
     "metadata": {},
     "output_type": "execute_result"
    }
   ],
   "source": [
    "silhouette_scores"
   ]
  },
  {
   "cell_type": "code",
   "execution_count": 70,
   "id": "9a5ba36e",
   "metadata": {},
   "outputs": [
    {
     "data": {
      "image/png": "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\n",
      "text/plain": [
       "<Figure size 720x432 with 1 Axes>"
      ]
     },
     "metadata": {},
     "output_type": "display_data"
    },
    {
     "name": "stdout",
     "output_type": "stream",
     "text": [
      "Optimal number of clusters based on silhouette score: 2\n"
     ]
    }
   ],
   "source": [
<<<<<<< HEAD
    "silhouette_scores = []\n",
    "k_range = range(2, 11)  # Evaluate k from 2 to 10\n",
    "\n",
    "for k in k_range:\n",
    "    kmeans = KMeans(n_clusters=k, random_state=42)\n",
    "    labels = kmeans.fit_predict(scaled_data)  # scaled_data is your standardized dataset\n",
    "    score = silhouette_score(scaled_data, labels)\n",
    "    silhouette_scores.append(score)\n",
=======
    "\n",
    "\n",
    "# # Perform silhouette analysis for a range of cluster numbers\n",
    "# silhouette_scores = []\n",
    "k_range = range(2, 11)  # Evaluate k from 2 to 10\n",
    "\n",
    "# for k in k_range:\n",
    "#     kmeans = KMeans(n_clusters=k, random_state=42)\n",
    "#     labels = kmeans.fit_predict(scaled_data)  # scaled_data is your standardized dataset\n",
    "#     score = silhouette_score(scaled_data, labels)\n",
    "#     silhouette_scores.append(score)\n",
>>>>>>> c51f44b306c20668da126acf530c70d153f634b2
    "\n",
    "# Plot silhouette scores for each k\n",
    "plt.figure(figsize=(10, 6))\n",
    "plt.plot(k_range, silhouette_scores, marker='o', linestyle='--')\n",
    "plt.title(\"Silhouette Analysis for Optimal k\", fontsize=14)\n",
    "plt.xlabel(\"Number of Clusters (k)\", fontsize=12)\n",
    "plt.ylabel(\"Silhouette Score\", fontsize=12)\n",
    "plt.xticks(k_range)\n",
    "plt.grid(True, linestyle='--', alpha=0.7)\n",
    "plt.savefig(\"Silhouette_Clusterring.jpg\", dpi=300, bbox_inches=\"tight\")\n",
    "plt.show()\n",
    "\n",
    "# Find and print the optimal k with the highest silhouette score\n",
    "optimal_k = k_range[silhouette_scores.index(max(silhouette_scores))]\n",
    "print(f\"Optimal number of clusters based on silhouette score: {optimal_k}\")\n"
   ]
  },
  {
   "cell_type": "code",
   "execution_count": null,
   "id": "3afb349e",
   "metadata": {},
   "outputs": [],
   "source": []
  },
  {
   "cell_type": "code",
   "execution_count": null,
   "id": "072767c5",
   "metadata": {},
   "outputs": [],
   "source": []
  }
 ],
 "metadata": {
  "kernelspec": {
   "display_name": "Python 3 (ipykernel)",
   "language": "python",
   "name": "python3"
  },
  "language_info": {
   "codemirror_mode": {
    "name": "ipython",
    "version": 3
   },
   "file_extension": ".py",
   "mimetype": "text/x-python",
   "name": "python",
   "nbconvert_exporter": "python",
   "pygments_lexer": "ipython3",
   "version": "3.8.12"
  }
 },
 "nbformat": 4,
 "nbformat_minor": 5
}
