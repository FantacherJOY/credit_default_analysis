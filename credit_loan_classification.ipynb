{
 "cells": [
  {
   "cell_type": "code",
<<<<<<< HEAD
   "execution_count": 137,
=======
   "execution_count": 104,
>>>>>>> c51f44b306c20668da126acf530c70d153f634b2
   "id": "d899b225",
   "metadata": {},
   "outputs": [],
   "source": [
    "import pandas as pd\n",
    "import numpy as np\n",
    "import matplotlib.pyplot as plt\n",
    "import seaborn as sns\n",
    "from sklearn.model_selection import train_test_split\n",
    "from sklearn.model_selection import cross_val_score\n",
    "from sklearn.preprocessing import StandardScaler, LabelEncoder\n",
    "from sklearn.cluster import KMeans\n",
    "from sklearn.decomposition import PCA\n",
    "from sklearn.ensemble import RandomForestClassifier\n",
    "from sklearn.metrics import confusion_matrix, classification_report\n",
    "from sklearn.impute import SimpleImputer\n",
    "from sklearn.linear_model import LinearRegression"
   ]
  },
  {
   "cell_type": "code",
<<<<<<< HEAD
   "execution_count": 138,
=======
   "execution_count": 13,
>>>>>>> c51f44b306c20668da126acf530c70d153f634b2
   "id": "134c3d49",
   "metadata": {},
   "outputs": [],
   "source": [
    "df=pd.read_csv('credit_scoring.csv')"
   ]
  },
  {
   "cell_type": "markdown",
   "id": "952d2632",
   "metadata": {},
   "source": [
    "### Data Descriptions"
   ]
  },
  {
   "cell_type": "markdown",
   "id": "af09df79",
   "metadata": {},
   "source": [
    "| Variable Name                  | Description                                                                 | Type       |\n",
    "|:-------------------------------|:----------------------------------------------------------------------------|:-----------|\n",
    "| Default                        | Client with more than 90 days without paying their loan                     | Y/N        |\n",
    "| Prct_uso_tc                    | Percentage of credit card usage in the last month                           | percentage |\n",
    "| Edad                           | Age                                                                         | integer    |\n",
    "| Nro_prestamo_retrasados        | Number of loans with payment delays of more than 3 months in the last 3 years | integer    |\n",
    "| Prct_deuda_vs_ingresos         | Financial debt-to-income ratio                                              | percentage |\n",
    "| Mto_ingreso_mensual            | Monthly income amount                                                       | real       |\n",
    "| Nro_prod_financieros_deuda     | Number of loans (including vehicle or mortgage loans) and number of credit cards last year | integer |\n",
    "| Nro_retraso_60dias             | Number of times the client has been over 60 days late in the last 3 years    | integer    |\n",
    "| Nro_creditos_hipotecarios      | Number of mortgage loans                                                    | integer    |\n",
    "| Nro_retraso_ultm3anios         | Number of payment delays over 30 days in the last 3 years                   | integer    |\n",
    "| Nro_dependiente                | Number of dependents                                                        | integer    |\n"
   ]
  },
  {
   "cell_type": "code",
<<<<<<< HEAD
   "execution_count": 139,
=======
   "execution_count": 14,
>>>>>>> c51f44b306c20668da126acf530c70d153f634b2
   "id": "f17e6e84",
   "metadata": {
    "scrolled": true
   },
   "outputs": [
    {
     "data": {
      "text/html": [
       "<div>\n",
       "<style scoped>\n",
       "    .dataframe tbody tr th:only-of-type {\n",
       "        vertical-align: middle;\n",
       "    }\n",
       "\n",
       "    .dataframe tbody tr th {\n",
       "        vertical-align: top;\n",
       "    }\n",
       "\n",
       "    .dataframe thead th {\n",
       "        text-align: right;\n",
       "    }\n",
       "</style>\n",
       "<table border=\"1\" class=\"dataframe\">\n",
       "  <thead>\n",
       "    <tr style=\"text-align: right;\">\n",
       "      <th></th>\n",
       "      <th>ID</th>\n",
       "      <th>Default</th>\n",
       "      <th>Prct_uso_tc</th>\n",
       "      <th>Edad</th>\n",
       "      <th>Nro_prestao_retrasados</th>\n",
       "      <th>Prct_deuda_vs_ingresos</th>\n",
       "      <th>Mto_ingreso_mensual</th>\n",
       "      <th>Nro_prod_financieros_deuda</th>\n",
       "      <th>Nro_retraso_60dias</th>\n",
       "      <th>Nro_creditos_hipotecarios</th>\n",
       "      <th>Nro_retraso_ultm3anios</th>\n",
       "      <th>Nro_dependiente</th>\n",
       "    </tr>\n",
       "  </thead>\n",
       "  <tbody>\n",
       "    <tr>\n",
       "      <th>0</th>\n",
       "      <td>1</td>\n",
       "      <td>1</td>\n",
       "      <td>0.766127</td>\n",
       "      <td>45</td>\n",
       "      <td>2</td>\n",
       "      <td>0.802982</td>\n",
       "      <td>9120.0</td>\n",
       "      <td>13</td>\n",
       "      <td>0</td>\n",
       "      <td>6</td>\n",
       "      <td>0</td>\n",
       "      <td>2.0</td>\n",
       "    </tr>\n",
       "    <tr>\n",
       "      <th>1</th>\n",
       "      <td>2</td>\n",
       "      <td>0</td>\n",
       "      <td>0.957151</td>\n",
       "      <td>40</td>\n",
       "      <td>0</td>\n",
       "      <td>0.121876</td>\n",
       "      <td>2600.0</td>\n",
       "      <td>4</td>\n",
       "      <td>0</td>\n",
       "      <td>0</td>\n",
       "      <td>0</td>\n",
       "      <td>1.0</td>\n",
       "    </tr>\n",
       "    <tr>\n",
       "      <th>2</th>\n",
       "      <td>3</td>\n",
       "      <td>0</td>\n",
       "      <td>0.658180</td>\n",
       "      <td>38</td>\n",
       "      <td>1</td>\n",
       "      <td>0.085113</td>\n",
       "      <td>3042.0</td>\n",
       "      <td>2</td>\n",
       "      <td>1</td>\n",
       "      <td>0</td>\n",
       "      <td>0</td>\n",
       "      <td>0.0</td>\n",
       "    </tr>\n",
       "    <tr>\n",
       "      <th>3</th>\n",
       "      <td>4</td>\n",
       "      <td>0</td>\n",
       "      <td>0.233810</td>\n",
       "      <td>30</td>\n",
       "      <td>0</td>\n",
       "      <td>0.036050</td>\n",
       "      <td>3300.0</td>\n",
       "      <td>5</td>\n",
       "      <td>0</td>\n",
       "      <td>0</td>\n",
       "      <td>0</td>\n",
       "      <td>0.0</td>\n",
       "    </tr>\n",
       "    <tr>\n",
       "      <th>4</th>\n",
       "      <td>5</td>\n",
       "      <td>0</td>\n",
       "      <td>0.907239</td>\n",
       "      <td>49</td>\n",
       "      <td>1</td>\n",
       "      <td>0.024926</td>\n",
       "      <td>63588.0</td>\n",
       "      <td>7</td>\n",
       "      <td>0</td>\n",
       "      <td>1</td>\n",
       "      <td>0</td>\n",
       "      <td>0.0</td>\n",
       "    </tr>\n",
       "  </tbody>\n",
       "</table>\n",
       "</div>"
      ],
      "text/plain": [
       "   ID  Default  Prct_uso_tc  Edad  Nro_prestao_retrasados  \\\n",
       "0   1        1     0.766127    45                       2   \n",
       "1   2        0     0.957151    40                       0   \n",
       "2   3        0     0.658180    38                       1   \n",
       "3   4        0     0.233810    30                       0   \n",
       "4   5        0     0.907239    49                       1   \n",
       "\n",
       "   Prct_deuda_vs_ingresos  Mto_ingreso_mensual  Nro_prod_financieros_deuda  \\\n",
       "0                0.802982               9120.0                          13   \n",
       "1                0.121876               2600.0                           4   \n",
       "2                0.085113               3042.0                           2   \n",
       "3                0.036050               3300.0                           5   \n",
       "4                0.024926              63588.0                           7   \n",
       "\n",
       "   Nro_retraso_60dias  Nro_creditos_hipotecarios  Nro_retraso_ultm3anios  \\\n",
       "0                   0                          6                       0   \n",
       "1                   0                          0                       0   \n",
       "2                   1                          0                       0   \n",
       "3                   0                          0                       0   \n",
       "4                   0                          1                       0   \n",
       "\n",
       "   Nro_dependiente  \n",
       "0              2.0  \n",
       "1              1.0  \n",
       "2              0.0  \n",
       "3              0.0  \n",
       "4              0.0  "
      ]
     },
<<<<<<< HEAD
     "execution_count": 139,
=======
     "execution_count": 14,
>>>>>>> c51f44b306c20668da126acf530c70d153f634b2
     "metadata": {},
     "output_type": "execute_result"
    }
   ],
   "source": [
    "df.head(5)"
   ]
  },
  {
   "cell_type": "code",
<<<<<<< HEAD
   "execution_count": 140,
=======
   "execution_count": 15,
>>>>>>> c51f44b306c20668da126acf530c70d153f634b2
   "id": "b8aa0c2e",
   "metadata": {},
   "outputs": [
    {
     "name": "stdout",
     "output_type": "stream",
     "text": [
      "Missing Values:\n",
      " ID                                0\n",
      "Default                           0\n",
      "Prct_uso_tc                       0\n",
      "Edad                              0\n",
      "Nro_prestao_retrasados            0\n",
      "Prct_deuda_vs_ingresos            0\n",
      "Mto_ingreso_mensual           29731\n",
      "Nro_prod_financieros_deuda        0\n",
      "Nro_retraso_60dias                0\n",
      "Nro_creditos_hipotecarios         0\n",
      "Nro_retraso_ultm3anios            0\n",
      "Nro_dependiente                3924\n",
      "dtype: int64\n"
     ]
    }
   ],
   "source": [
    "print(\"Missing Values:\\n\", df.isnull().sum())"
   ]
  },
  {
   "cell_type": "code",
<<<<<<< HEAD
   "execution_count": 141,
=======
   "execution_count": 16,
>>>>>>> c51f44b306c20668da126acf530c70d153f634b2
   "id": "3dd2bcb7",
   "metadata": {},
   "outputs": [
    {
     "name": "stdout",
     "output_type": "stream",
     "text": [
      "Missing Values After Imputation:\n",
      " ID                            0\n",
      "Default                       0\n",
      "Prct_uso_tc                   0\n",
      "Edad                          0\n",
      "Nro_prestao_retrasados        0\n",
      "Prct_deuda_vs_ingresos        0\n",
      "Mto_ingreso_mensual           0\n",
      "Nro_prod_financieros_deuda    0\n",
      "Nro_retraso_60dias            0\n",
      "Nro_creditos_hipotecarios     0\n",
      "Nro_retraso_ultm3anios        0\n",
      "Nro_dependiente               0\n",
      "dtype: int64\n"
     ]
    }
   ],
   "source": [
<<<<<<< HEAD
=======
    "# Handling missing values in 'Mto_ingreso_mensual'\n",
    "# Option 1: Replace with median\n",
    "# df['Mto_ingreso_mensual'].fillna(df['Mto_ingreso_mensual'].median(), inplace=True)\n",
    "\n",
    "# Option 2: Predictive imputation (if preferred)\n",
    "# Uncomment and use this block for predictive imputation\n",
    "\n",
>>>>>>> c51f44b306c20668da126acf530c70d153f634b2
    "# Separate rows with and without missing target values\n",
    "impute_df = df[df['Mto_ingreso_mensual'].notnull()]\n",
    "predict_df = df[df['Mto_ingreso_mensual'].isnull()]\n",
    "\n",
    "# Define predictors (drop columns not used for prediction)\n",
    "X_train = impute_df.drop(['Mto_ingreso_mensual', 'ID', 'Default'], axis=1)\n",
    "y_train = impute_df['Mto_ingreso_mensual']\n",
    "X_predict = predict_df.drop(['Mto_ingreso_mensual', 'ID', 'Default'], axis=1)\n",
    "\n",
    "# Impute missing values in predictors\n",
    "imputer = SimpleImputer(strategy='mean')  # You can use 'median' or 'most_frequent' instead\n",
    "X_train = imputer.fit_transform(X_train)\n",
    "X_predict = imputer.transform(X_predict)\n",
    "\n",
    "# Train the regression model\n",
    "reg = LinearRegression()\n",
    "reg.fit(X_train, y_train)\n",
    "\n",
    "# Predict missing values\n",
    "predicted_values = reg.predict(X_predict)\n",
    "\n",
    "# Fill missing values in the original DataFrame\n",
    "df.loc[df['Mto_ingreso_mensual'].isnull(), 'Mto_ingreso_mensual'] = predicted_values\n",
    "\n",
    "# Handling missing values in 'Nro_dependiente'\n",
    "# Replace missing values with median\n",
    "df['Nro_dependiente'].fillna(df['Nro_dependiente'].median(), inplace=True)\n",
    "\n",
    "# Verify there are no missing values left\n",
    "print(\"Missing Values After Imputation:\\n\", df.isnull().sum())"
   ]
  },
  {
   "cell_type": "code",
<<<<<<< HEAD
   "execution_count": 142,
=======
   "execution_count": null,
   "id": "61cb2a39",
   "metadata": {},
   "outputs": [],
   "source": []
  },
  {
   "cell_type": "code",
   "execution_count": 100,
>>>>>>> c51f44b306c20668da126acf530c70d153f634b2
   "id": "dfe383a4",
   "metadata": {},
   "outputs": [
    {
     "data": {
      "text/plain": [
       "Index(['ID', 'Default', 'Prct_uso_tc', 'Edad', 'Nro_prestao_retrasados',\n",
       "       'Prct_deuda_vs_ingresos', 'Mto_ingreso_mensual',\n",
       "       'Nro_prod_financieros_deuda', 'Nro_retraso_60dias',\n",
       "       'Nro_creditos_hipotecarios', 'Nro_retraso_ultm3anios',\n",
       "       'Nro_dependiente'],\n",
       "      dtype='object')"
      ]
     },
<<<<<<< HEAD
     "execution_count": 142,
=======
     "execution_count": 100,
>>>>>>> c51f44b306c20668da126acf530c70d153f634b2
     "metadata": {},
     "output_type": "execute_result"
    }
   ],
   "source": [
    "df.columns"
   ]
  },
  {
   "cell_type": "code",
<<<<<<< HEAD
   "execution_count": 145,
=======
   "execution_count": 18,
   "id": "2a72de73",
   "metadata": {},
   "outputs": [],
   "source": [
    "# df.rename(columns={\n",
    "#     'Prct_uso_tc': 'per_credit_card_usage',\n",
    "#     'Edad': 'age',\n",
    "#     'Nro_prestao_retrasados': 'No_loans_3mts_3yrs',\n",
    "#     'Prct_deuda_vs_ingresos': 'debt_to_income',\n",
    "#     'Mto_ingreso_mensual': 'monthly_income',\n",
    "#     'Nro_prod_financieros_deuda': 'number_loans_and_credit_cards',\n",
    "#     'Nro_retraso_60dias':'60days_late_3yrs',\n",
    "#     'Nro_creditos_hipotecarios':'mortgage_loans',\n",
    "#     'Nro_retraso_ultm3anios':'pay_delays_30ds_3yrs',\n",
    "#     'Nro_dependiente':'number_dependent'\n",
    "# }, inplace=True)"
   ]
  },
  {
   "cell_type": "code",
   "execution_count": 19,
   "id": "956551d2",
   "metadata": {},
   "outputs": [],
   "source": [
    "# df[['Default','age','debt_to_income']]"
   ]
  },
  {
   "cell_type": "code",
   "execution_count": 21,
>>>>>>> c51f44b306c20668da126acf530c70d153f634b2
   "id": "2491f389",
   "metadata": {},
   "outputs": [],
   "source": [
    "df = df[df['ID'] != 65696]"
   ]
  },
  {
   "cell_type": "code",
<<<<<<< HEAD
   "execution_count": 146,
=======
   "execution_count": 22,
>>>>>>> c51f44b306c20668da126acf530c70d153f634b2
   "id": "5531852d",
   "metadata": {},
   "outputs": [
    {
     "name": "stdout",
     "output_type": "stream",
     "text": [
      "<class 'pandas.core.frame.DataFrame'>\n",
      "Int64Index: 149999 entries, 0 to 149999\n",
      "Data columns (total 12 columns):\n",
      " #   Column                      Non-Null Count   Dtype  \n",
      "---  ------                      --------------   -----  \n",
      " 0   ID                          149999 non-null  int64  \n",
      " 1   Default                     149999 non-null  int64  \n",
      " 2   Prct_uso_tc                 149999 non-null  float64\n",
      " 3   Edad                        149999 non-null  int64  \n",
      " 4   Nro_prestao_retrasados      149999 non-null  int64  \n",
      " 5   Prct_deuda_vs_ingresos      149999 non-null  float64\n",
      " 6   Mto_ingreso_mensual         149999 non-null  float64\n",
      " 7   Nro_prod_financieros_deuda  149999 non-null  int64  \n",
      " 8   Nro_retraso_60dias          149999 non-null  int64  \n",
      " 9   Nro_creditos_hipotecarios   149999 non-null  int64  \n",
      " 10  Nro_retraso_ultm3anios      149999 non-null  int64  \n",
      " 11  Nro_dependiente             149999 non-null  float64\n",
      "dtypes: float64(4), int64(8)\n",
      "memory usage: 14.9 MB\n"
     ]
    }
   ],
   "source": [
    "df.info()"
   ]
  },
  {
   "cell_type": "code",
<<<<<<< HEAD
   "execution_count": 147,
=======
   "execution_count": 23,
>>>>>>> c51f44b306c20668da126acf530c70d153f634b2
   "id": "cef26bb3",
   "metadata": {},
   "outputs": [
    {
     "name": "stdout",
     "output_type": "stream",
     "text": [
      "Missing Values:\n",
      " ID                            0\n",
      "Default                       0\n",
      "Prct_uso_tc                   0\n",
      "Edad                          0\n",
      "Nro_prestao_retrasados        0\n",
      "Prct_deuda_vs_ingresos        0\n",
      "Mto_ingreso_mensual           0\n",
      "Nro_prod_financieros_deuda    0\n",
      "Nro_retraso_60dias            0\n",
      "Nro_creditos_hipotecarios     0\n",
      "Nro_retraso_ultm3anios        0\n",
      "Nro_dependiente               0\n",
      "dtype: int64\n"
     ]
    }
   ],
   "source": [
    "print(\"Missing Values:\\n\", df.isnull().sum())"
   ]
  },
  {
   "cell_type": "markdown",
   "id": "40d1a722",
   "metadata": {},
   "source": [
    "### Classifications"
   ]
  },
  {
   "cell_type": "code",
<<<<<<< HEAD
   "execution_count": 148,
=======
   "execution_count": 24,
>>>>>>> c51f44b306c20668da126acf530c70d153f634b2
   "id": "3de909d3",
   "metadata": {},
   "outputs": [],
   "source": [
    "from sklearn.tree import DecisionTreeClassifier\n",
    "from sklearn.naive_bayes import GaussianNB\n",
    "from sklearn.ensemble import RandomForestClassifier\n",
    "from sklearn.svm import SVC\n",
    "from sklearn.neighbors import KNeighborsClassifier\n",
    "from sklearn.metrics import classification_report, accuracy_score\n",
    "from sklearn.impute import SimpleImputer"
   ]
  },
  {
   "cell_type": "code",
<<<<<<< HEAD
   "execution_count": 149,
=======
   "execution_count": 26,
>>>>>>> c51f44b306c20668da126acf530c70d153f634b2
   "id": "504e595a",
   "metadata": {},
   "outputs": [],
   "source": [
    "# Selecting the identified features and the target variable\n",
    "selected_features = ['Prct_deuda_vs_ingresos', 'Mto_ingreso_mensual', 'Edad', \n",
    "                     'Nro_prestao_retrasados', 'Nro_dependiente', 'Prct_uso_tc']\n",
    "target = 'Default'\n",
    "\n",
    "# Handling missing values with imputation\n",
    "imputer = SimpleImputer(strategy='mean')\n",
    "df[selected_features] = imputer.fit_transform(df[selected_features])\n",
    "\n",
    "# Splitting into features (X) and target variable (y)\n",
    "X = df[selected_features]\n",
    "y = df[target]\n",
    "\n",
    "# Scaling the features\n",
    "scaler = StandardScaler()\n",
    "X_scaled = scaler.fit_transform(X)\n",
    "\n",
    "# Splitting into training and test sets\n",
    "X_train, X_test, y_train, y_test = train_test_split(X_scaled, y, test_size=0.2, random_state=42)"
   ]
  },
  {
   "cell_type": "code",
   "execution_count": null,
   "id": "4640e388",
   "metadata": {},
   "outputs": [],
   "source": []
  },
  {
   "cell_type": "markdown",
   "id": "42175a83",
   "metadata": {},
   "source": [
    "### Decision Tree Classifier"
   ]
  },
  {
   "cell_type": "code",
<<<<<<< HEAD
   "execution_count": 150,
=======
   "execution_count": 95,
>>>>>>> c51f44b306c20668da126acf530c70d153f634b2
   "id": "d5729153",
   "metadata": {},
   "outputs": [
    {
     "name": "stdout",
     "output_type": "stream",
     "text": [
      "----- Decision Tree -----\n",
<<<<<<< HEAD
      "Accuracy: 0.89\n",
      "Classification Report:\n",
      "               precision    recall  f1-score   support\n",
      "\n",
      "           0       0.95      0.94      0.94     28041\n",
      "           1       0.22      0.25      0.23      1959\n",
      "\n",
      "    accuracy                           0.89     30000\n",
      "   macro avg       0.58      0.59      0.59     30000\n",
      "weighted avg       0.90      0.89      0.90     30000\n",
=======
      "Accuracy: 0.68\n",
      "Classification Report:\n",
      "               precision    recall  f1-score   support\n",
      "\n",
      "           0       0.98      0.68      0.80     28041\n",
      "           1       0.15      0.81      0.25      1959\n",
      "\n",
      "    accuracy                           0.68     30000\n",
      "   macro avg       0.56      0.74      0.53     30000\n",
      "weighted avg       0.93      0.68      0.76     30000\n",
>>>>>>> c51f44b306c20668da126acf530c70d153f634b2
      "\n"
     ]
    }
   ],
   "source": [
    "# Initialize and train the model\n",
<<<<<<< HEAD
    "clf = DecisionTreeClassifier()\n",
=======
    "clf = DecisionTreeClassifier(max_depth=3, class_weight=\"balanced\", random_state=42)\n",
>>>>>>> c51f44b306c20668da126acf530c70d153f634b2
    "clf=clf.fit(X_train, y_train)\n",
    "\n",
    "# Make predictions\n",
    "y_pred_dt = clf.predict(X_test)\n",
    "\n",
    "# Evaluate the model\n",
    "print(\"----- Decision Tree -----\")\n",
    "print(f\"Accuracy: {accuracy_score(y_test, y_pred_dt):.2f}\")\n",
    "print(\"Classification Report:\\n\", classification_report(y_test, y_pred_dt))"
   ]
  },
  {
   "cell_type": "code",
<<<<<<< HEAD
   "execution_count": 151,
=======
   "execution_count": 105,
>>>>>>> c51f44b306c20668da126acf530c70d153f634b2
   "id": "ae078225",
   "metadata": {},
   "outputs": [
    {
     "name": "stdout",
     "output_type": "stream",
     "text": [
<<<<<<< HEAD
      "Accuracy: 0.89333\n",
      "Sensitivity (True Positive Rate): 0.2465544\n",
      "Specificity (True Negative Rate): 0.9385186\n",
      "Precision: 0.2188491\n",
      "Recall (Sensitivity): 0.2465544\n",
      "F1 Score: 0.2318771\n"
=======
      "Accuracy: 0.68407\n",
      "Sensitivity (True Positive Rate): 0.8126595\n",
      "Specificity (True Negative Rate): 0.6750829\n",
      "Precision: 0.1487433\n",
      "Recall (Sensitivity): 0.8126595\n",
      "F1 Score: 0.2514611\n"
>>>>>>> c51f44b306c20668da126acf530c70d153f634b2
     ]
    }
   ],
   "source": [
    "from sklearn.metrics import confusion_matrix, accuracy_score, precision_score, recall_score, f1_score\n",
    "\n",
    "# Example ground truth and predictions (replace with your actual data)\n",
    "y_true = y_test  # True labels\n",
    "y_pred = y_pred_dt  # Predicted labels\n",
    "\n",
    "# Confusion Matrix\n",
    "tn, fp, fn, tp = confusion_matrix(y_true, y_pred).ravel()\n",
    "\n",
    "# Accuracy\n",
    "accuracy = accuracy_score(y_true, y_pred)\n",
    "\n",
    "# Sensitivity / Recall (True Positive Rate)\n",
    "sensitivity = tp / (tp + fn)\n",
    "\n",
    "# Specificity (True Negative Rate)\n",
    "specificity = tn / (tn + fp)\n",
    "\n",
    "# Precision\n",
    "precision = precision_score(y_true, y_pred)\n",
    "\n",
    "# Recall (Same as Sensitivity)\n",
    "recall = recall_score(y_true, y_pred)\n",
    "\n",
    "# F1 Score\n",
    "f1 = f1_score(y_true, y_pred)\n",
    "\n",
    "# Print Results\n",
    "print(f\"Accuracy: {accuracy:.5f}\")\n",
    "print(f\"Sensitivity (True Positive Rate): {sensitivity:.7f}\")\n",
    "print(f\"Specificity (True Negative Rate): {specificity:.7f}\")\n",
    "print(f\"Precision: {precision:.7f}\")\n",
    "print(f\"Recall (Sensitivity): {recall:.7f}\")\n",
    "print(f\"F1 Score: {f1:.7f}\")\n"
   ]
  },
  {
   "cell_type": "code",
<<<<<<< HEAD
   "execution_count": 152,
=======
   "execution_count": 97,
   "id": "db697d33",
   "metadata": {},
   "outputs": [
    {
     "name": "stdout",
     "output_type": "stream",
     "text": [
      "|--- feature_5 <= -0.02\n",
      "|   |--- feature_3 <= 0.02\n",
      "|   |   |--- feature_5 <= -0.02\n",
      "|   |   |   |--- class: 0\n",
      "|   |   |--- feature_5 >  -0.02\n",
      "|   |   |   |--- class: 0\n",
      "|   |--- feature_3 >  0.02\n",
      "|   |   |--- feature_3 <= 0.26\n",
      "|   |   |   |--- class: 1\n",
      "|   |   |--- feature_3 >  0.26\n",
      "|   |   |   |--- class: 1\n",
      "|--- feature_5 >  -0.02\n",
      "|   |--- feature_3 <= 0.02\n",
      "|   |   |--- feature_5 <= -0.02\n",
      "|   |   |   |--- class: 1\n",
      "|   |   |--- feature_5 >  -0.02\n",
      "|   |   |   |--- class: 1\n",
      "|   |--- feature_3 >  0.02\n",
      "|   |   |--- feature_5 <= -0.02\n",
      "|   |   |   |--- class: 1\n",
      "|   |   |--- feature_5 >  -0.02\n",
      "|   |   |   |--- class: 1\n",
      "\n"
     ]
    }
   ],
   "source": [
    "from sklearn import tree\n",
    "text_representation = tree.export_text (clf)\n",
    "print (text_representation)"
   ]
  },
  {
   "cell_type": "code",
   "execution_count": 98,
   "id": "42ad994d",
   "metadata": {},
   "outputs": [],
   "source": [
    "# from sklearn.tree import plot_tree\n",
    "# import matplotlib.pyplot as plt\n",
    "\n",
    "# # Define feature and target names\n",
    "# feature_names = ['Prct_deuda_vs_ingresos', 'Mto_ingreso_mensual',\n",
    "#                  'Edad', 'Nro_prestao_retrasados', 'Nro_dependiente', 'Prct_uso_tc']\n",
    "# target_names = ['0', '1']\n",
    "\n",
    "# # Create a larger figure with higher DPI\n",
    "# fig, ax = plt.subplots(figsize=(30, 20), dpi=600)  # Larger size and higher DPI\n",
    "# plot_tree(clf,\n",
    "#           feature_names=feature_names,\n",
    "#           class_names=target_names,\n",
    "#           filled=True,\n",
    "#           max_depth=3,  # Limit depth for better readability\n",
    "#           fontsize=14,  # Increased font size\n",
    "#           proportion=True,  # Adjust proportions for better node spacing\n",
    "#           impurity=False,  # Hide impurity for cleaner visuals\n",
    "#           ax=ax)\n",
    "\n",
    "# # Save the plot as a high-resolution PDF or PNG\n",
    "# # fig.savefig('Tree_Presentation.png', dpi=600, bbox_inches=\"tight\", format='png')  # PNG with high DPI\n",
    "# plt.show()\n"
   ]
  },
  {
   "cell_type": "code",
   "execution_count": 99,
>>>>>>> c51f44b306c20668da126acf530c70d153f634b2
   "id": "0ebaa67d",
   "metadata": {},
   "outputs": [
    {
     "data": {
      "image/png": "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\n",
      "text/plain": [
       "<Figure size 720x432 with 1 Axes>"
      ]
     },
     "metadata": {
      "needs_background": "light"
     },
     "output_type": "display_data"
    }
   ],
   "source": [
    "import matplotlib.pyplot as plt\n",
    "import numpy as np\n",
    "\n",
    "# Example data for Accuracy vs Max Tree Depth\n",
    "max_depth = [1, 2, 3, 4, 5, 6, 7, 8, 9, 10, 15]\n",
    "accuracy = [0.87, 0.90, 0.91, 0.91, 0.91, 0.90, 0.89, 0.88, 0.88, 0.87, 0.86]\n",
    "\n",
    "# Plot\n",
    "plt.figure(figsize=(10, 6))\n",
    "plt.plot(max_depth, accuracy, marker='o', linestyle='-', color='blue')\n",
    "plt.title(\"Accuracy vs Max Tree Depth\", fontsize=16)\n",
    "plt.xlabel(\"Max Tree Depth\", fontsize=12)\n",
    "plt.ylabel(\"Accuracy (Repeated Cross-Validation)\", fontsize=12)\n",
    "plt.grid(True, linestyle='--', alpha=0.7)\n",
<<<<<<< HEAD
    "# plt.savefig('tree_depth_iterations.jpg', dpi=300, bbox_inches=\"tight\", format='png')  # PNG with high DPI\n",
=======
    "plt.savefig('tree_depth_iterations.jpg', dpi=300, bbox_inches=\"tight\", format='png')  # PNG with high DPI\n",
>>>>>>> c51f44b306c20668da126acf530c70d153f634b2
    "plt.show()\n"
   ]
  },
  {
   "cell_type": "code",
<<<<<<< HEAD
   "execution_count": 153,
=======
   "execution_count": 59,
>>>>>>> c51f44b306c20668da126acf530c70d153f634b2
   "id": "bddc712c",
   "metadata": {},
   "outputs": [
    {
     "data": {
      "image/png": "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\n",
      "text/plain": [
       "<Figure size 720x432 with 1 Axes>"
      ]
     },
     "metadata": {
      "needs_background": "light"
     },
     "output_type": "display_data"
    }
   ],
   "source": [
    "# Example data for Accuracy vs Complexity Parameter\n",
    "complexity_param = [0.00, 0.02, 0.05, 0.10, 0.15, 0.20]\n",
    "accuracy_complexity = [0.91, 0.91, 0.90, 0.89, 0.88, 0.87]\n",
    "\n",
    "# Plot\n",
    "plt.figure(figsize=(10, 6))\n",
    "plt.plot(complexity_param, accuracy_complexity, marker='o', linestyle='-', color='blue')\n",
    "plt.title(\"Accuracy vs Complexity Parameter\", fontsize=16)\n",
    "plt.xlabel(\"Complexity Parameter\", fontsize=12)\n",
    "plt.ylabel(\"Accuracy (Repeated Cross-Validation)\", fontsize=12)\n",
    "plt.grid(True, linestyle='--', alpha=0.7)\n",
<<<<<<< HEAD
    "# plt.savefig('tree_accuracy_iterations.jpg', dpi=300, bbox_inches=\"tight\", format='png')  # PNG with high DPI\n",
=======
    "plt.savefig('tree_accuracy_iterations.jpg', dpi=300, bbox_inches=\"tight\", format='png')  # PNG with high DPI\n",
>>>>>>> c51f44b306c20668da126acf530c70d153f634b2
    "plt.show()\n"
   ]
  },
  {
   "cell_type": "code",
<<<<<<< HEAD
   "execution_count": 154,
=======
   "execution_count": 113,
>>>>>>> c51f44b306c20668da126acf530c70d153f634b2
   "id": "0a16bcd0",
   "metadata": {},
   "outputs": [
    {
     "data": {
<<<<<<< HEAD
      "image/png": "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\n",
=======
      "image/png": "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\n",
>>>>>>> c51f44b306c20668da126acf530c70d153f634b2
      "text/plain": [
       "<Figure size 432x432 with 1 Axes>"
      ]
     },
     "metadata": {},
     "output_type": "display_data"
    }
   ],
   "source": [
<<<<<<< HEAD
=======
    "import numpy as np\n",
    "import matplotlib.pyplot as plt\n",
    "from sklearn.metrics import confusion_matrix\n",
    "\n",
>>>>>>> c51f44b306c20668da126acf530c70d153f634b2
    "# Example confusion matrix data (replace with your actual data)\n",
    "cm = confusion_matrix(y_test, y_pred_dt)  # Confusion matrix from your classifier\n",
    "classes = ['0', '1']  # Class labels\n",
    "\n",
<<<<<<< HEAD
=======
    "# Circular confusion matrix plot\n",
    "fig, ax = plt.subplots(figsize=(6, 6), subplot_kw={'polar': True})\n",
    "\n",
>>>>>>> c51f44b306c20668da126acf530c70d153f634b2
    "# Normalize the confusion matrix for proportions\n",
    "cm_normalized = cm.astype('float') / cm.sum(axis=1)[:, np.newaxis]\n",
    "\n",
    "# Angles for the circular layout\n",
    "angles = np.linspace(0, 2 * np.pi, cm.size + 1, endpoint=True)\n",
    "\n",
<<<<<<< HEAD
    "# Circular confusion matrix plot\n",
    "fig, ax = plt.subplots(figsize=(6, 6), subplot_kw={'polar': True})\n",
    "\n",
=======
>>>>>>> c51f44b306c20668da126acf530c70d153f634b2
    "# Plot each quadrant\n",
    "for i in range(cm.shape[0]):\n",
    "    for j in range(cm.shape[1]):\n",
    "        # Compute angles for each quadrant\n",
    "        start_angle = angles[i * cm.shape[1] + j]\n",
    "        end_angle = angles[i * cm.shape[1] + j + 1]\n",
    "        color = 'blue' if i == j else 'red'  # Blue for correct, red for incorrect\n",
    "\n",
    "        # Plot each segment\n",
    "        ax.fill_betweenx([0, cm_normalized[i, j]], start_angle, end_angle, color=color, alpha=0.8)\n",
    "\n",
<<<<<<< HEAD
    "        # Add numbers inside the segment\n",
    "        mid_angle = (start_angle + end_angle) / 2\n",
    "        radius = 0.8  # Adjust radius for placement\n",
    "        ax.text(mid_angle, radius, f\"{cm[i, j]}\", ha='center', va='center', color='black', fontsize=12)\n",
    "\n",
    "# Add proper labels for rows (actual) and columns (predicted)\n",
    "row_labels = [f\"Actual {cls}\" for cls in classes]\n",
    "col_labels = [f\"Predicted {cls}\" for cls in classes]\n",
    "angles_labels = [0, np.pi, np.pi/2, 3 * np.pi / 2]  # Top, Bottom, Right, Left\n",
    "\n",
    "# Place row labels at Top and Bottom\n",
    "ax.text(angles_labels[0], 1.25, col_labels[0], ha='center', va='center', fontsize=10)  # Top\n",
    "ax.text(angles_labels[1], 1.25, col_labels[1], ha='center', va='center', fontsize=10)  # Bottom\n",
    "\n",
    "# Place column labels at Left and Right\n",
    "ax.text(angles_labels[2], 1.15, row_labels[0], ha='center', va='center', fontsize=10)  # Right\n",
    "ax.text(angles_labels[3], 1.15, row_labels[1], ha='center', va='center', fontsize=10)  # Left\n",
=======
    "        # Add numbers outside the segment but inside the circle\n",
    "        mid_angle = (start_angle + end_angle) / 2\n",
    "        radius = 0.8  # Adjust radius for placement closer to the edge of the circle\n",
    "        ax.text(mid_angle, radius, f\"{cm[i, j]}\", ha='center', va='center', color='black', fontsize=12)\n",
    "\n",
    "# Add labels and class information\n",
    "angles_labels = np.linspace(0, 2 * np.pi, len(classes) * 2, endpoint=False)\n",
    "labels = [f'Actual: {cls}' for cls in classes] + [f'Predicted: {cls}' for cls in classes]\n",
    "for angle, label in zip(angles_labels, labels):\n",
    "    ax.text(\n",
    "        angle,\n",
    "        1.12,  # Position outside the circle\n",
    "        label,\n",
    "        ha='center',\n",
    "        va='center',\n",
    "        fontsize=10,\n",
    "        rotation=0,  # Ensure labels are not rotated\n",
    "        rotation_mode='anchor'  # Keeps labels upright\n",
    "    )\n",
>>>>>>> c51f44b306c20668da126acf530c70d153f634b2
    "\n",
    "# Remove unwanted ticks and add a title\n",
    "ax.set_yticks([])\n",
    "ax.set_xticks([])\n",
<<<<<<< HEAD
    "# plt.savefig('tree_best_result_accuracy_cm.jpg', dpi=300, bbox_inches=\"tight\", format='png')  # PNG with high DPI\n",
=======
    "plt.savefig('tree_cm.jpg', dpi=300, bbox_inches=\"tight\", format='png')  # PNG with high DPI\n",
>>>>>>> c51f44b306c20668da126acf530c70d153f634b2
    "plt.show()\n"
   ]
  },
  {
   "cell_type": "markdown",
   "id": "06f770ae",
   "metadata": {},
   "source": [
    "### Random Forest Classifier"
   ]
  },
  {
   "cell_type": "code",
<<<<<<< HEAD
   "execution_count": 155,
=======
   "execution_count": 117,
>>>>>>> c51f44b306c20668da126acf530c70d153f634b2
   "id": "3fc50451",
   "metadata": {},
   "outputs": [
    {
     "name": "stdout",
     "output_type": "stream",
     "text": [
      "Accuracy: 0.9345666666666667\n",
      "Classification Report:\n",
      "               precision    recall  f1-score   support\n",
      "\n",
<<<<<<< HEAD
      "           0       0.95      0.94      0.94     28041\n",
      "           1       0.22      0.25      0.23      1959\n",
      "\n",
      "    accuracy                           0.89     30000\n",
      "   macro avg       0.58      0.59      0.59     30000\n",
      "weighted avg       0.90      0.89      0.90     30000\n",
=======
      "           0       0.94      0.99      0.97     28041\n",
      "           1       0.50      0.10      0.17      1959\n",
      "\n",
      "    accuracy                           0.93     30000\n",
      "   macro avg       0.72      0.55      0.57     30000\n",
      "weighted avg       0.91      0.93      0.91     30000\n",
>>>>>>> c51f44b306c20668da126acf530c70d153f634b2
      "\n"
     ]
    }
   ],
   "source": [
    "# Building and training a Random Forest classifier\n",
    "rf_model = RandomForestClassifier(random_state=42, n_estimators=100)\n",
    "rf_model.fit(X_train, y_train)\n",
    "\n",
    "# Making predictions\n",
    "y_pred_rf = rf_model.predict(X_test)\n",
    "\n",
    "# Evaluating the model\n",
    "accuracy = accuracy_score(y_test, y_pred_rf)\n",
    "print(\"Accuracy:\", accuracy)\n",
    "print(\"Classification Report:\\n\", classification_report(y_test, y_pred))"
   ]
  },
  {
   "cell_type": "code",
<<<<<<< HEAD
   "execution_count": 156,
=======
   "execution_count": 122,
>>>>>>> c51f44b306c20668da126acf530c70d153f634b2
   "id": "01607fc3",
   "metadata": {},
   "outputs": [
    {
     "name": "stdout",
     "output_type": "stream",
     "text": [
      "Accuracy: 0.93457\n",
      "Sensitivity (True Positive Rate): 0.1020929\n",
      "Specificity (True Negative Rate): 0.9927249\n",
      "Precision: 0.4950495\n",
      "Recall (Sensitivity): 0.1020929\n",
      "F1 Score: 0.1692763\n"
     ]
    }
   ],
   "source": [
    "from sklearn.metrics import confusion_matrix, accuracy_score, precision_score, recall_score, f1_score\n",
    "\n",
    "# Example ground truth and predictions (replace with your actual data)\n",
    "y_true = y_test  # True labels\n",
    "y_pred = y_pred_rf  # Predicted labels\n",
    "\n",
    "# Confusion Matrix\n",
    "tn, fp, fn, tp = confusion_matrix(y_true, y_pred).ravel()\n",
    "\n",
    "# Accuracy\n",
    "accuracy = accuracy_score(y_true, y_pred)\n",
    "\n",
    "# Sensitivity / Recall (True Positive Rate)\n",
    "sensitivity = tp / (tp + fn)\n",
    "\n",
    "# Specificity (True Negative Rate)\n",
    "specificity = tn / (tn + fp)\n",
    "\n",
    "# Precision\n",
    "precision = precision_score(y_true, y_pred)\n",
    "\n",
    "# Recall (Same as Sensitivity)\n",
    "recall = recall_score(y_true, y_pred)\n",
    "\n",
    "# F1 Score\n",
    "f1 = f1_score(y_true, y_pred)\n",
    "\n",
    "# Print Results\n",
    "print(f\"Accuracy: {accuracy:.5f}\")\n",
    "print(f\"Sensitivity (True Positive Rate): {sensitivity:.7f}\")\n",
    "print(f\"Specificity (True Negative Rate): {specificity:.7f}\")\n",
    "print(f\"Precision: {precision:.7f}\")\n",
    "print(f\"Recall (Sensitivity): {recall:.7f}\")\n",
    "print(f\"F1 Score: {f1:.7f}\")\n"
   ]
  },
  {
   "cell_type": "code",
<<<<<<< HEAD
   "execution_count": 157,
   "id": "a7884b3e",
=======
   "execution_count": 118,
   "id": "c73a1627",
>>>>>>> c51f44b306c20668da126acf530c70d153f634b2
   "metadata": {},
   "outputs": [
    {
     "data": {
<<<<<<< HEAD
      "image/png": "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\n",
=======
      "image/png": "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\n",
>>>>>>> c51f44b306c20668da126acf530c70d153f634b2
      "text/plain": [
       "<Figure size 432x432 with 1 Axes>"
      ]
     },
     "metadata": {},
     "output_type": "display_data"
    }
   ],
   "source": [
    "import numpy as np\n",
    "import matplotlib.pyplot as plt\n",
    "from sklearn.metrics import confusion_matrix\n",
    "\n",
    "# Example confusion matrix data (replace with your actual data)\n",
    "cm = confusion_matrix(y_test, y_pred_rf)  # Confusion matrix from your classifier\n",
    "classes = ['0', '1']  # Class labels\n",
    "\n",
<<<<<<< HEAD
=======
    "# Circular confusion matrix plot\n",
    "fig, ax = plt.subplots(figsize=(6, 6), subplot_kw={'polar': True})\n",
    "\n",
>>>>>>> c51f44b306c20668da126acf530c70d153f634b2
    "# Normalize the confusion matrix for proportions\n",
    "cm_normalized = cm.astype('float') / cm.sum(axis=1)[:, np.newaxis]\n",
    "\n",
    "# Angles for the circular layout\n",
    "angles = np.linspace(0, 2 * np.pi, cm.size + 1, endpoint=True)\n",
    "\n",
<<<<<<< HEAD
    "# Circular confusion matrix plot\n",
    "fig, ax = plt.subplots(figsize=(6, 6), subplot_kw={'polar': True})\n",
    "\n",
=======
>>>>>>> c51f44b306c20668da126acf530c70d153f634b2
    "# Plot each quadrant\n",
    "for i in range(cm.shape[0]):\n",
    "    for j in range(cm.shape[1]):\n",
    "        # Compute angles for each quadrant\n",
    "        start_angle = angles[i * cm.shape[1] + j]\n",
    "        end_angle = angles[i * cm.shape[1] + j + 1]\n",
    "        color = 'blue' if i == j else 'red'  # Blue for correct, red for incorrect\n",
    "\n",
    "        # Plot each segment\n",
    "        ax.fill_betweenx([0, cm_normalized[i, j]], start_angle, end_angle, color=color, alpha=0.8)\n",
    "\n",
<<<<<<< HEAD
    "        # Add numbers inside the segment\n",
    "        mid_angle = (start_angle + end_angle) / 2\n",
    "        radius = 0.8  # Adjust radius for placement\n",
    "        ax.text(mid_angle, radius, f\"{cm[i, j]}\", ha='center', va='center', color='black', fontsize=12)\n",
    "\n",
    "# Add proper labels for rows (actual) and columns (predicted)\n",
    "row_labels = [f\"Actual {cls}\" for cls in classes]\n",
    "col_labels = [f\"Predicted {cls}\" for cls in classes]\n",
    "angles_labels = [0, np.pi, np.pi/2, 3 * np.pi / 2]  # Top, Bottom, Right, Left\n",
    "\n",
    "# Place row labels at Top and Bottom\n",
    "ax.text(angles_labels[0], 1.25, col_labels[0], ha='center', va='center', fontsize=10)  # Top\n",
    "ax.text(angles_labels[1], 1.25, col_labels[1], ha='center', va='center', fontsize=10)  # Bottom\n",
    "\n",
    "# Place column labels at Left and Right\n",
    "ax.text(angles_labels[2], 1.15, row_labels[0], ha='center', va='center', fontsize=10)  # Right\n",
    "ax.text(angles_labels[3], 1.15, row_labels[1], ha='center', va='center', fontsize=10)  # Left\n",
=======
    "        # Add numbers outside the segment but inside the circle\n",
    "        mid_angle = (start_angle + end_angle) / 2\n",
    "        radius = 0.8  # Adjust radius for placement closer to the edge of the circle\n",
    "        ax.text(mid_angle, radius, f\"{cm[i, j]}\", ha='center', va='center', color='black', fontsize=12)\n",
    "\n",
    "# Add labels and class information\n",
    "angles_labels = np.linspace(0, 2 * np.pi, len(classes) * 2, endpoint=False)\n",
    "labels = [f'Actual: {cls}' for cls in classes] + [f'Predicted: {cls}' for cls in classes]\n",
    "for angle, label in zip(angles_labels, labels):\n",
    "    ax.text(\n",
    "        angle,\n",
    "        1.12,  # Position outside the circle\n",
    "        label,\n",
    "        ha='center',\n",
    "        va='center',\n",
    "        fontsize=10,\n",
    "        rotation=0,  # Ensure labels are not rotated\n",
    "        rotation_mode='anchor'  # Keeps labels upright\n",
    "    )\n",
>>>>>>> c51f44b306c20668da126acf530c70d153f634b2
    "\n",
    "# Remove unwanted ticks and add a title\n",
    "ax.set_yticks([])\n",
    "ax.set_xticks([])\n",
<<<<<<< HEAD
    "\n",
    "# plt.savefig('RF_cm.jpg', dpi=300, bbox_inches=\"tight\", format='png')\n",
=======
    "plt.savefig('rf_cm.jpg', dpi=300, bbox_inches=\"tight\", format='png')  # PNG with high DPI\n",
>>>>>>> c51f44b306c20668da126acf530c70d153f634b2
    "plt.show()\n"
   ]
  },
  {
   "cell_type": "markdown",
   "id": "9c04494c",
   "metadata": {},
   "source": [
    "### Naive Bayes Classifier"
   ]
  },
  {
   "cell_type": "code",
<<<<<<< HEAD
   "execution_count": 158,
=======
   "execution_count": 102,
>>>>>>> c51f44b306c20668da126acf530c70d153f634b2
   "id": "3e9b9325",
   "metadata": {},
   "outputs": [
    {
     "name": "stdout",
     "output_type": "stream",
     "text": [
      "----- Naive Bayes -----\n",
      "Accuracy: 0.93\n",
      "Classification Report:\n",
      "               precision    recall  f1-score   support\n",
      "\n",
      "           0       0.94      0.99      0.96     28041\n",
      "           1       0.28      0.03      0.06      1959\n",
      "\n",
      "    accuracy                           0.93     30000\n",
      "   macro avg       0.61      0.51      0.51     30000\n",
      "weighted avg       0.89      0.93      0.91     30000\n",
      "\n"
     ]
    }
   ],
   "source": [
    "# Naive Bayes Classifier\n",
    "from sklearn.naive_bayes import GaussianNB\n",
    "\n",
    "# Initialize and train the model\n",
    "nb_model = GaussianNB()\n",
    "nb_model.fit(X_train, y_train)\n",
    "\n",
    "# Make predictions\n",
    "y_pred_nb = nb_model.predict(X_test)\n",
    "\n",
    "# Evaluate the model\n",
    "print(\"----- Naive Bayes -----\")\n",
    "print(f\"Accuracy: {accuracy_score(y_test, y_pred_nb):.2f}\")\n",
    "print(\"Classification Report:\\n\", classification_report(y_test, y_pred_nb))\n"
   ]
  },
  {
   "cell_type": "code",
<<<<<<< HEAD
   "execution_count": 159,
=======
   "execution_count": 107,
>>>>>>> c51f44b306c20668da126acf530c70d153f634b2
   "id": "75178ca5",
   "metadata": {},
   "outputs": [
    {
     "data": {
      "image/png": "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\n",
      "text/plain": [
       "<Figure size 720x432 with 1 Axes>"
      ]
     },
     "metadata": {
      "needs_background": "light"
     },
     "output_type": "display_data"
    }
   ],
   "source": [
    "# Define the Laplace correction values and adjust parameters\n",
    "laplace_values = [0.0, 0.2, 0.4, 0.6, 0.8, 1.0]\n",
    "adjust_values = [0.1, 0.5]\n",
    "\n",
    "# Placeholder for results\n",
    "results = {}\n",
    "\n",
    "# Iterate through different adjust values\n",
    "for adjust in adjust_values:\n",
    "    accuracies = []\n",
    "    for alpha in laplace_values:\n",
    "        # Initialize the model with Laplace smoothing (alpha)\n",
    "        nb_model = GaussianNB(var_smoothing=alpha * adjust)\n",
    "        scores = cross_val_score(nb_model, X_train, y_train, cv=5, scoring='accuracy')\n",
    "        accuracies.append(scores.mean())\n",
    "    results[adjust] = accuracies\n",
    "\n",
    "# Plot the results\n",
    "plt.figure(figsize=(10, 6))\n",
    "for adjust, accuracies in results.items():\n",
    "    plt.plot(laplace_values, accuracies, marker='o', label=f\"adjust: {adjust}\")\n",
    "\n",
    "plt.title(\"Accuracy vs. Laplace Correction\")\n",
    "plt.xlabel(\"Laplace Correction\")\n",
    "plt.ylabel(\"Accuracy (Cross-Validation)\")\n",
    "plt.legend(title=\"Adjust Values\")\n",
    "plt.grid()\n",
<<<<<<< HEAD
    "# plt.savefig('naive_bayes.jpg', dpi=300, bbox_inches=\"tight\", format='png')  # PNG with high DPI\n",
=======
    "plt.savefig('naive_bayes.jpg', dpi=300, bbox_inches=\"tight\", format='png')  # PNG with high DPI\n",
>>>>>>> c51f44b306c20668da126acf530c70d153f634b2
    "plt.show()"
   ]
  },
  {
   "cell_type": "code",
<<<<<<< HEAD
   "execution_count": 160,
=======
   "execution_count": 114,
>>>>>>> c51f44b306c20668da126acf530c70d153f634b2
   "id": "59a632cc",
   "metadata": {},
   "outputs": [
    {
     "name": "stdout",
     "output_type": "stream",
     "text": [
      "----- Optimal Naive Bayes Classifier -----\n",
      "Accuracy: 0.93\n",
      "Classification Report:\n",
      "               precision    recall  f1-score   support\n",
      "\n",
      "           0       0.94      1.00      0.97     28041\n",
      "           1       0.49      0.01      0.03      1959\n",
      "\n",
      "    accuracy                           0.93     30000\n",
      "   macro avg       0.71      0.51      0.50     30000\n",
      "weighted avg       0.91      0.93      0.90     30000\n",
      "\n"
     ]
    }
   ],
   "source": [
    "# Optimal parameters based on the analysis\n",
    "optimal_smoothing = 0.8  # High Laplace correction\n",
    "optimal_adjust = 0.5  # Adjust parameter (custom logic if applicable)\n",
    "\n",
    "# Initialize the Naive Bayes model with optimal smoothing\n",
    "nb_model = GaussianNB(var_smoothing=optimal_smoothing)\n",
    "\n",
    "# Train the model\n",
    "nb_model.fit(X_train, y_train)\n",
    "\n",
    "# Make predictions\n",
    "y_pred_nb = nb_model.predict(X_test)\n",
    "\n",
    "# Evaluate the model\n",
    "print(\"----- Optimal Naive Bayes Classifier -----\")\n",
    "print(f\"Accuracy: {accuracy_score(y_test, y_pred_nb):.2f}\")\n",
    "print(\"Classification Report:\\n\", classification_report(y_test, y_pred_nb))"
   ]
  },
  {
   "cell_type": "code",
<<<<<<< HEAD
   "execution_count": 161,
=======
   "execution_count": 115,
>>>>>>> c51f44b306c20668da126acf530c70d153f634b2
   "id": "251e0071",
   "metadata": {},
   "outputs": [
    {
     "name": "stdout",
     "output_type": "stream",
     "text": [
      "Accuracy: 0.93467\n",
      "Sensitivity (True Positive Rate): 0.0137825\n",
      "Specificity (True Negative Rate): 0.9990015\n",
      "Precision: 0.4909091\n",
      "Recall (Sensitivity): 0.0137825\n",
      "F1 Score: 0.0268123\n"
     ]
    }
   ],
   "source": [
    "from sklearn.metrics import confusion_matrix, accuracy_score, precision_score, recall_score, f1_score\n",
    "\n",
    "# Example ground truth and predictions (replace with your actual data)\n",
    "y_true = y_test  # True labels\n",
    "y_pred = y_pred_nb  # Predicted labels\n",
    "\n",
    "# Confusion Matrix\n",
    "tn, fp, fn, tp = confusion_matrix(y_true, y_pred).ravel()\n",
    "\n",
    "# Accuracy\n",
    "accuracy = accuracy_score(y_true, y_pred)\n",
    "\n",
    "# Sensitivity / Recall (True Positive Rate)\n",
    "sensitivity = tp / (tp + fn)\n",
    "\n",
    "# Specificity (True Negative Rate)\n",
    "specificity = tn / (tn + fp)\n",
    "\n",
    "# Precision\n",
    "precision = precision_score(y_true, y_pred)\n",
    "\n",
    "# Recall (Same as Sensitivity)\n",
    "recall = recall_score(y_true, y_pred)\n",
    "\n",
    "# F1 Score\n",
    "f1 = f1_score(y_true, y_pred)\n",
    "\n",
    "# Print Results\n",
    "print(f\"Accuracy: {accuracy:.5f}\")\n",
    "print(f\"Sensitivity (True Positive Rate): {sensitivity:.7f}\")\n",
    "print(f\"Specificity (True Negative Rate): {specificity:.7f}\")\n",
    "print(f\"Precision: {precision:.7f}\")\n",
    "print(f\"Recall (Sensitivity): {recall:.7f}\")\n",
    "print(f\"F1 Score: {f1:.7f}\")\n"
   ]
  },
  {
   "cell_type": "code",
<<<<<<< HEAD
   "execution_count": 162,
=======
   "execution_count": 111,
>>>>>>> c51f44b306c20668da126acf530c70d153f634b2
   "id": "b76f9d7e",
   "metadata": {},
   "outputs": [
    {
     "data": {
<<<<<<< HEAD
      "image/png": "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\n",
=======
      "image/png": "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\n",
>>>>>>> c51f44b306c20668da126acf530c70d153f634b2
      "text/plain": [
       "<Figure size 432x432 with 1 Axes>"
      ]
     },
     "metadata": {},
     "output_type": "display_data"
    }
   ],
   "source": [
<<<<<<< HEAD
=======
    "import numpy as np\n",
    "import matplotlib.pyplot as plt\n",
    "from sklearn.metrics import confusion_matrix\n",
    "\n",
>>>>>>> c51f44b306c20668da126acf530c70d153f634b2
    "# Example confusion matrix data (replace with your actual data)\n",
    "cm = confusion_matrix(y_test, y_pred_nb)  # Confusion matrix from your classifier\n",
    "classes = ['0', '1']  # Class labels\n",
    "\n",
<<<<<<< HEAD
=======
    "# Circular confusion matrix plot\n",
    "fig, ax = plt.subplots(figsize=(6, 6), subplot_kw={'polar': True})\n",
    "\n",
>>>>>>> c51f44b306c20668da126acf530c70d153f634b2
    "# Normalize the confusion matrix for proportions\n",
    "cm_normalized = cm.astype('float') / cm.sum(axis=1)[:, np.newaxis]\n",
    "\n",
    "# Angles for the circular layout\n",
    "angles = np.linspace(0, 2 * np.pi, cm.size + 1, endpoint=True)\n",
    "\n",
<<<<<<< HEAD
    "# Circular confusion matrix plot\n",
    "fig, ax = plt.subplots(figsize=(6, 6), subplot_kw={'polar': True})\n",
    "\n",
=======
>>>>>>> c51f44b306c20668da126acf530c70d153f634b2
    "# Plot each quadrant\n",
    "for i in range(cm.shape[0]):\n",
    "    for j in range(cm.shape[1]):\n",
    "        # Compute angles for each quadrant\n",
    "        start_angle = angles[i * cm.shape[1] + j]\n",
    "        end_angle = angles[i * cm.shape[1] + j + 1]\n",
    "        color = 'blue' if i == j else 'red'  # Blue for correct, red for incorrect\n",
    "\n",
    "        # Plot each segment\n",
    "        ax.fill_betweenx([0, cm_normalized[i, j]], start_angle, end_angle, color=color, alpha=0.8)\n",
    "\n",
<<<<<<< HEAD
    "        # Add numbers inside the segment\n",
    "        mid_angle = (start_angle + end_angle) / 2\n",
    "        radius = 0.8  # Adjust radius for placement\n",
    "        ax.text(mid_angle, radius, f\"{cm[i, j]}\", ha='center', va='center', color='black', fontsize=12)\n",
    "\n",
    "# Add proper labels for rows (actual) and columns (predicted)\n",
    "row_labels = [f\"Actual {cls}\" for cls in classes]\n",
    "col_labels = [f\"Predicted {cls}\" for cls in classes]\n",
    "angles_labels = [0, np.pi, np.pi/2, 3 * np.pi / 2]  # Top, Bottom, Right, Left\n",
    "\n",
    "# Place row labels at Top and Bottom\n",
    "ax.text(angles_labels[0], 1.25, col_labels[0], ha='center', va='center', fontsize=10)  # Top\n",
    "ax.text(angles_labels[1], 1.25, col_labels[1], ha='center', va='center', fontsize=10)  # Bottom\n",
    "\n",
    "# Place column labels at Left and Right\n",
    "ax.text(angles_labels[2], 1.15, row_labels[0], ha='center', va='center', fontsize=10)  # Right\n",
    "ax.text(angles_labels[3], 1.15, row_labels[1], ha='center', va='center', fontsize=10)  # Left\n",
=======
    "        # Add numbers outside the segment but inside the circle\n",
    "        mid_angle = (start_angle + end_angle) / 2\n",
    "        radius = 0.8  # Adjust radius for placement closer to the edge of the circle\n",
    "        ax.text(mid_angle, radius, f\"{cm[i, j]}\", ha='center', va='center', color='black', fontsize=12)\n",
    "\n",
    "# Add labels and class information\n",
    "angles_labels = np.linspace(0, 2 * np.pi, len(classes) * 2, endpoint=False)\n",
    "labels = [f'Actual: {cls}' for cls in classes] + [f'Predicted: {cls}' for cls in classes]\n",
    "for angle, label in zip(angles_labels, labels):\n",
    "    ax.text(\n",
    "        angle,\n",
    "        1.12,  # Position outside the circle\n",
    "        label,\n",
    "        ha='center',\n",
    "        va='center',\n",
    "        fontsize=10,\n",
    "        rotation=0,  # Ensure labels are not rotated\n",
    "        rotation_mode='anchor'  # Keeps labels upright\n",
    "    )\n",
>>>>>>> c51f44b306c20668da126acf530c70d153f634b2
    "\n",
    "# Remove unwanted ticks and add a title\n",
    "ax.set_yticks([])\n",
    "ax.set_xticks([])\n",
<<<<<<< HEAD
    "# plt.savefig('nb_cm.jpg', dpi=300, bbox_inches=\"tight\", format='png')  # PNG with high DPI\n",
=======
    "plt.savefig('nb_cm.jpg', dpi=300, bbox_inches=\"tight\", format='png')  # PNG with high DPI\n",
>>>>>>> c51f44b306c20668da126acf530c70d153f634b2
    "plt.show()\n"
   ]
  },
  {
<<<<<<< HEAD
=======
   "cell_type": "code",
   "execution_count": 112,
   "id": "817952db",
   "metadata": {},
   "outputs": [
    {
     "name": "stdout",
     "output_type": "stream",
     "text": [
      "Accuracy: 0.93140\n",
      "Sensitivity (True Positive Rate): 0.0311383\n",
      "Specificity (True Negative Rate): 0.9942941\n",
      "Precision: 0.2760181\n",
      "Recall (Sensitivity): 0.0311383\n",
      "F1 Score: 0.0559633\n"
     ]
    }
   ],
   "source": []
  },
  {
   "cell_type": "code",
   "execution_count": null,
   "id": "3a75c1b9",
   "metadata": {},
   "outputs": [],
   "source": []
  },
  {
>>>>>>> c51f44b306c20668da126acf530c70d153f634b2
   "cell_type": "markdown",
   "id": "923c6db3",
   "metadata": {},
   "source": [
    "### Support Vector Machine Classifier"
   ]
  },
  {
   "cell_type": "code",
<<<<<<< HEAD
   "execution_count": 163,
=======
   "execution_count": 33,
>>>>>>> c51f44b306c20668da126acf530c70d153f634b2
   "id": "7dab913a",
   "metadata": {},
   "outputs": [
    {
     "name": "stdout",
     "output_type": "stream",
     "text": [
      "----- SVM -----\n",
<<<<<<< HEAD
      "Accuracy: 0.93\n",
      "Classification Report:\n",
      "               precision    recall  f1-score   support\n",
      "\n",
      "           0       0.94      1.00      0.97     28041\n",
      "           1       0.62      0.01      0.02      1959\n",
      "\n",
      "    accuracy                           0.93     30000\n",
      "   macro avg       0.78      0.50      0.49     30000\n",
      "weighted avg       0.91      0.93      0.90     30000\n",
=======
      "Accuracy: 0.94\n",
      "Classification Report:\n",
      "               precision    recall  f1-score   support\n",
      "\n",
      "           0       0.94      1.00      0.97     28044\n",
      "           1       0.78      0.01      0.02      1956\n",
      "\n",
      "    accuracy                           0.94     30000\n",
      "   macro avg       0.86      0.50      0.49     30000\n",
      "weighted avg       0.93      0.94      0.90     30000\n",
>>>>>>> c51f44b306c20668da126acf530c70d153f634b2
      "\n"
     ]
    }
   ],
   "source": [
    "# Support Vector Machine Classifier\n",
    "from sklearn.svm import SVC\n",
    "\n",
    "# Initialize and train the model\n",
<<<<<<< HEAD
    "svm_model = SVC(kernel='rbf', random_state=42)\n",
=======
    "svm_model = SVC(kernel='linear', random_state=42)\n",
>>>>>>> c51f44b306c20668da126acf530c70d153f634b2
    "svm_model.fit(X_train, y_train)\n",
    "\n",
    "# Make predictions\n",
    "y_pred_svm = svm_model.predict(X_test)\n",
    "\n",
    "# Evaluate the model\n",
    "print(\"----- SVM -----\")\n",
    "print(f\"Accuracy: {accuracy_score(y_test, y_pred_svm):.2f}\")\n",
    "print(\"Classification Report:\\n\", classification_report(y_test, y_pred_svm))\n"
   ]
  },
  {
   "cell_type": "code",
<<<<<<< HEAD
   "execution_count": 164,
   "id": "40e06a9f",
   "metadata": {},
   "outputs": [
    {
     "data": {
      "image/png": "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\n",
      "text/plain": [
       "<Figure size 432x432 with 1 Axes>"
      ]
     },
     "metadata": {},
     "output_type": "display_data"
    }
   ],
   "source": [
    "# Example confusion matrix data (replace with your actual data)\n",
    "cm = confusion_matrix(y_test, y_pred_svm)  # Confusion matrix from your classifier\n",
    "classes = ['0', '1']  # Class labels\n",
    "\n",
    "# Normalize the confusion matrix for proportions\n",
    "cm_normalized = cm.astype('float') / cm.sum(axis=1)[:, np.newaxis]\n",
    "\n",
    "# Angles for the circular layout\n",
    "angles = np.linspace(0, 2 * np.pi, cm.size + 1, endpoint=True)\n",
    "\n",
    "# Circular confusion matrix plot\n",
    "fig, ax = plt.subplots(figsize=(6, 6), subplot_kw={'polar': True})\n",
    "\n",
    "# Plot each quadrant\n",
    "for i in range(cm.shape[0]):\n",
    "    for j in range(cm.shape[1]):\n",
    "        # Compute angles for each quadrant\n",
    "        start_angle = angles[i * cm.shape[1] + j]\n",
    "        end_angle = angles[i * cm.shape[1] + j + 1]\n",
    "        color = 'blue' if i == j else 'red'  # Blue for correct, red for incorrect\n",
    "\n",
    "        # Plot each segment\n",
    "        ax.fill_betweenx([0, cm_normalized[i, j]], start_angle, end_angle, color=color, alpha=0.8)\n",
    "\n",
    "        # Add numbers inside the segment\n",
    "        mid_angle = (start_angle + end_angle) / 2\n",
    "        radius = 0.8  # Adjust radius for placement\n",
    "        ax.text(mid_angle, radius, f\"{cm[i, j]}\", ha='center', va='center', color='black', fontsize=12)\n",
    "\n",
    "# Add proper labels for rows (actual) and columns (predicted)\n",
    "row_labels = [f\"Actual {cls}\" for cls in classes]\n",
    "col_labels = [f\"Predicted {cls}\" for cls in classes]\n",
    "angles_labels = [0, np.pi, np.pi/2, 3 * np.pi / 2]  # Top, Bottom, Right, Left\n",
    "\n",
    "# Place row labels at Top and Bottom\n",
    "ax.text(angles_labels[0], 1.25, col_labels[0], ha='center', va='center', fontsize=10)  # Top\n",
    "ax.text(angles_labels[1], 1.25, col_labels[1], ha='center', va='center', fontsize=10)  # Bottom\n",
    "\n",
    "# Place column labels at Left and Right\n",
    "ax.text(angles_labels[2], 1.15, row_labels[0], ha='center', va='center', fontsize=10)  # Right\n",
    "ax.text(angles_labels[3], 1.15, row_labels[1], ha='center', va='center', fontsize=10)  # Left\n",
    "\n",
    "# Remove unwanted ticks and add a title\n",
    "ax.set_yticks([])\n",
    "ax.set_xticks([])\n",
    "# plt.savefig('SVM_cm.jpg', dpi=300, bbox_inches=\"tight\", format='png')  # PNG with high DPI\n",
    "plt.show()\n"
   ]
  },
  {
   "cell_type": "code",
=======
>>>>>>> c51f44b306c20668da126acf530c70d153f634b2
   "execution_count": null,
   "id": "fa151cc9",
   "metadata": {},
   "outputs": [
    {
     "name": "stdout",
     "output_type": "stream",
     "text": [
      "Fitting 3 folds for each of 32 candidates, totalling 96 fits\n"
     ]
    }
   ],
   "source": [
    "from sklearn.svm import SVC\n",
    "from sklearn.model_selection import GridSearchCV\n",
    "from sklearn.preprocessing import StandardScaler\n",
    "\n",
    "# Scale your data\n",
    "scaler = StandardScaler()\n",
    "X_train_scaled = scaler.fit_transform(X_train)\n",
    "X_test_scaled = scaler.transform(X_test)\n",
    "\n",
    "# Define the parameter grid\n",
    "param_grid = {\n",
    "    'C': [0.1, 1, 10, 100],\n",
    "    'gamma': [1, 0.1, 0.01, 0.001],\n",
    "    'kernel': ['linear', 'rbf']\n",
    "}\n",
    "\n",
    "# Initialize GridSearchCV\n",
    "grid_search = GridSearchCV(\n",
    "    SVC(random_state=42),\n",
    "    param_grid,\n",
    "    cv=3,\n",
    "    verbose=2,\n",
    "    n_jobs=-1,\n",
    "    return_train_score=True  # Include training scores\n",
    ")\n",
    "\n",
    "# Fit the model\n",
    "grid_search.fit(X_train_scaled, y_train)\n"
   ]
  },
  {
   "cell_type": "code",
   "execution_count": null,
<<<<<<< HEAD
=======
   "id": "c94c93bb",
   "metadata": {},
   "outputs": [],
   "source": [
    "import pandas as pd\n",
    "\n",
    "# Convert the cv_results_ dictionary to a pandas DataFrame\n",
    "results_df = pd.DataFrame(grid_search.cv_results_)\n"
   ]
  },
  {
   "cell_type": "code",
   "execution_count": null,
>>>>>>> c51f44b306c20668da126acf530c70d153f634b2
   "id": "bb82b0dc",
   "metadata": {},
   "outputs": [],
   "source": [
<<<<<<< HEAD
    "results_df = pd.DataFrame(grid_search.cv_results_)\n",
=======
    "import matplotlib.pyplot as plt\n",
>>>>>>> c51f44b306c20668da126acf530c70d153f634b2
    "\n",
    "# Filter results for the linear kernel\n",
    "linear_results = results_df[results_df['param_kernel'] == 'linear']\n",
    "\n",
    "# Plot mean test score vs. C\n",
    "plt.figure(figsize=(8, 6))\n",
    "plt.plot(\n",
    "    linear_results['param_C'].astype('float'),\n",
    "    linear_results['mean_test_score'],\n",
    "    marker='o'\n",
    ")\n",
    "plt.xscale('log')\n",
    "plt.xlabel('C (Regularization Parameter)', fontsize=12)\n",
    "plt.ylabel('Mean Cross-Validated Accuracy', fontsize=12)\n",
    "plt.title('SVM Performance vs. C (Linear Kernel)', fontsize=14)\n",
    "plt.grid(True, linestyle='--', alpha=0.7)\n",
    "plt.show()\n"
   ]
  },
  {
   "cell_type": "code",
   "execution_count": null,
   "id": "3938fef5",
   "metadata": {},
   "outputs": [],
   "source": [
<<<<<<< HEAD
=======
    "import seaborn as sns\n",
    "import numpy as np\n",
    "\n",
>>>>>>> c51f44b306c20668da126acf530c70d153f634b2
    "# Filter results for the RBF kernel\n",
    "rbf_results = results_df[results_df['param_kernel'] == 'rbf']\n",
    "\n",
    "# Pivot the DataFrame to create a matrix for heatmap\n",
    "pivot_table = rbf_results.pivot(\n",
    "    index='param_gamma',\n",
    "    columns='param_C',\n",
    "    values='mean_test_score'\n",
    ")\n",
    "\n",
    "# Convert parameter values to float\n",
    "pivot_table.index = pivot_table.index.astype('float')\n",
    "pivot_table.columns = pivot_table.columns.astype('float')\n",
    "\n",
    "# Plot heatmap\n",
    "plt.figure(figsize=(10, 8))\n",
    "sns.heatmap(\n",
    "    pivot_table,\n",
    "    annot=True,\n",
    "    fmt=\".3f\",\n",
    "    cmap='viridis',\n",
    "    cbar_kws={'label': 'Mean CV Accuracy'}\n",
    ")\n",
    "plt.xscale('log')\n",
    "plt.yscale('log')\n",
    "plt.xlabel('C (Regularization Parameter)', fontsize=12)\n",
    "plt.ylabel('Gamma (Kernel Coefficient)', fontsize=12)\n",
    "plt.title('SVM Performance Heatmap (RBF Kernel)', fontsize=14)\n",
<<<<<<< HEAD
    "plt.show()"
   ]
  },
  {
=======
    "plt.show()\n"
   ]
  },
  {
   "cell_type": "code",
   "execution_count": null,
   "id": "41b1b073",
   "metadata": {},
   "outputs": [],
   "source": []
  },
  {
   "cell_type": "code",
   "execution_count": null,
   "id": "933e6554",
   "metadata": {},
   "outputs": [],
   "source": []
  },
  {
>>>>>>> c51f44b306c20668da126acf530c70d153f634b2
   "cell_type": "markdown",
   "id": "af886f35",
   "metadata": {},
   "source": [
    "### K-Nearest Neighbors Classifier"
   ]
  },
  {
   "cell_type": "code",
<<<<<<< HEAD
   "execution_count": 66,
=======
   "execution_count": 119,
>>>>>>> c51f44b306c20668da126acf530c70d153f634b2
   "id": "cbc15102",
   "metadata": {},
   "outputs": [
    {
     "name": "stdout",
     "output_type": "stream",
     "text": [
      "----- KNN -----\n",
      "Accuracy: 0.93\n",
      "Classification Report:\n",
      "               precision    recall  f1-score   support\n",
      "\n",
      "           0       0.94      0.99      0.96     28041\n",
      "           1       0.28      0.04      0.08      1959\n",
      "\n",
      "    accuracy                           0.93     30000\n",
      "   macro avg       0.61      0.52      0.52     30000\n",
      "weighted avg       0.89      0.93      0.91     30000\n",
      "\n"
     ]
    }
   ],
   "source": [
    "# K-Nearest Neighbors Classifier\n",
    "from sklearn.neighbors import KNeighborsClassifier\n",
    "\n",
    "# Initialize and train the model\n",
    "knn_model = KNeighborsClassifier(n_neighbors=2)\n",
    "knn_model.fit(X_train, y_train)\n",
    "\n",
    "# Make predictions\n",
    "y_pred_knn = knn_model.predict(X_test)\n",
    "\n",
    "# Evaluate the model\n",
    "print(\"----- KNN -----\")\n",
    "print(f\"Accuracy: {accuracy_score(y_test, y_pred_knn):.2f}\")\n",
    "print(\"Classification Report:\\n\", classification_report(y_test, y_pred_knn))\n"
   ]
  },
  {
   "cell_type": "code",
<<<<<<< HEAD
   "execution_count": null,
   "id": "33b11d57",
   "metadata": {},
   "outputs": [],
   "source": []
  },
  {
   "cell_type": "code",
   "execution_count": 67,
=======
   "execution_count": 121,
>>>>>>> c51f44b306c20668da126acf530c70d153f634b2
   "id": "06c6e3ab",
   "metadata": {},
   "outputs": [
    {
     "name": "stdout",
     "output_type": "stream",
     "text": [
      "Accuracy: 0.93027\n",
      "Sensitivity (True Positive Rate): 0.0438999\n",
      "Specificity (True Negative Rate): 0.9921900\n",
      "Precision: 0.2819672\n",
      "Recall (Sensitivity): 0.0438999\n",
      "F1 Score: 0.0759717\n"
     ]
    }
   ],
   "source": [
    "from sklearn.metrics import confusion_matrix, accuracy_score, precision_score, recall_score, f1_score\n",
    "\n",
    "# Example ground truth and predictions (replace with your actual data)\n",
    "y_true = y_test  # True labels\n",
    "y_pred = y_pred_knn  # Predicted labels\n",
    "\n",
    "# Confusion Matrix\n",
    "tn, fp, fn, tp = confusion_matrix(y_true, y_pred).ravel()\n",
    "\n",
    "# Accuracy\n",
    "accuracy = accuracy_score(y_true, y_pred)\n",
    "\n",
    "# Sensitivity / Recall (True Positive Rate)\n",
    "sensitivity = tp / (tp + fn)\n",
    "\n",
    "# Specificity (True Negative Rate)\n",
    "specificity = tn / (tn + fp)\n",
    "\n",
    "# Precision\n",
    "precision = precision_score(y_true, y_pred)\n",
    "\n",
    "# Recall (Same as Sensitivity)\n",
    "recall = recall_score(y_true, y_pred)\n",
    "\n",
    "# F1 Score\n",
    "f1 = f1_score(y_true, y_pred)\n",
    "\n",
    "# Print Results\n",
    "print(f\"Accuracy: {accuracy:.5f}\")\n",
    "print(f\"Sensitivity (True Positive Rate): {sensitivity:.7f}\")\n",
    "print(f\"Specificity (True Negative Rate): {specificity:.7f}\")\n",
    "print(f\"Precision: {precision:.7f}\")\n",
    "print(f\"Recall (Sensitivity): {recall:.7f}\")\n",
    "print(f\"F1 Score: {f1:.7f}\")\n"
   ]
  },
  {
   "cell_type": "code",
<<<<<<< HEAD
   "execution_count": 69,
=======
   "execution_count": 120,
>>>>>>> c51f44b306c20668da126acf530c70d153f634b2
   "id": "595a453e",
   "metadata": {},
   "outputs": [
    {
     "data": {
<<<<<<< HEAD
      "image/png": "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\n",
=======
      "image/png": "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\n",
>>>>>>> c51f44b306c20668da126acf530c70d153f634b2
      "text/plain": [
       "<Figure size 432x432 with 1 Axes>"
      ]
     },
     "metadata": {},
     "output_type": "display_data"
    }
   ],
   "source": [
    "import numpy as np\n",
    "import matplotlib.pyplot as plt\n",
    "from sklearn.metrics import confusion_matrix\n",
    "\n",
    "# Example confusion matrix data (replace with your actual data)\n",
    "cm = confusion_matrix(y_test, y_pred_knn)  # Confusion matrix from your classifier\n",
    "classes = ['0', '1']  # Class labels\n",
    "\n",
<<<<<<< HEAD
=======
    "# Circular confusion matrix plot\n",
    "fig, ax = plt.subplots(figsize=(6, 6), subplot_kw={'polar': True})\n",
>>>>>>> c51f44b306c20668da126acf530c70d153f634b2
    "\n",
    "# Normalize the confusion matrix for proportions\n",
    "cm_normalized = cm.astype('float') / cm.sum(axis=1)[:, np.newaxis]\n",
    "\n",
    "# Angles for the circular layout\n",
    "angles = np.linspace(0, 2 * np.pi, cm.size + 1, endpoint=True)\n",
    "\n",
<<<<<<< HEAD
    "# Circular confusion matrix plot\n",
    "fig, ax = plt.subplots(figsize=(6, 6), subplot_kw={'polar': True})\n",
    "\n",
=======
>>>>>>> c51f44b306c20668da126acf530c70d153f634b2
    "# Plot each quadrant\n",
    "for i in range(cm.shape[0]):\n",
    "    for j in range(cm.shape[1]):\n",
    "        # Compute angles for each quadrant\n",
    "        start_angle = angles[i * cm.shape[1] + j]\n",
    "        end_angle = angles[i * cm.shape[1] + j + 1]\n",
    "        color = 'blue' if i == j else 'red'  # Blue for correct, red for incorrect\n",
    "\n",
    "        # Plot each segment\n",
    "        ax.fill_betweenx([0, cm_normalized[i, j]], start_angle, end_angle, color=color, alpha=0.8)\n",
    "\n",
<<<<<<< HEAD
    "        # Add numbers inside the segment\n",
    "        mid_angle = (start_angle + end_angle) / 2\n",
    "        radius = 0.8  # Adjust radius for placement\n",
    "        ax.text(mid_angle, radius, f\"{cm[i, j]}\", ha='center', va='center', color='black', fontsize=12)\n",
    "\n",
    "# Add proper labels for rows (actual) and columns (predicted)\n",
    "row_labels = [f\"Actual {cls}\" for cls in classes]\n",
    "col_labels = [f\"Predicted {cls}\" for cls in classes]\n",
    "angles_labels = [0, np.pi, np.pi/2, 3 * np.pi / 2]  # Top, Bottom, Right, Left\n",
    "\n",
    "# Place row labels at Top and Bottom\n",
    "ax.text(angles_labels[0], 1.25, col_labels[0], ha='center', va='center', fontsize=10)  # Top\n",
    "ax.text(angles_labels[1], 1.25, col_labels[1], ha='center', va='center', fontsize=10)  # Bottom\n",
    "\n",
    "# Place column labels at Left and Right\n",
    "ax.text(angles_labels[2], 1.15, row_labels[0], ha='center', va='center', fontsize=10)  # Right\n",
    "ax.text(angles_labels[3], 1.15, row_labels[1], ha='center', va='center', fontsize=10)  # Left\n",
=======
    "        # Add numbers outside the segment but inside the circle\n",
    "        mid_angle = (start_angle + end_angle) / 2\n",
    "        radius = 0.8  # Adjust radius for placement closer to the edge of the circle\n",
    "        ax.text(mid_angle, radius, f\"{cm[i, j]}\", ha='center', va='center', color='black', fontsize=12)\n",
    "\n",
    "# Add labels and class information\n",
    "angles_labels = np.linspace(0, 2 * np.pi, len(classes) * 2, endpoint=False)\n",
    "labels = [f'Actual: {cls}' for cls in classes] + [f'Predicted: {cls}' for cls in classes]\n",
    "for angle, label in zip(angles_labels, labels):\n",
    "    ax.text(\n",
    "        angle,\n",
    "        1.12,  # Position outside the circle\n",
    "        label,\n",
    "        ha='center',\n",
    "        va='center',\n",
    "        fontsize=10,\n",
    "        rotation=0,  # Ensure labels are not rotated\n",
    "        rotation_mode='anchor'  # Keeps labels upright\n",
    "    )\n",
>>>>>>> c51f44b306c20668da126acf530c70d153f634b2
    "\n",
    "# Remove unwanted ticks and add a title\n",
    "ax.set_yticks([])\n",
    "ax.set_xticks([])\n",
    "plt.savefig('knn_cm.jpg', dpi=300, bbox_inches=\"tight\", format='png')  # PNG with high DPI\n",
    "plt.show()\n"
   ]
  },
  {
<<<<<<< HEAD
   "cell_type": "code",
   "execution_count": null,
   "id": "590e62d8",
   "metadata": {},
   "outputs": [],
   "source": []
  },
  {
   "cell_type": "code",
   "execution_count": null,
   "id": "aa8f83ba",
   "metadata": {},
   "outputs": [],
   "source": []
=======
   "cell_type": "markdown",
   "id": "52436094",
   "metadata": {},
   "source": [
    "## All together"
   ]
>>>>>>> c51f44b306c20668da126acf530c70d153f634b2
  }
 ],
 "metadata": {
  "kernelspec": {
   "display_name": "Python 3 (ipykernel)",
   "language": "python",
   "name": "python3"
  },
  "language_info": {
   "codemirror_mode": {
    "name": "ipython",
    "version": 3
   },
   "file_extension": ".py",
   "mimetype": "text/x-python",
   "name": "python",
   "nbconvert_exporter": "python",
   "pygments_lexer": "ipython3",
   "version": "3.8.12"
  }
 },
 "nbformat": 4,
 "nbformat_minor": 5
}
