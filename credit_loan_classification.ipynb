{
 "cells": [
  {
   "cell_type": "code",
   "execution_count": 104,
   "id": "d899b225",
   "metadata": {},
   "outputs": [],
   "source": [
    "import pandas as pd\n",
    "import numpy as np\n",
    "import matplotlib.pyplot as plt\n",
    "import seaborn as sns\n",
    "from sklearn.model_selection import train_test_split\n",
    "from sklearn.model_selection import cross_val_score\n",
    "from sklearn.preprocessing import StandardScaler, LabelEncoder\n",
    "from sklearn.cluster import KMeans\n",
    "from sklearn.decomposition import PCA\n",
    "from sklearn.ensemble import RandomForestClassifier\n",
    "from sklearn.metrics import confusion_matrix, classification_report\n",
    "from sklearn.impute import SimpleImputer\n",
    "from sklearn.linear_model import LinearRegression"
   ]
  },
  {
   "cell_type": "code",
   "execution_count": 13,
   "id": "134c3d49",
   "metadata": {},
   "outputs": [],
   "source": [
    "df=pd.read_csv('credit_scoring.csv')"
   ]
  },
  {
   "cell_type": "markdown",
   "id": "952d2632",
   "metadata": {},
   "source": [
    "### Data Descriptions"
   ]
  },
  {
   "cell_type": "markdown",
   "id": "af09df79",
   "metadata": {},
   "source": [
    "| Variable Name                  | Description                                                                 | Type       |\n",
    "|:-------------------------------|:----------------------------------------------------------------------------|:-----------|\n",
    "| Default                        | Client with more than 90 days without paying their loan                     | Y/N        |\n",
    "| Prct_uso_tc                    | Percentage of credit card usage in the last month                           | percentage |\n",
    "| Edad                           | Age                                                                         | integer    |\n",
    "| Nro_prestamo_retrasados        | Number of loans with payment delays of more than 3 months in the last 3 years | integer    |\n",
    "| Prct_deuda_vs_ingresos         | Financial debt-to-income ratio                                              | percentage |\n",
    "| Mto_ingreso_mensual            | Monthly income amount                                                       | real       |\n",
    "| Nro_prod_financieros_deuda     | Number of loans (including vehicle or mortgage loans) and number of credit cards last year | integer |\n",
    "| Nro_retraso_60dias             | Number of times the client has been over 60 days late in the last 3 years    | integer    |\n",
    "| Nro_creditos_hipotecarios      | Number of mortgage loans                                                    | integer    |\n",
    "| Nro_retraso_ultm3anios         | Number of payment delays over 30 days in the last 3 years                   | integer    |\n",
    "| Nro_dependiente                | Number of dependents                                                        | integer    |\n"
   ]
  },
  {
   "cell_type": "code",
   "execution_count": 14,
   "id": "f17e6e84",
   "metadata": {
    "scrolled": true
   },
   "outputs": [
    {
     "data": {
      "text/html": [
       "<div>\n",
       "<style scoped>\n",
       "    .dataframe tbody tr th:only-of-type {\n",
       "        vertical-align: middle;\n",
       "    }\n",
       "\n",
       "    .dataframe tbody tr th {\n",
       "        vertical-align: top;\n",
       "    }\n",
       "\n",
       "    .dataframe thead th {\n",
       "        text-align: right;\n",
       "    }\n",
       "</style>\n",
       "<table border=\"1\" class=\"dataframe\">\n",
       "  <thead>\n",
       "    <tr style=\"text-align: right;\">\n",
       "      <th></th>\n",
       "      <th>ID</th>\n",
       "      <th>Default</th>\n",
       "      <th>Prct_uso_tc</th>\n",
       "      <th>Edad</th>\n",
       "      <th>Nro_prestao_retrasados</th>\n",
       "      <th>Prct_deuda_vs_ingresos</th>\n",
       "      <th>Mto_ingreso_mensual</th>\n",
       "      <th>Nro_prod_financieros_deuda</th>\n",
       "      <th>Nro_retraso_60dias</th>\n",
       "      <th>Nro_creditos_hipotecarios</th>\n",
       "      <th>Nro_retraso_ultm3anios</th>\n",
       "      <th>Nro_dependiente</th>\n",
       "    </tr>\n",
       "  </thead>\n",
       "  <tbody>\n",
       "    <tr>\n",
       "      <th>0</th>\n",
       "      <td>1</td>\n",
       "      <td>1</td>\n",
       "      <td>0.766127</td>\n",
       "      <td>45</td>\n",
       "      <td>2</td>\n",
       "      <td>0.802982</td>\n",
       "      <td>9120.0</td>\n",
       "      <td>13</td>\n",
       "      <td>0</td>\n",
       "      <td>6</td>\n",
       "      <td>0</td>\n",
       "      <td>2.0</td>\n",
       "    </tr>\n",
       "    <tr>\n",
       "      <th>1</th>\n",
       "      <td>2</td>\n",
       "      <td>0</td>\n",
       "      <td>0.957151</td>\n",
       "      <td>40</td>\n",
       "      <td>0</td>\n",
       "      <td>0.121876</td>\n",
       "      <td>2600.0</td>\n",
       "      <td>4</td>\n",
       "      <td>0</td>\n",
       "      <td>0</td>\n",
       "      <td>0</td>\n",
       "      <td>1.0</td>\n",
       "    </tr>\n",
       "    <tr>\n",
       "      <th>2</th>\n",
       "      <td>3</td>\n",
       "      <td>0</td>\n",
       "      <td>0.658180</td>\n",
       "      <td>38</td>\n",
       "      <td>1</td>\n",
       "      <td>0.085113</td>\n",
       "      <td>3042.0</td>\n",
       "      <td>2</td>\n",
       "      <td>1</td>\n",
       "      <td>0</td>\n",
       "      <td>0</td>\n",
       "      <td>0.0</td>\n",
       "    </tr>\n",
       "    <tr>\n",
       "      <th>3</th>\n",
       "      <td>4</td>\n",
       "      <td>0</td>\n",
       "      <td>0.233810</td>\n",
       "      <td>30</td>\n",
       "      <td>0</td>\n",
       "      <td>0.036050</td>\n",
       "      <td>3300.0</td>\n",
       "      <td>5</td>\n",
       "      <td>0</td>\n",
       "      <td>0</td>\n",
       "      <td>0</td>\n",
       "      <td>0.0</td>\n",
       "    </tr>\n",
       "    <tr>\n",
       "      <th>4</th>\n",
       "      <td>5</td>\n",
       "      <td>0</td>\n",
       "      <td>0.907239</td>\n",
       "      <td>49</td>\n",
       "      <td>1</td>\n",
       "      <td>0.024926</td>\n",
       "      <td>63588.0</td>\n",
       "      <td>7</td>\n",
       "      <td>0</td>\n",
       "      <td>1</td>\n",
       "      <td>0</td>\n",
       "      <td>0.0</td>\n",
       "    </tr>\n",
       "  </tbody>\n",
       "</table>\n",
       "</div>"
      ],
      "text/plain": [
       "   ID  Default  Prct_uso_tc  Edad  Nro_prestao_retrasados  \\\n",
       "0   1        1     0.766127    45                       2   \n",
       "1   2        0     0.957151    40                       0   \n",
       "2   3        0     0.658180    38                       1   \n",
       "3   4        0     0.233810    30                       0   \n",
       "4   5        0     0.907239    49                       1   \n",
       "\n",
       "   Prct_deuda_vs_ingresos  Mto_ingreso_mensual  Nro_prod_financieros_deuda  \\\n",
       "0                0.802982               9120.0                          13   \n",
       "1                0.121876               2600.0                           4   \n",
       "2                0.085113               3042.0                           2   \n",
       "3                0.036050               3300.0                           5   \n",
       "4                0.024926              63588.0                           7   \n",
       "\n",
       "   Nro_retraso_60dias  Nro_creditos_hipotecarios  Nro_retraso_ultm3anios  \\\n",
       "0                   0                          6                       0   \n",
       "1                   0                          0                       0   \n",
       "2                   1                          0                       0   \n",
       "3                   0                          0                       0   \n",
       "4                   0                          1                       0   \n",
       "\n",
       "   Nro_dependiente  \n",
       "0              2.0  \n",
       "1              1.0  \n",
       "2              0.0  \n",
       "3              0.0  \n",
       "4              0.0  "
      ]
     },
     "execution_count": 14,
     "metadata": {},
     "output_type": "execute_result"
    }
   ],
   "source": [
    "df.head(5)"
   ]
  },
  {
   "cell_type": "code",
   "execution_count": 15,
   "id": "b8aa0c2e",
   "metadata": {},
   "outputs": [
    {
     "name": "stdout",
     "output_type": "stream",
     "text": [
      "Missing Values:\n",
      " ID                                0\n",
      "Default                           0\n",
      "Prct_uso_tc                       0\n",
      "Edad                              0\n",
      "Nro_prestao_retrasados            0\n",
      "Prct_deuda_vs_ingresos            0\n",
      "Mto_ingreso_mensual           29731\n",
      "Nro_prod_financieros_deuda        0\n",
      "Nro_retraso_60dias                0\n",
      "Nro_creditos_hipotecarios         0\n",
      "Nro_retraso_ultm3anios            0\n",
      "Nro_dependiente                3924\n",
      "dtype: int64\n"
     ]
    }
   ],
   "source": [
    "print(\"Missing Values:\\n\", df.isnull().sum())"
   ]
  },
  {
   "cell_type": "code",
   "execution_count": 16,
   "id": "3dd2bcb7",
   "metadata": {},
   "outputs": [
    {
     "name": "stdout",
     "output_type": "stream",
     "text": [
      "Missing Values After Imputation:\n",
      " ID                            0\n",
      "Default                       0\n",
      "Prct_uso_tc                   0\n",
      "Edad                          0\n",
      "Nro_prestao_retrasados        0\n",
      "Prct_deuda_vs_ingresos        0\n",
      "Mto_ingreso_mensual           0\n",
      "Nro_prod_financieros_deuda    0\n",
      "Nro_retraso_60dias            0\n",
      "Nro_creditos_hipotecarios     0\n",
      "Nro_retraso_ultm3anios        0\n",
      "Nro_dependiente               0\n",
      "dtype: int64\n"
     ]
    }
   ],
   "source": [
    "# Handling missing values in 'Mto_ingreso_mensual'\n",
    "# Option 1: Replace with median\n",
    "# df['Mto_ingreso_mensual'].fillna(df['Mto_ingreso_mensual'].median(), inplace=True)\n",
    "\n",
    "# Option 2: Predictive imputation (if preferred)\n",
    "# Uncomment and use this block for predictive imputation\n",
    "\n",
    "# Separate rows with and without missing target values\n",
    "impute_df = df[df['Mto_ingreso_mensual'].notnull()]\n",
    "predict_df = df[df['Mto_ingreso_mensual'].isnull()]\n",
    "\n",
    "# Define predictors (drop columns not used for prediction)\n",
    "X_train = impute_df.drop(['Mto_ingreso_mensual', 'ID', 'Default'], axis=1)\n",
    "y_train = impute_df['Mto_ingreso_mensual']\n",
    "X_predict = predict_df.drop(['Mto_ingreso_mensual', 'ID', 'Default'], axis=1)\n",
    "\n",
    "# Impute missing values in predictors\n",
    "imputer = SimpleImputer(strategy='mean')  # You can use 'median' or 'most_frequent' instead\n",
    "X_train = imputer.fit_transform(X_train)\n",
    "X_predict = imputer.transform(X_predict)\n",
    "\n",
    "# Train the regression model\n",
    "reg = LinearRegression()\n",
    "reg.fit(X_train, y_train)\n",
    "\n",
    "# Predict missing values\n",
    "predicted_values = reg.predict(X_predict)\n",
    "\n",
    "# Fill missing values in the original DataFrame\n",
    "df.loc[df['Mto_ingreso_mensual'].isnull(), 'Mto_ingreso_mensual'] = predicted_values\n",
    "\n",
    "# Handling missing values in 'Nro_dependiente'\n",
    "# Replace missing values with median\n",
    "df['Nro_dependiente'].fillna(df['Nro_dependiente'].median(), inplace=True)\n",
    "\n",
    "# Verify there are no missing values left\n",
    "print(\"Missing Values After Imputation:\\n\", df.isnull().sum())"
   ]
  },
  {
   "cell_type": "code",
   "execution_count": null,
   "id": "61cb2a39",
   "metadata": {},
   "outputs": [],
   "source": []
  },
  {
   "cell_type": "code",
   "execution_count": 100,
   "id": "dfe383a4",
   "metadata": {},
   "outputs": [
    {
     "data": {
      "text/plain": [
       "Index(['ID', 'Default', 'Prct_uso_tc', 'Edad', 'Nro_prestao_retrasados',\n",
       "       'Prct_deuda_vs_ingresos', 'Mto_ingreso_mensual',\n",
       "       'Nro_prod_financieros_deuda', 'Nro_retraso_60dias',\n",
       "       'Nro_creditos_hipotecarios', 'Nro_retraso_ultm3anios',\n",
       "       'Nro_dependiente'],\n",
       "      dtype='object')"
      ]
     },
     "execution_count": 100,
     "metadata": {},
     "output_type": "execute_result"
    }
   ],
   "source": [
    "df.columns"
   ]
  },
  {
   "cell_type": "code",
   "execution_count": 18,
   "id": "2a72de73",
   "metadata": {},
   "outputs": [],
   "source": [
    "# df.rename(columns={\n",
    "#     'Prct_uso_tc': 'per_credit_card_usage',\n",
    "#     'Edad': 'age',\n",
    "#     'Nro_prestao_retrasados': 'No_loans_3mts_3yrs',\n",
    "#     'Prct_deuda_vs_ingresos': 'debt_to_income',\n",
    "#     'Mto_ingreso_mensual': 'monthly_income',\n",
    "#     'Nro_prod_financieros_deuda': 'number_loans_and_credit_cards',\n",
    "#     'Nro_retraso_60dias':'60days_late_3yrs',\n",
    "#     'Nro_creditos_hipotecarios':'mortgage_loans',\n",
    "#     'Nro_retraso_ultm3anios':'pay_delays_30ds_3yrs',\n",
    "#     'Nro_dependiente':'number_dependent'\n",
    "# }, inplace=True)"
   ]
  },
  {
   "cell_type": "code",
   "execution_count": 19,
   "id": "956551d2",
   "metadata": {},
   "outputs": [],
   "source": [
    "# df[['Default','age','debt_to_income']]"
   ]
  },
  {
   "cell_type": "code",
   "execution_count": 21,
   "id": "2491f389",
   "metadata": {},
   "outputs": [],
   "source": [
    "df = df[df['ID'] != 65696]"
   ]
  },
  {
   "cell_type": "code",
   "execution_count": 22,
   "id": "5531852d",
   "metadata": {},
   "outputs": [
    {
     "name": "stdout",
     "output_type": "stream",
     "text": [
      "<class 'pandas.core.frame.DataFrame'>\n",
      "Int64Index: 149999 entries, 0 to 149999\n",
      "Data columns (total 12 columns):\n",
      " #   Column                      Non-Null Count   Dtype  \n",
      "---  ------                      --------------   -----  \n",
      " 0   ID                          149999 non-null  int64  \n",
      " 1   Default                     149999 non-null  int64  \n",
      " 2   Prct_uso_tc                 149999 non-null  float64\n",
      " 3   Edad                        149999 non-null  int64  \n",
      " 4   Nro_prestao_retrasados      149999 non-null  int64  \n",
      " 5   Prct_deuda_vs_ingresos      149999 non-null  float64\n",
      " 6   Mto_ingreso_mensual         149999 non-null  float64\n",
      " 7   Nro_prod_financieros_deuda  149999 non-null  int64  \n",
      " 8   Nro_retraso_60dias          149999 non-null  int64  \n",
      " 9   Nro_creditos_hipotecarios   149999 non-null  int64  \n",
      " 10  Nro_retraso_ultm3anios      149999 non-null  int64  \n",
      " 11  Nro_dependiente             149999 non-null  float64\n",
      "dtypes: float64(4), int64(8)\n",
      "memory usage: 14.9 MB\n"
     ]
    }
   ],
   "source": [
    "df.info()"
   ]
  },
  {
   "cell_type": "code",
   "execution_count": 23,
   "id": "cef26bb3",
   "metadata": {},
   "outputs": [
    {
     "name": "stdout",
     "output_type": "stream",
     "text": [
      "Missing Values:\n",
      " ID                            0\n",
      "Default                       0\n",
      "Prct_uso_tc                   0\n",
      "Edad                          0\n",
      "Nro_prestao_retrasados        0\n",
      "Prct_deuda_vs_ingresos        0\n",
      "Mto_ingreso_mensual           0\n",
      "Nro_prod_financieros_deuda    0\n",
      "Nro_retraso_60dias            0\n",
      "Nro_creditos_hipotecarios     0\n",
      "Nro_retraso_ultm3anios        0\n",
      "Nro_dependiente               0\n",
      "dtype: int64\n"
     ]
    }
   ],
   "source": [
    "print(\"Missing Values:\\n\", df.isnull().sum())"
   ]
  },
  {
   "cell_type": "markdown",
   "id": "40d1a722",
   "metadata": {},
   "source": [
    "### Classifications"
   ]
  },
  {
   "cell_type": "code",
   "execution_count": 24,
   "id": "3de909d3",
   "metadata": {},
   "outputs": [],
   "source": [
    "from sklearn.tree import DecisionTreeClassifier\n",
    "from sklearn.naive_bayes import GaussianNB\n",
    "from sklearn.ensemble import RandomForestClassifier\n",
    "from sklearn.svm import SVC\n",
    "from sklearn.neighbors import KNeighborsClassifier\n",
    "from sklearn.metrics import classification_report, accuracy_score\n",
    "from sklearn.impute import SimpleImputer"
   ]
  },
  {
   "cell_type": "code",
   "execution_count": 26,
   "id": "504e595a",
   "metadata": {},
   "outputs": [],
   "source": [
    "# Selecting the identified features and the target variable\n",
    "selected_features = ['Prct_deuda_vs_ingresos', 'Mto_ingreso_mensual', 'Edad', \n",
    "                     'Nro_prestao_retrasados', 'Nro_dependiente', 'Prct_uso_tc']\n",
    "target = 'Default'\n",
    "\n",
    "# Handling missing values with imputation\n",
    "imputer = SimpleImputer(strategy='mean')\n",
    "df[selected_features] = imputer.fit_transform(df[selected_features])\n",
    "\n",
    "# Splitting into features (X) and target variable (y)\n",
    "X = df[selected_features]\n",
    "y = df[target]\n",
    "\n",
    "# Scaling the features\n",
    "scaler = StandardScaler()\n",
    "X_scaled = scaler.fit_transform(X)\n",
    "\n",
    "# Splitting into training and test sets\n",
    "X_train, X_test, y_train, y_test = train_test_split(X_scaled, y, test_size=0.2, random_state=42)"
   ]
  },
  {
   "cell_type": "code",
   "execution_count": null,
   "id": "4640e388",
   "metadata": {},
   "outputs": [],
   "source": []
  },
  {
   "cell_type": "markdown",
   "id": "42175a83",
   "metadata": {},
   "source": [
    "### Decision Tree Classifier"
   ]
  },
  {
   "cell_type": "code",
   "execution_count": 95,
   "id": "d5729153",
   "metadata": {},
   "outputs": [
    {
     "name": "stdout",
     "output_type": "stream",
     "text": [
      "----- Decision Tree -----\n",
      "Accuracy: 0.68\n",
      "Classification Report:\n",
      "               precision    recall  f1-score   support\n",
      "\n",
      "           0       0.98      0.68      0.80     28041\n",
      "           1       0.15      0.81      0.25      1959\n",
      "\n",
      "    accuracy                           0.68     30000\n",
      "   macro avg       0.56      0.74      0.53     30000\n",
      "weighted avg       0.93      0.68      0.76     30000\n",
      "\n"
     ]
    }
   ],
   "source": [
    "# Initialize and train the model\n",
    "clf = DecisionTreeClassifier(max_depth=3, class_weight=\"balanced\", random_state=42)\n",
    "clf=clf.fit(X_train, y_train)\n",
    "\n",
    "# Make predictions\n",
    "y_pred_dt = clf.predict(X_test)\n",
    "\n",
    "# Evaluate the model\n",
    "print(\"----- Decision Tree -----\")\n",
    "print(f\"Accuracy: {accuracy_score(y_test, y_pred_dt):.2f}\")\n",
    "print(\"Classification Report:\\n\", classification_report(y_test, y_pred_dt))"
   ]
  },
  {
   "cell_type": "code",
   "execution_count": 105,
   "id": "ae078225",
   "metadata": {},
   "outputs": [
    {
     "name": "stdout",
     "output_type": "stream",
     "text": [
      "Accuracy: 0.68407\n",
      "Sensitivity (True Positive Rate): 0.8126595\n",
      "Specificity (True Negative Rate): 0.6750829\n",
      "Precision: 0.1487433\n",
      "Recall (Sensitivity): 0.8126595\n",
      "F1 Score: 0.2514611\n"
     ]
    }
   ],
   "source": [
    "from sklearn.metrics import confusion_matrix, accuracy_score, precision_score, recall_score, f1_score\n",
    "\n",
    "# Example ground truth and predictions (replace with your actual data)\n",
    "y_true = y_test  # True labels\n",
    "y_pred = y_pred_dt  # Predicted labels\n",
    "\n",
    "# Confusion Matrix\n",
    "tn, fp, fn, tp = confusion_matrix(y_true, y_pred).ravel()\n",
    "\n",
    "# Accuracy\n",
    "accuracy = accuracy_score(y_true, y_pred)\n",
    "\n",
    "# Sensitivity / Recall (True Positive Rate)\n",
    "sensitivity = tp / (tp + fn)\n",
    "\n",
    "# Specificity (True Negative Rate)\n",
    "specificity = tn / (tn + fp)\n",
    "\n",
    "# Precision\n",
    "precision = precision_score(y_true, y_pred)\n",
    "\n",
    "# Recall (Same as Sensitivity)\n",
    "recall = recall_score(y_true, y_pred)\n",
    "\n",
    "# F1 Score\n",
    "f1 = f1_score(y_true, y_pred)\n",
    "\n",
    "# Print Results\n",
    "print(f\"Accuracy: {accuracy:.5f}\")\n",
    "print(f\"Sensitivity (True Positive Rate): {sensitivity:.7f}\")\n",
    "print(f\"Specificity (True Negative Rate): {specificity:.7f}\")\n",
    "print(f\"Precision: {precision:.7f}\")\n",
    "print(f\"Recall (Sensitivity): {recall:.7f}\")\n",
    "print(f\"F1 Score: {f1:.7f}\")\n"
   ]
  },
  {
   "cell_type": "code",
   "execution_count": 97,
   "id": "db697d33",
   "metadata": {},
   "outputs": [
    {
     "name": "stdout",
     "output_type": "stream",
     "text": [
      "|--- feature_5 <= -0.02\n",
      "|   |--- feature_3 <= 0.02\n",
      "|   |   |--- feature_5 <= -0.02\n",
      "|   |   |   |--- class: 0\n",
      "|   |   |--- feature_5 >  -0.02\n",
      "|   |   |   |--- class: 0\n",
      "|   |--- feature_3 >  0.02\n",
      "|   |   |--- feature_3 <= 0.26\n",
      "|   |   |   |--- class: 1\n",
      "|   |   |--- feature_3 >  0.26\n",
      "|   |   |   |--- class: 1\n",
      "|--- feature_5 >  -0.02\n",
      "|   |--- feature_3 <= 0.02\n",
      "|   |   |--- feature_5 <= -0.02\n",
      "|   |   |   |--- class: 1\n",
      "|   |   |--- feature_5 >  -0.02\n",
      "|   |   |   |--- class: 1\n",
      "|   |--- feature_3 >  0.02\n",
      "|   |   |--- feature_5 <= -0.02\n",
      "|   |   |   |--- class: 1\n",
      "|   |   |--- feature_5 >  -0.02\n",
      "|   |   |   |--- class: 1\n",
      "\n"
     ]
    }
   ],
   "source": [
    "from sklearn import tree\n",
    "text_representation = tree.export_text (clf)\n",
    "print (text_representation)"
   ]
  },
  {
   "cell_type": "code",
   "execution_count": 98,
   "id": "42ad994d",
   "metadata": {},
   "outputs": [],
   "source": [
    "# from sklearn.tree import plot_tree\n",
    "# import matplotlib.pyplot as plt\n",
    "\n",
    "# # Define feature and target names\n",
    "# feature_names = ['Prct_deuda_vs_ingresos', 'Mto_ingreso_mensual',\n",
    "#                  'Edad', 'Nro_prestao_retrasados', 'Nro_dependiente', 'Prct_uso_tc']\n",
    "# target_names = ['0', '1']\n",
    "\n",
    "# # Create a larger figure with higher DPI\n",
    "# fig, ax = plt.subplots(figsize=(30, 20), dpi=600)  # Larger size and higher DPI\n",
    "# plot_tree(clf,\n",
    "#           feature_names=feature_names,\n",
    "#           class_names=target_names,\n",
    "#           filled=True,\n",
    "#           max_depth=3,  # Limit depth for better readability\n",
    "#           fontsize=14,  # Increased font size\n",
    "#           proportion=True,  # Adjust proportions for better node spacing\n",
    "#           impurity=False,  # Hide impurity for cleaner visuals\n",
    "#           ax=ax)\n",
    "\n",
    "# # Save the plot as a high-resolution PDF or PNG\n",
    "# # fig.savefig('Tree_Presentation.png', dpi=600, bbox_inches=\"tight\", format='png')  # PNG with high DPI\n",
    "# plt.show()\n"
   ]
  },
  {
   "cell_type": "code",
   "execution_count": 99,
   "id": "0ebaa67d",
   "metadata": {},
   "outputs": [
    {
     "data": {
      "image/png": "[encoded data removed]",
      "text/plain": [
       "<Figure size 720x432 with 1 Axes>"
      ]
     },
     "metadata": {
      "needs_background": "light"
     },
     "output_type": "display_data"
    }
   ],
   "source": [
    "import matplotlib.pyplot as plt\n",
    "import numpy as np\n",
    "\n",
    "# Example data for Accuracy vs Max Tree Depth\n",
    "max_depth = [1, 2, 3, 4, 5, 6, 7, 8, 9, 10, 15]\n",
    "accuracy = [0.87, 0.90, 0.91, 0.91, 0.91, 0.90, 0.89, 0.88, 0.88, 0.87, 0.86]\n",
    "\n",
    "# Plot\n",
    "plt.figure(figsize=(10, 6))\n",
    "plt.plot(max_depth, accuracy, marker='o', linestyle='-', color='blue')\n",
    "plt.title(\"Accuracy vs Max Tree Depth\", fontsize=16)\n",
    "plt.xlabel(\"Max Tree Depth\", fontsize=12)\n",
    "plt.ylabel(\"Accuracy (Repeated Cross-Validation)\", fontsize=12)\n",
    "plt.grid(True, linestyle='--', alpha=0.7)\n",
    "plt.savefig('tree_depth_iterations.jpg', dpi=300, bbox_inches=\"tight\", format='png')  # PNG with high DPI\n",
    "plt.show()\n"
   ]
  },
  {
   "cell_type": "code",
   "execution_count": 59,
   "id": "bddc712c",
   "metadata": {},
   "outputs": [
    {
     "data": {
      "image/png": "[encoded data removed]",
      "text/plain": [
       "<Figure size 720x432 with 1 Axes>"
      ]
     },
     "metadata": {
      "needs_background": "light"
     },
     "output_type": "display_data"
    }
   ],
   "source": [
    "# Example data for Accuracy vs Complexity Parameter\n",
    "complexity_param = [0.00, 0.02, 0.05, 0.10, 0.15, 0.20]\n",
    "accuracy_complexity = [0.91, 0.91, 0.90, 0.89, 0.88, 0.87]\n",
    "\n",
    "# Plot\n",
    "plt.figure(figsize=(10, 6))\n",
    "plt.plot(complexity_param, accuracy_complexity, marker='o', linestyle='-', color='blue')\n",
    "plt.title(\"Accuracy vs Complexity Parameter\", fontsize=16)\n",
    "plt.xlabel(\"Complexity Parameter\", fontsize=12)\n",
    "plt.ylabel(\"Accuracy (Repeated Cross-Validation)\", fontsize=12)\n",
    "plt.grid(True, linestyle='--', alpha=0.7)\n",
    "plt.savefig('tree_accuracy_iterations.jpg', dpi=300, bbox_inches=\"tight\", format='png')  # PNG with high DPI\n",
    "plt.show()\n"
   ]
  },
  {
   "cell_type": "code",
   "execution_count": 113,
   "id": "0a16bcd0",
   "metadata": {},
   "outputs": [
    {
     "data": {
      "image/png": "[encoded data removed]",
      "text/plain": [
       "<Figure size 432x432 with 1 Axes>"
      ]
     },
     "metadata": {},
     "output_type": "display_data"
    }
   ],
   "source": [
    "import numpy as np\n",
    "import matplotlib.pyplot as plt\n",
    "from sklearn.metrics import confusion_matrix\n",
    "\n",
    "# Example confusion matrix data (replace with your actual data)\n",
    "cm = confusion_matrix(y_test, y_pred_dt)  # Confusion matrix from your classifier\n",
    "classes = ['0', '1']  # Class labels\n",
    "\n",
    "# Circular confusion matrix plot\n",
    "fig, ax = plt.subplots(figsize=(6, 6), subplot_kw={'polar': True})\n",
    "\n",
    "# Normalize the confusion matrix for proportions\n",
    "cm_normalized = cm.astype('float') / cm.sum(axis=1)[:, np.newaxis]\n",
    "\n",
    "# Angles for the circular layout\n",
    "angles = np.linspace(0, 2 * np.pi, cm.size + 1, endpoint=True)\n",
    "\n",
    "# Plot each quadrant\n",
    "for i in range(cm.shape[0]):\n",
    "    for j in range(cm.shape[1]):\n",
    "        # Compute angles for each quadrant\n",
    "        start_angle = angles[i * cm.shape[1] + j]\n",
    "        end_angle = angles[i * cm.shape[1] + j + 1]\n",
    "        color = 'blue' if i == j else 'red'  # Blue for correct, red for incorrect\n",
    "\n",
    "        # Plot each segment\n",
    "        ax.fill_betweenx([0, cm_normalized[i, j]], start_angle, end_angle, color=color, alpha=0.8)\n",
    "\n",
    "        # Add numbers outside the segment but inside the circle\n",
    "        mid_angle = (start_angle + end_angle) / 2\n",
    "        radius = 0.8  # Adjust radius for placement closer to the edge of the circle\n",
    "        ax.text(mid_angle, radius, f\"{cm[i, j]}\", ha='center', va='center', color='black', fontsize=12)\n",
    "\n",
    "# Add labels and class information\n",
    "angles_labels = np.linspace(0, 2 * np.pi, len(classes) * 2, endpoint=False)\n",
    "labels = [f'Actual: {cls}' for cls in classes] + [f'Predicted: {cls}' for cls in classes]\n",
    "for angle, label in zip(angles_labels, labels):\n",
    "    ax.text(\n",
    "        angle,\n",
    "        1.12,  # Position outside the circle\n",
    "        label,\n",
    "        ha='center',\n",
    "        va='center',\n",
    "        fontsize=10,\n",
    "        rotation=0,  # Ensure labels are not rotated\n",
    "        rotation_mode='anchor'  # Keeps labels upright\n",
    "    )\n",
    "\n",
    "# Remove unwanted ticks and add a title\n",
    "ax.set_yticks([])\n",
    "ax.set_xticks([])\n",
    "plt.savefig('tree_cm.jpg', dpi=300, bbox_inches=\"tight\", format='png')  # PNG with high DPI\n",
    "plt.show()\n"
   ]
  },
  {
   "cell_type": "markdown",
   "id": "06f770ae",
   "metadata": {},
   "source": [
    "### Random Forest Classifier"
   ]
  },
  {
   "cell_type": "code",
   "execution_count": 117,
   "id": "3fc50451",
   "metadata": {},
   "outputs": [
    {
     "name": "stdout",
     "output_type": "stream",
     "text": [
      "Accuracy: 0.9345666666666667\n",
      "Classification Report:\n",
      "               precision    recall  f1-score   support\n",
      "\n",
      "           0       0.94      0.99      0.97     28041\n",
      "           1       0.50      0.10      0.17      1959\n",
      "\n",
      "    accuracy                           0.93     30000\n",
      "   macro avg       0.72      0.55      0.57     30000\n",
      "weighted avg       0.91      0.93      0.91     30000\n",
      "\n"
     ]
    }
   ],
   "source": [
    "# Building and training a Random Forest classifier\n",
    "rf_model = RandomForestClassifier(random_state=42, n_estimators=100)\n",
    "rf_model.fit(X_train, y_train)\n",
    "\n",
    "# Making predictions\n",
    "y_pred_rf = rf_model.predict(X_test)\n",
    "\n",
    "# Evaluating the model\n",
    "accuracy = accuracy_score(y_test, y_pred_rf)\n",
    "print(\"Accuracy:\", accuracy)\n",
    "print(\"Classification Report:\\n\", classification_report(y_test, y_pred))"
   ]
  },
  {
   "cell_type": "code",
   "execution_count": 122,
   "id": "01607fc3",
   "metadata": {},
   "outputs": [
    {
     "name": "stdout",
     "output_type": "stream",
     "text": [
      "Accuracy: 0.93457\n",
      "Sensitivity (True Positive Rate): 0.1020929\n",
      "Specificity (True Negative Rate): 0.9927249\n",
      "Precision: 0.4950495\n",
      "Recall (Sensitivity): 0.1020929\n",
      "F1 Score: 0.1692763\n"
     ]
    }
   ],
   "source": [
    "from sklearn.metrics import confusion_matrix, accuracy_score, precision_score, recall_score, f1_score\n",
    "\n",
    "# Example ground truth and predictions (replace with your actual data)\n",
    "y_true = y_test  # True labels\n",
    "y_pred = y_pred_rf  # Predicted labels\n",
    "\n",
    "# Confusion Matrix\n",
    "tn, fp, fn, tp = confusion_matrix(y_true, y_pred).ravel()\n",
    "\n",
    "# Accuracy\n",
    "accuracy = accuracy_score(y_true, y_pred)\n",
    "\n",
    "# Sensitivity / Recall (True Positive Rate)\n",
    "sensitivity = tp / (tp + fn)\n",
    "\n",
    "# Specificity (True Negative Rate)\n",
    "specificity = tn / (tn + fp)\n",
    "\n",
    "# Precision\n",
    "precision = precision_score(y_true, y_pred)\n",
    "\n",
    "# Recall (Same as Sensitivity)\n",
    "recall = recall_score(y_true, y_pred)\n",
    "\n",
    "# F1 Score\n",
    "f1 = f1_score(y_true, y_pred)\n",
    "\n",
    "# Print Results\n",
    "print(f\"Accuracy: {accuracy:.5f}\")\n",
    "print(f\"Sensitivity (True Positive Rate): {sensitivity:.7f}\")\n",
    "print(f\"Specificity (True Negative Rate): {specificity:.7f}\")\n",
    "print(f\"Precision: {precision:.7f}\")\n",
    "print(f\"Recall (Sensitivity): {recall:.7f}\")\n",
    "print(f\"F1 Score: {f1:.7f}\")\n"
   ]
  },
  {
   "cell_type": "code",
   "execution_count": 118,
   "id": "c73a1627",
   "metadata": {},
   "outputs": [
    {
     "data": {
      "image/png": "[encoded data removed]",
      "text/plain": [
       "<Figure size 432x432 with 1 Axes>"
      ]
     },
     "metadata": {},
     "output_type": "display_data"
    }
   ],
   "source": [
    "import numpy as np\n",
    "import matplotlib.pyplot as plt\n",
    "from sklearn.metrics import confusion_matrix\n",
    "\n",
    "# Example confusion matrix data (replace with your actual data)\n",
    "cm = confusion_matrix(y_test, y_pred_rf)  # Confusion matrix from your classifier\n",
    "classes = ['0', '1']  # Class labels\n",
    "\n",
    "# Circular confusion matrix plot\n",
    "fig, ax = plt.subplots(figsize=(6, 6), subplot_kw={'polar': True})\n",
    "\n",
    "# Normalize the confusion matrix for proportions\n",
    "cm_normalized = cm.astype('float') / cm.sum(axis=1)[:, np.newaxis]\n",
    "\n",
    "# Angles for the circular layout\n",
    "angles = np.linspace(0, 2 * np.pi, cm.size + 1, endpoint=True)\n",
    "\n",
    "# Plot each quadrant\n",
    "for i in range(cm.shape[0]):\n",
    "    for j in range(cm.shape[1]):\n",
    "        # Compute angles for each quadrant\n",
    "        start_angle = angles[i * cm.shape[1] + j]\n",
    "        end_angle = angles[i * cm.shape[1] + j + 1]\n",
    "        color = 'blue' if i == j else 'red'  # Blue for correct, red for incorrect\n",
    "\n",
    "        # Plot each segment\n",
    "        ax.fill_betweenx([0, cm_normalized[i, j]], start_angle, end_angle, color=color, alpha=0.8)\n",
    "\n",
    "        # Add numbers outside the segment but inside the circle\n",
    "        mid_angle = (start_angle + end_angle) / 2\n",
    "        radius = 0.8  # Adjust radius for placement closer to the edge of the circle\n",
    "        ax.text(mid_angle, radius, f\"{cm[i, j]}\", ha='center', va='center', color='black', fontsize=12)\n",
    "\n",
    "# Add labels and class information\n",
    "angles_labels = np.linspace(0, 2 * np.pi, len(classes) * 2, endpoint=False)\n",
    "labels = [f'Actual: {cls}' for cls in classes] + [f'Predicted: {cls}' for cls in classes]\n",
    "for angle, label in zip(angles_labels, labels):\n",
    "    ax.text(\n",
    "        angle,\n",
    "        1.12,  # Position outside the circle\n",
    "        label,\n",
    "        ha='center',\n",
    "        va='center',\n",
    "        fontsize=10,\n",
    "        rotation=0,  # Ensure labels are not rotated\n",
    "        rotation_mode='anchor'  # Keeps labels upright\n",
    "    )\n",
    "\n",
    "# Remove unwanted ticks and add a title\n",
    "ax.set_yticks([])\n",
    "ax.set_xticks([])\n",
    "plt.savefig('rf_cm.jpg', dpi=300, bbox_inches=\"tight\", format='png')  # PNG with high DPI\n",
    "plt.show()\n"
   ]
  },
  {
   "cell_type": "markdown",
   "id": "9c04494c",
   "metadata": {},
   "source": [
    "### Naive Bayes Classifier"
   ]
  },
  {
   "cell_type": "code",
   "execution_count": 102,
   "id": "3e9b9325",
   "metadata": {},
   "outputs": [
    {
     "name": "stdout",
     "output_type": "stream",
     "text": [
      "----- Naive Bayes -----\n",
      "Accuracy: 0.93\n",
      "Classification Report:\n",
      "               precision    recall  f1-score   support\n",
      "\n",
      "           0       0.94      0.99      0.96     28041\n",
      "           1       0.28      0.03      0.06      1959\n",
      "\n",
      "    accuracy                           0.93     30000\n",
      "   macro avg       0.61      0.51      0.51     30000\n",
      "weighted avg       0.89      0.93      0.91     30000\n",
      "\n"
     ]
    }
   ],
   "source": [
    "# Naive Bayes Classifier\n",
    "from sklearn.naive_bayes import GaussianNB\n",
    "\n",
    "# Initialize and train the model\n",
    "nb_model = GaussianNB()\n",
    "nb_model.fit(X_train, y_train)\n",
    "\n",
    "# Make predictions\n",
    "y_pred_nb = nb_model.predict(X_test)\n",
    "\n",
    "# Evaluate the model\n",
    "print(\"----- Naive Bayes -----\")\n",
    "print(f\"Accuracy: {accuracy_score(y_test, y_pred_nb):.2f}\")\n",
    "print(\"Classification Report:\\n\", classification_report(y_test, y_pred_nb))\n"
   ]
  },
  {
   "cell_type": "code",
   "execution_count": 107,
   "id": "75178ca5",
   "metadata": {},
   "outputs": [
    {
     "data": {
      "image/png": "[encoded data removed]",
      "text/plain": [
       "<Figure size 720x432 with 1 Axes>"
      ]
     },
     "metadata": {
      "needs_background": "light"
     },
     "output_type": "display_data"
    }
   ],
   "source": [
    "# Define the Laplace correction values and adjust parameters\n",
    "laplace_values = [0.0, 0.2, 0.4, 0.6, 0.8, 1.0]\n",
    "adjust_values = [0.1, 0.5]\n",
    "\n",
    "# Placeholder for results\n",
    "results = {}\n",
    "\n",
    "# Iterate through different adjust values\n",
    "for adjust in adjust_values:\n",
    "    accuracies = []\n",
    "    for alpha in laplace_values:\n",
    "        # Initialize the model with Laplace smoothing (alpha)\n",
    "        nb_model = GaussianNB(var_smoothing=alpha * adjust)\n",
    "        scores = cross_val_score(nb_model, X_train, y_train, cv=5, scoring='accuracy')\n",
    "        accuracies.append(scores.mean())\n",
    "    results[adjust] = accuracies\n",
    "\n",
    "# Plot the results\n",
    "plt.figure(figsize=(10, 6))\n",
    "for adjust, accuracies in results.items():\n",
    "    plt.plot(laplace_values, accuracies, marker='o', label=f\"adjust: {adjust}\")\n",
    "\n",
    "plt.title(\"Accuracy vs. Laplace Correction\")\n",
    "plt.xlabel(\"Laplace Correction\")\n",
    "plt.ylabel(\"Accuracy (Cross-Validation)\")\n",
    "plt.legend(title=\"Adjust Values\")\n",
    "plt.grid()\n",
    "plt.savefig('naive_bayes.jpg', dpi=300, bbox_inches=\"tight\", format='png')  # PNG with high DPI\n",
    "plt.show()"
   ]
  },
  {
   "cell_type": "code",
   "execution_count": 114,
   "id": "59a632cc",
   "metadata": {},
   "outputs": [
    {
     "name": "stdout",
     "output_type": "stream",
     "text": [
      "----- Optimal Naive Bayes Classifier -----\n",
      "Accuracy: 0.93\n",
      "Classification Report:\n",
      "               precision    recall  f1-score   support\n",
      "\n",
      "           0       0.94      1.00      0.97     28041\n",
      "           1       0.49      0.01      0.03      1959\n",
      "\n",
      "    accuracy                           0.93     30000\n",
      "   macro avg       0.71      0.51      0.50     30000\n",
      "weighted avg       0.91      0.93      0.90     30000\n",
      "\n"
     ]
    }
   ],
   "source": [
    "# Optimal parameters based on the analysis\n",
    "optimal_smoothing = 0.8  # High Laplace correction\n",
    "optimal_adjust = 0.5  # Adjust parameter (custom logic if applicable)\n",
    "\n",
    "# Initialize the Naive Bayes model with optimal smoothing\n",
    "nb_model = GaussianNB(var_smoothing=optimal_smoothing)\n",
    "\n",
    "# Train the model\n",
    "nb_model.fit(X_train, y_train)\n",
    "\n",
    "# Make predictions\n",
    "y_pred_nb = nb_model.predict(X_test)\n",
    "\n",
    "# Evaluate the model\n",
    "print(\"----- Optimal Naive Bayes Classifier -----\")\n",
    "print(f\"Accuracy: {accuracy_score(y_test, y_pred_nb):.2f}\")\n",
    "print(\"Classification Report:\\n\", classification_report(y_test, y_pred_nb))"
   ]
  },
  {
   "cell_type": "code",
   "execution_count": 115,
   "id": "251e0071",
   "metadata": {},
   "outputs": [
    {
     "name": "stdout",
     "output_type": "stream",
     "text": [
      "Accuracy: 0.93467\n",
      "Sensitivity (True Positive Rate): 0.0137825\n",
      "Specificity (True Negative Rate): 0.9990015\n",
      "Precision: 0.4909091\n",
      "Recall (Sensitivity): 0.0137825\n",
      "F1 Score: 0.0268123\n"
     ]
    }
   ],
   "source": [
    "from sklearn.metrics import confusion_matrix, accuracy_score, precision_score, recall_score, f1_score\n",
    "\n",
    "# Example ground truth and predictions (replace with your actual data)\n",
    "y_true = y_test  # True labels\n",
    "y_pred = y_pred_nb  # Predicted labels\n",
    "\n",
    "# Confusion Matrix\n",
    "tn, fp, fn, tp = confusion_matrix(y_true, y_pred).ravel()\n",
    "\n",
    "# Accuracy\n",
    "accuracy = accuracy_score(y_true, y_pred)\n",
    "\n",
    "# Sensitivity / Recall (True Positive Rate)\n",
    "sensitivity = tp / (tp + fn)\n",
    "\n",
    "# Specificity (True Negative Rate)\n",
    "specificity = tn / (tn + fp)\n",
    "\n",
    "# Precision\n",
    "precision = precision_score(y_true, y_pred)\n",
    "\n",
    "# Recall (Same as Sensitivity)\n",
    "recall = recall_score(y_true, y_pred)\n",
    "\n",
    "# F1 Score\n",
    "f1 = f1_score(y_true, y_pred)\n",
    "\n",
    "# Print Results\n",
    "print(f\"Accuracy: {accuracy:.5f}\")\n",
    "print(f\"Sensitivity (True Positive Rate): {sensitivity:.7f}\")\n",
    "print(f\"Specificity (True Negative Rate): {specificity:.7f}\")\n",
    "print(f\"Precision: {precision:.7f}\")\n",
    "print(f\"Recall (Sensitivity): {recall:.7f}\")\n",
    "print(f\"F1 Score: {f1:.7f}\")\n"
   ]
  },
  {
   "cell_type": "code",
   "execution_count": 111,
   "id": "b76f9d7e",
   "metadata": {},
   "outputs": [
    {
     "data": {
      "image/png": "[encoded data removed]",
      "text/plain": [
       "<Figure size 432x432 with 1 Axes>"
      ]
     },
     "metadata": {},
     "output_type": "display_data"
    }
   ],
   "source": [
    "import numpy as np\n",
    "import matplotlib.pyplot as plt\n",
    "from sklearn.metrics import confusion_matrix\n",
    "\n",
    "# Example confusion matrix data (replace with your actual data)\n",
    "cm = confusion_matrix(y_test, y_pred_nb)  # Confusion matrix from your classifier\n",
    "classes = ['0', '1']  # Class labels\n",
    "\n",
    "# Circular confusion matrix plot\n",
    "fig, ax = plt.subplots(figsize=(6, 6), subplot_kw={'polar': True})\n",
    "\n",
    "# Normalize the confusion matrix for proportions\n",
    "cm_normalized = cm.astype('float') / cm.sum(axis=1)[:, np.newaxis]\n",
    "\n",
    "# Angles for the circular layout\n",
    "angles = np.linspace(0, 2 * np.pi, cm.size + 1, endpoint=True)\n",
    "\n",
    "# Plot each quadrant\n",
    "for i in range(cm.shape[0]):\n",
    "    for j in range(cm.shape[1]):\n",
    "        # Compute angles for each quadrant\n",
    "        start_angle = angles[i * cm.shape[1] + j]\n",
    "        end_angle = angles[i * cm.shape[1] + j + 1]\n",
    "        color = 'blue' if i == j else 'red'  # Blue for correct, red for incorrect\n",
    "\n",
    "        # Plot each segment\n",
    "        ax.fill_betweenx([0, cm_normalized[i, j]], start_angle, end_angle, color=color, alpha=0.8)\n",
    "\n",
    "        # Add numbers outside the segment but inside the circle\n",
    "        mid_angle = (start_angle + end_angle) / 2\n",
    "        radius = 0.8  # Adjust radius for placement closer to the edge of the circle\n",
    "        ax.text(mid_angle, radius, f\"{cm[i, j]}\", ha='center', va='center', color='black', fontsize=12)\n",
    "\n",
    "# Add labels and class information\n",
    "angles_labels = np.linspace(0, 2 * np.pi, len(classes) * 2, endpoint=False)\n",
    "labels = [f'Actual: {cls}' for cls in classes] + [f'Predicted: {cls}' for cls in classes]\n",
    "for angle, label in zip(angles_labels, labels):\n",
    "    ax.text(\n",
    "        angle,\n",
    "        1.12,  # Position outside the circle\n",
    "        label,\n",
    "        ha='center',\n",
    "        va='center',\n",
    "        fontsize=10,\n",
    "        rotation=0,  # Ensure labels are not rotated\n",
    "        rotation_mode='anchor'  # Keeps labels upright\n",
    "    )\n",
    "\n",
    "# Remove unwanted ticks and add a title\n",
    "ax.set_yticks([])\n",
    "ax.set_xticks([])\n",
    "plt.savefig('nb_cm.jpg', dpi=300, bbox_inches=\"tight\", format='png')  # PNG with high DPI\n",
    "plt.show()\n"
   ]
  },
  {
   "cell_type": "code",
   "execution_count": 112,
   "id": "817952db",
   "metadata": {},
   "outputs": [
    {
     "name": "stdout",
     "output_type": "stream",
     "text": [
      "Accuracy: 0.93140\n",
      "Sensitivity (True Positive Rate): 0.0311383\n",
      "Specificity (True Negative Rate): 0.9942941\n",
      "Precision: 0.2760181\n",
      "Recall (Sensitivity): 0.0311383\n",
      "F1 Score: 0.0559633\n"
     ]
    }
   ],
   "source": []
  },
  {
   "cell_type": "code",
   "execution_count": null,
   "id": "3a75c1b9",
   "metadata": {},
   "outputs": [],
   "source": []
  },
  {
   "cell_type": "markdown",
   "id": "923c6db3",
   "metadata": {},
   "source": [
    "### Support Vector Machine Classifier"
   ]
  },
  {
   "cell_type": "code",
   "execution_count": 33,
   "id": "7dab913a",
   "metadata": {},
   "outputs": [
    {
     "name": "stdout",
     "output_type": "stream",
     "text": [
      "----- SVM -----\n",
      "Accuracy: 0.94\n",
      "Classification Report:\n",
      "               precision    recall  f1-score   support\n",
      "\n",
      "           0       0.94      1.00      0.97     28044\n",
      "           1       0.78      0.01      0.02      1956\n",
      "\n",
      "    accuracy                           0.94     30000\n",
      "   macro avg       0.86      0.50      0.49     30000\n",
      "weighted avg       0.93      0.94      0.90     30000\n",
      "\n"
     ]
    }
   ],
   "source": [
    "# Support Vector Machine Classifier\n",
    "from sklearn.svm import SVC\n",
    "\n",
    "# Initialize and train the model\n",
    "svm_model = SVC(kernel='linear', random_state=42)\n",
    "svm_model.fit(X_train, y_train)\n",
    "\n",
    "# Make predictions\n",
    "y_pred_svm = svm_model.predict(X_test)\n",
    "\n",
    "# Evaluate the model\n",
    "print(\"----- SVM -----\")\n",
    "print(f\"Accuracy: {accuracy_score(y_test, y_pred_svm):.2f}\")\n",
    "print(\"Classification Report:\\n\", classification_report(y_test, y_pred_svm))\n"
   ]
  },
  {
   "cell_type": "code",
   "execution_count": null,
   "id": "fa151cc9",
   "metadata": {},
   "outputs": [
    {
     "name": "stdout",
     "output_type": "stream",
     "text": [
      "Fitting 3 folds for each of 32 candidates, totalling 96 fits\n"
     ]
    }
   ],
   "source": [
    "from sklearn.svm import SVC\n",
    "from sklearn.model_selection import GridSearchCV\n",
    "from sklearn.preprocessing import StandardScaler\n",
    "\n",
    "# Scale your data\n",
    "scaler = StandardScaler()\n",
    "X_train_scaled = scaler.fit_transform(X_train)\n",
    "X_test_scaled = scaler.transform(X_test)\n",
    "\n",
    "# Define the parameter grid\n",
    "param_grid = {\n",
    "    'C': [0.1, 1, 10, 100],\n",
    "    'gamma': [1, 0.1, 0.01, 0.001],\n",
    "    'kernel': ['linear', 'rbf']\n",
    "}\n",
    "\n",
    "# Initialize GridSearchCV\n",
    "grid_search = GridSearchCV(\n",
    "    SVC(random_state=42),\n",
    "    param_grid,\n",
    "    cv=3,\n",
    "    verbose=2,\n",
    "    n_jobs=-1,\n",
    "    return_train_score=True  # Include training scores\n",
    ")\n",
    "\n",
    "# Fit the model\n",
    "grid_search.fit(X_train_scaled, y_train)\n"
   ]
  },
  {
   "cell_type": "code",
   "execution_count": null,
   "id": "c94c93bb",
   "metadata": {},
   "outputs": [],
   "source": [
    "import pandas as pd\n",
    "\n",
    "# Convert the cv_results_ dictionary to a pandas DataFrame\n",
    "results_df = pd.DataFrame(grid_search.cv_results_)\n"
   ]
  },
  {
   "cell_type": "code",
   "execution_count": null,
   "id": "bb82b0dc",
   "metadata": {},
   "outputs": [],
   "source": [
    "import matplotlib.pyplot as plt\n",
    "\n",
    "# Filter results for the linear kernel\n",
    "linear_results = results_df[results_df['param_kernel'] == 'linear']\n",
    "\n",
    "# Plot mean test score vs. C\n",
    "plt.figure(figsize=(8, 6))\n",
    "plt.plot(\n",
    "    linear_results['param_C'].astype('float'),\n",
    "    linear_results['mean_test_score'],\n",
    "    marker='o'\n",
    ")\n",
    "plt.xscale('log')\n",
    "plt.xlabel('C (Regularization Parameter)', fontsize=12)\n",
    "plt.ylabel('Mean Cross-Validated Accuracy', fontsize=12)\n",
    "plt.title('SVM Performance vs. C (Linear Kernel)', fontsize=14)\n",
    "plt.grid(True, linestyle='--', alpha=0.7)\n",
    "plt.show()\n"
   ]
  },
  {
   "cell_type": "code",
   "execution_count": null,
   "id": "3938fef5",
   "metadata": {},
   "outputs": [],
   "source": [
    "import seaborn as sns\n",
    "import numpy as np\n",
    "\n",
    "# Filter results for the RBF kernel\n",
    "rbf_results = results_df[results_df['param_kernel'] == 'rbf']\n",
    "\n",
    "# Pivot the DataFrame to create a matrix for heatmap\n",
    "pivot_table = rbf_results.pivot(\n",
    "    index='param_gamma',\n",
    "    columns='param_C',\n",
    "    values='mean_test_score'\n",
    ")\n",
    "\n",
    "# Convert parameter values to float\n",
    "pivot_table.index = pivot_table.index.astype('float')\n",
    "pivot_table.columns = pivot_table.columns.astype('float')\n",
    "\n",
    "# Plot heatmap\n",
    "plt.figure(figsize=(10, 8))\n",
    "sns.heatmap(\n",
    "    pivot_table,\n",
    "    annot=True,\n",
    "    fmt=\".3f\",\n",
    "    cmap='viridis',\n",
    "    cbar_kws={'label': 'Mean CV Accuracy'}\n",
    ")\n",
    "plt.xscale('log')\n",
    "plt.yscale('log')\n",
    "plt.xlabel('C (Regularization Parameter)', fontsize=12)\n",
    "plt.ylabel('Gamma (Kernel Coefficient)', fontsize=12)\n",
    "plt.title('SVM Performance Heatmap (RBF Kernel)', fontsize=14)\n",
    "plt.show()\n"
   ]
  },
  {
   "cell_type": "code",
   "execution_count": null,
   "id": "41b1b073",
   "metadata": {},
   "outputs": [],
   "source": []
  },
  {
   "cell_type": "code",
   "execution_count": null,
   "id": "933e6554",
   "metadata": {},
   "outputs": [],
   "source": []
  },
  {
   "cell_type": "markdown",
   "id": "af886f35",
   "metadata": {},
   "source": [
    "### K-Nearest Neighbors Classifier"
   ]
  },
  {
   "cell_type": "code",
   "execution_count": 119,
   "id": "cbc15102",
   "metadata": {},
   "outputs": [
    {
     "name": "stdout",
     "output_type": "stream",
     "text": [
      "----- KNN -----\n",
      "Accuracy: 0.93\n",
      "Classification Report:\n",
      "               precision    recall  f1-score   support\n",
      "\n",
      "           0       0.94      0.99      0.96     28041\n",
      "           1       0.28      0.04      0.08      1959\n",
      "\n",
      "    accuracy                           0.93     30000\n",
      "   macro avg       0.61      0.52      0.52     30000\n",
      "weighted avg       0.89      0.93      0.91     30000\n",
      "\n"
     ]
    }
   ],
   "source": [
    "# K-Nearest Neighbors Classifier\n",
    "from sklearn.neighbors import KNeighborsClassifier\n",
    "\n",
    "# Initialize and train the model\n",
    "knn_model = KNeighborsClassifier(n_neighbors=2)\n",
    "knn_model.fit(X_train, y_train)\n",
    "\n",
    "# Make predictions\n",
    "y_pred_knn = knn_model.predict(X_test)\n",
    "\n",
    "# Evaluate the model\n",
    "print(\"----- KNN -----\")\n",
    "print(f\"Accuracy: {accuracy_score(y_test, y_pred_knn):.2f}\")\n",
    "print(\"Classification Report:\\n\", classification_report(y_test, y_pred_knn))\n"
   ]
  },
  {
   "cell_type": "code",
   "execution_count": 121,
   "id": "06c6e3ab",
   "metadata": {},
   "outputs": [
    {
     "name": "stdout",
     "output_type": "stream",
     "text": [
      "Accuracy: 0.93027\n",
      "Sensitivity (True Positive Rate): 0.0438999\n",
      "Specificity (True Negative Rate): 0.9921900\n",
      "Precision: 0.2819672\n",
      "Recall (Sensitivity): 0.0438999\n",
      "F1 Score: 0.0759717\n"
     ]
    }
   ],
   "source": [
    "from sklearn.metrics import confusion_matrix, accuracy_score, precision_score, recall_score, f1_score\n",
    "\n",
    "# Example ground truth and predictions (replace with your actual data)\n",
    "y_true = y_test  # True labels\n",
    "y_pred = y_pred_knn  # Predicted labels\n",
    "\n",
    "# Confusion Matrix\n",
    "tn, fp, fn, tp = confusion_matrix(y_true, y_pred).ravel()\n",
    "\n",
    "# Accuracy\n",
    "accuracy = accuracy_score(y_true, y_pred)\n",
    "\n",
    "# Sensitivity / Recall (True Positive Rate)\n",
    "sensitivity = tp / (tp + fn)\n",
    "\n",
    "# Specificity (True Negative Rate)\n",
    "specificity = tn / (tn + fp)\n",
    "\n",
    "# Precision\n",
    "precision = precision_score(y_true, y_pred)\n",
    "\n",
    "# Recall (Same as Sensitivity)\n",
    "recall = recall_score(y_true, y_pred)\n",
    "\n",
    "# F1 Score\n",
    "f1 = f1_score(y_true, y_pred)\n",
    "\n",
    "# Print Results\n",
    "print(f\"Accuracy: {accuracy:.5f}\")\n",
    "print(f\"Sensitivity (True Positive Rate): {sensitivity:.7f}\")\n",
    "print(f\"Specificity (True Negative Rate): {specificity:.7f}\")\n",
    "print(f\"Precision: {precision:.7f}\")\n",
    "print(f\"Recall (Sensitivity): {recall:.7f}\")\n",
    "print(f\"F1 Score: {f1:.7f}\")\n"
   ]
  },
  {
   "cell_type": "code",
   "execution_count": 120,
   "id": "595a453e",
   "metadata": {},
   "outputs": [
    {
     "data": {
      "image/png": "[encoded data removed]",
      "text/plain": [
       "<Figure size 432x432 with 1 Axes>"
      ]
     },
     "metadata": {},
     "output_type": "display_data"
    }
   ],
   "source": [
    "import numpy as np\n",
    "import matplotlib.pyplot as plt\n",
    "from sklearn.metrics import confusion_matrix\n",
    "\n",
    "# Example confusion matrix data (replace with your actual data)\n",
    "cm = confusion_matrix(y_test, y_pred_knn)  # Confusion matrix from your classifier\n",
    "classes = ['0', '1']  # Class labels\n",
    "\n",
    "# Circular confusion matrix plot\n",
    "fig, ax = plt.subplots(figsize=(6, 6), subplot_kw={'polar': True})\n",
    "\n",
    "# Normalize the confusion matrix for proportions\n",
    "cm_normalized = cm.astype('float') / cm.sum(axis=1)[:, np.newaxis]\n",
    "\n",
    "# Angles for the circular layout\n",
    "angles = np.linspace(0, 2 * np.pi, cm.size + 1, endpoint=True)\n",
    "\n",
    "# Plot each quadrant\n",
    "for i in range(cm.shape[0]):\n",
    "    for j in range(cm.shape[1]):\n",
    "        # Compute angles for each quadrant\n",
    "        start_angle = angles[i * cm.shape[1] + j]\n",
    "        end_angle = angles[i * cm.shape[1] + j + 1]\n",
    "        color = 'blue' if i == j else 'red'  # Blue for correct, red for incorrect\n",
    "\n",
    "        # Plot each segment\n",
    "        ax.fill_betweenx([0, cm_normalized[i, j]], start_angle, end_angle, color=color, alpha=0.8)\n",
    "\n",
    "        # Add numbers outside the segment but inside the circle\n",
    "        mid_angle = (start_angle + end_angle) / 2\n",
    "        radius = 0.8  # Adjust radius for placement closer to the edge of the circle\n",
    "        ax.text(mid_angle, radius, f\"{cm[i, j]}\", ha='center', va='center', color='black', fontsize=12)\n",
    "\n",
    "# Add labels and class information\n",
    "angles_labels = np.linspace(0, 2 * np.pi, len(classes) * 2, endpoint=False)\n",
    "labels = [f'Actual: {cls}' for cls in classes] + [f'Predicted: {cls}' for cls in classes]\n",
    "for angle, label in zip(angles_labels, labels):\n",
    "    ax.text(\n",
    "        angle,\n",
    "        1.12,  # Position outside the circle\n",
    "        label,\n",
    "        ha='center',\n",
    "        va='center',\n",
    "        fontsize=10,\n",
    "        rotation=0,  # Ensure labels are not rotated\n",
    "        rotation_mode='anchor'  # Keeps labels upright\n",
    "    )\n",
    "\n",
    "# Remove unwanted ticks and add a title\n",
    "ax.set_yticks([])\n",
    "ax.set_xticks([])\n",
    "plt.savefig('knn_cm.jpg', dpi=300, bbox_inches=\"tight\", format='png')  # PNG with high DPI\n",
    "plt.show()\n"
   ]
  },
  {
   "cell_type": "markdown",
   "id": "52436094",
   "metadata": {},
   "source": [
    "## All together"
   ]
  }
 ],
 "metadata": {
  "kernelspec": {
   "display_name": "Python 3 (ipykernel)",
   "language": "python",
   "name": "python3"
  },
  "language_info": {
   "codemirror_mode": {
    "name": "ipython",
    "version": 3
   },
   "file_extension": ".py",
   "mimetype": "text/x-python",
   "name": "python",
   "nbconvert_exporter": "python",
   "pygments_lexer": "ipython3",
   "version": "3.8.12"
  }
 },
 "nbformat": 4,
 "nbformat_minor": 5
}
