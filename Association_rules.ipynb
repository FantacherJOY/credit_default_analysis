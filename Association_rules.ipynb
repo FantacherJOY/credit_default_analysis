{
 "cells": [
  {
   "cell_type": "code",
   "execution_count": 2,
   "id": "d899b225",
   "metadata": {},
   "outputs": [],
   "source": [
    "import pandas as pd\n",
    "import numpy as np\n",
    "import matplotlib.pyplot as plt\n",
    "import seaborn as sns\n",
    "from mlxtend.frequent_patterns import apriori, association_rules\n",
    "from sklearn.impute import SimpleImputer\n",
    "from sklearn.linear_model import LinearRegression"
   ]
  },
  {
   "cell_type": "code",
   "execution_count": 3,
   "id": "134c3d49",
   "metadata": {},
   "outputs": [],
   "source": [
    "df=pd.read_csv('credit_scoring.csv')"
   ]
  },
  {
   "cell_type": "code",
   "execution_count": 4,
   "id": "f17e6e84",
   "metadata": {
    "scrolled": true
   },
   "outputs": [
    {
     "data": {
      "text/html": [
       "<div>\n",
       "<style scoped>\n",
       "    .dataframe tbody tr th:only-of-type {\n",
       "        vertical-align: middle;\n",
       "    }\n",
       "\n",
       "    .dataframe tbody tr th {\n",
       "        vertical-align: top;\n",
       "    }\n",
       "\n",
       "    .dataframe thead th {\n",
       "        text-align: right;\n",
       "    }\n",
       "</style>\n",
       "<table border=\"1\" class=\"dataframe\">\n",
       "  <thead>\n",
       "    <tr style=\"text-align: right;\">\n",
       "      <th></th>\n",
       "      <th>ID</th>\n",
       "      <th>Default</th>\n",
       "      <th>Prct_uso_tc</th>\n",
       "      <th>Edad</th>\n",
       "      <th>Nro_prestao_retrasados</th>\n",
       "      <th>Prct_deuda_vs_ingresos</th>\n",
       "      <th>Mto_ingreso_mensual</th>\n",
       "      <th>Nro_prod_financieros_deuda</th>\n",
       "      <th>Nro_retraso_60dias</th>\n",
       "      <th>Nro_creditos_hipotecarios</th>\n",
       "      <th>Nro_retraso_ultm3anios</th>\n",
       "      <th>Nro_dependiente</th>\n",
       "    </tr>\n",
       "  </thead>\n",
       "  <tbody>\n",
       "    <tr>\n",
       "      <th>0</th>\n",
       "      <td>1</td>\n",
       "      <td>1</td>\n",
       "      <td>0.766127</td>\n",
       "      <td>45</td>\n",
       "      <td>2</td>\n",
       "      <td>0.802982</td>\n",
       "      <td>9120.0</td>\n",
       "      <td>13</td>\n",
       "      <td>0</td>\n",
       "      <td>6</td>\n",
       "      <td>0</td>\n",
       "      <td>2.0</td>\n",
       "    </tr>\n",
       "    <tr>\n",
       "      <th>1</th>\n",
       "      <td>2</td>\n",
       "      <td>0</td>\n",
       "      <td>0.957151</td>\n",
       "      <td>40</td>\n",
       "      <td>0</td>\n",
       "      <td>0.121876</td>\n",
       "      <td>2600.0</td>\n",
       "      <td>4</td>\n",
       "      <td>0</td>\n",
       "      <td>0</td>\n",
       "      <td>0</td>\n",
       "      <td>1.0</td>\n",
       "    </tr>\n",
       "    <tr>\n",
       "      <th>2</th>\n",
       "      <td>3</td>\n",
       "      <td>0</td>\n",
       "      <td>0.658180</td>\n",
       "      <td>38</td>\n",
       "      <td>1</td>\n",
       "      <td>0.085113</td>\n",
       "      <td>3042.0</td>\n",
       "      <td>2</td>\n",
       "      <td>1</td>\n",
       "      <td>0</td>\n",
       "      <td>0</td>\n",
       "      <td>0.0</td>\n",
       "    </tr>\n",
       "    <tr>\n",
       "      <th>3</th>\n",
       "      <td>4</td>\n",
       "      <td>0</td>\n",
       "      <td>0.233810</td>\n",
       "      <td>30</td>\n",
       "      <td>0</td>\n",
       "      <td>0.036050</td>\n",
       "      <td>3300.0</td>\n",
       "      <td>5</td>\n",
       "      <td>0</td>\n",
       "      <td>0</td>\n",
       "      <td>0</td>\n",
       "      <td>0.0</td>\n",
       "    </tr>\n",
       "    <tr>\n",
       "      <th>4</th>\n",
       "      <td>5</td>\n",
       "      <td>0</td>\n",
       "      <td>0.907239</td>\n",
       "      <td>49</td>\n",
       "      <td>1</td>\n",
       "      <td>0.024926</td>\n",
       "      <td>63588.0</td>\n",
       "      <td>7</td>\n",
       "      <td>0</td>\n",
       "      <td>1</td>\n",
       "      <td>0</td>\n",
       "      <td>0.0</td>\n",
       "    </tr>\n",
       "  </tbody>\n",
       "</table>\n",
       "</div>"
      ],
      "text/plain": [
       "   ID  Default  Prct_uso_tc  Edad  Nro_prestao_retrasados  \\\n",
       "0   1        1     0.766127    45                       2   \n",
       "1   2        0     0.957151    40                       0   \n",
       "2   3        0     0.658180    38                       1   \n",
       "3   4        0     0.233810    30                       0   \n",
       "4   5        0     0.907239    49                       1   \n",
       "\n",
       "   Prct_deuda_vs_ingresos  Mto_ingreso_mensual  Nro_prod_financieros_deuda  \\\n",
       "0                0.802982               9120.0                          13   \n",
       "1                0.121876               2600.0                           4   \n",
       "2                0.085113               3042.0                           2   \n",
       "3                0.036050               3300.0                           5   \n",
       "4                0.024926              63588.0                           7   \n",
       "\n",
       "   Nro_retraso_60dias  Nro_creditos_hipotecarios  Nro_retraso_ultm3anios  \\\n",
       "0                   0                          6                       0   \n",
       "1                   0                          0                       0   \n",
       "2                   1                          0                       0   \n",
       "3                   0                          0                       0   \n",
       "4                   0                          1                       0   \n",
       "\n",
       "   Nro_dependiente  \n",
       "0              2.0  \n",
       "1              1.0  \n",
       "2              0.0  \n",
       "3              0.0  \n",
       "4              0.0  "
      ]
     },
     "execution_count": 4,
     "metadata": {},
     "output_type": "execute_result"
    }
   ],
   "source": [
    "df.head(5)"
   ]
  },
  {
   "cell_type": "code",
   "execution_count": 5,
   "id": "b830ce59",
   "metadata": {},
   "outputs": [
    {
     "name": "stdout",
     "output_type": "stream",
     "text": [
      "Missing Values After Imputation:\n",
      " ID                            0\n",
      "Default                       0\n",
      "Prct_uso_tc                   0\n",
      "Edad                          0\n",
      "Nro_prestao_retrasados        0\n",
      "Prct_deuda_vs_ingresos        0\n",
      "Mto_ingreso_mensual           0\n",
      "Nro_prod_financieros_deuda    0\n",
      "Nro_retraso_60dias            0\n",
      "Nro_creditos_hipotecarios     0\n",
      "Nro_retraso_ultm3anios        0\n",
      "Nro_dependiente               0\n",
      "dtype: int64\n"
     ]
    }
   ],
   "source": [
    "# Separate rows with and without missing target values\n",
    "impute_df = df[df['Mto_ingreso_mensual'].notnull()]\n",
    "predict_df = df[df['Mto_ingreso_mensual'].isnull()]\n",
    "\n",
    "# Define predictors (drop columns not used for prediction)\n",
    "X_train = impute_df.drop(['Mto_ingreso_mensual', 'ID', 'Default'], axis=1)\n",
    "y_train = impute_df['Mto_ingreso_mensual']\n",
    "X_predict = predict_df.drop(['Mto_ingreso_mensual', 'ID', 'Default'], axis=1)\n",
    "\n",
    "# Impute missing values in predictors\n",
    "imputer = SimpleImputer(strategy='mean')  # You can use 'median' or 'most_frequent' instead\n",
    "X_train = imputer.fit_transform(X_train)\n",
    "X_predict = imputer.transform(X_predict)\n",
    "\n",
    "# Train the regression model\n",
    "reg = LinearRegression()\n",
    "reg.fit(X_train, y_train)\n",
    "\n",
    "# Predict missing values\n",
    "predicted_values = reg.predict(X_predict)\n",
    "\n",
    "# Fill missing values in the original DataFrame\n",
    "df.loc[df['Mto_ingreso_mensual'].isnull(), 'Mto_ingreso_mensual'] = predicted_values\n",
    "\n",
    "# Handling missing values in 'Nro_dependiente'\n",
    "# Replace missing values with median\n",
    "df['Nro_dependiente'].fillna(df['Nro_dependiente'].median(), inplace=True)\n",
    "\n",
    "# Verify there are no missing values left\n",
    "print(\"Missing Values After Imputation:\\n\", df.isnull().sum())"
   ]
  },
  {
   "cell_type": "code",
   "execution_count": 6,
   "id": "aa158f35",
   "metadata": {},
   "outputs": [
    {
     "data": {
      "text/html": [
       "<div>\n",
       "<style scoped>\n",
       "    .dataframe tbody tr th:only-of-type {\n",
       "        vertical-align: middle;\n",
       "    }\n",
       "\n",
       "    .dataframe tbody tr th {\n",
       "        vertical-align: top;\n",
       "    }\n",
       "\n",
       "    .dataframe thead th {\n",
       "        text-align: right;\n",
       "    }\n",
       "</style>\n",
       "<table border=\"1\" class=\"dataframe\">\n",
       "  <thead>\n",
       "    <tr style=\"text-align: right;\">\n",
       "      <th></th>\n",
       "      <th>ID</th>\n",
       "      <th>Default</th>\n",
       "      <th>Prct_uso_tc</th>\n",
       "      <th>Edad</th>\n",
       "      <th>Nro_prestao_retrasados</th>\n",
       "      <th>Prct_deuda_vs_ingresos</th>\n",
       "      <th>Mto_ingreso_mensual</th>\n",
       "      <th>Nro_prod_financieros_deuda</th>\n",
       "      <th>Nro_retraso_60dias</th>\n",
       "      <th>Nro_creditos_hipotecarios</th>\n",
       "      <th>Nro_retraso_ultm3anios</th>\n",
       "      <th>Nro_dependiente</th>\n",
       "    </tr>\n",
       "  </thead>\n",
       "  <tbody>\n",
       "    <tr>\n",
       "      <th>0</th>\n",
       "      <td>1</td>\n",
       "      <td>1</td>\n",
       "      <td>0.766127</td>\n",
       "      <td>45</td>\n",
       "      <td>2</td>\n",
       "      <td>0.802982</td>\n",
       "      <td>9120.0</td>\n",
       "      <td>13</td>\n",
       "      <td>0</td>\n",
       "      <td>6</td>\n",
       "      <td>0</td>\n",
       "      <td>2.0</td>\n",
       "    </tr>\n",
       "    <tr>\n",
       "      <th>1</th>\n",
       "      <td>2</td>\n",
       "      <td>0</td>\n",
       "      <td>0.957151</td>\n",
       "      <td>40</td>\n",
       "      <td>0</td>\n",
       "      <td>0.121876</td>\n",
       "      <td>2600.0</td>\n",
       "      <td>4</td>\n",
       "      <td>0</td>\n",
       "      <td>0</td>\n",
       "      <td>0</td>\n",
       "      <td>1.0</td>\n",
       "    </tr>\n",
       "    <tr>\n",
       "      <th>2</th>\n",
       "      <td>3</td>\n",
       "      <td>0</td>\n",
       "      <td>0.658180</td>\n",
       "      <td>38</td>\n",
       "      <td>1</td>\n",
       "      <td>0.085113</td>\n",
       "      <td>3042.0</td>\n",
       "      <td>2</td>\n",
       "      <td>1</td>\n",
       "      <td>0</td>\n",
       "      <td>0</td>\n",
       "      <td>0.0</td>\n",
       "    </tr>\n",
       "    <tr>\n",
       "      <th>3</th>\n",
       "      <td>4</td>\n",
       "      <td>0</td>\n",
       "      <td>0.233810</td>\n",
       "      <td>30</td>\n",
       "      <td>0</td>\n",
       "      <td>0.036050</td>\n",
       "      <td>3300.0</td>\n",
       "      <td>5</td>\n",
       "      <td>0</td>\n",
       "      <td>0</td>\n",
       "      <td>0</td>\n",
       "      <td>0.0</td>\n",
       "    </tr>\n",
       "    <tr>\n",
       "      <th>4</th>\n",
       "      <td>5</td>\n",
       "      <td>0</td>\n",
       "      <td>0.907239</td>\n",
       "      <td>49</td>\n",
       "      <td>1</td>\n",
       "      <td>0.024926</td>\n",
       "      <td>63588.0</td>\n",
       "      <td>7</td>\n",
       "      <td>0</td>\n",
       "      <td>1</td>\n",
       "      <td>0</td>\n",
       "      <td>0.0</td>\n",
       "    </tr>\n",
       "  </tbody>\n",
       "</table>\n",
       "</div>"
      ],
      "text/plain": [
       "   ID  Default  Prct_uso_tc  Edad  Nro_prestao_retrasados  \\\n",
       "0   1        1     0.766127    45                       2   \n",
       "1   2        0     0.957151    40                       0   \n",
       "2   3        0     0.658180    38                       1   \n",
       "3   4        0     0.233810    30                       0   \n",
       "4   5        0     0.907239    49                       1   \n",
       "\n",
       "   Prct_deuda_vs_ingresos  Mto_ingreso_mensual  Nro_prod_financieros_deuda  \\\n",
       "0                0.802982               9120.0                          13   \n",
       "1                0.121876               2600.0                           4   \n",
       "2                0.085113               3042.0                           2   \n",
       "3                0.036050               3300.0                           5   \n",
       "4                0.024926              63588.0                           7   \n",
       "\n",
       "   Nro_retraso_60dias  Nro_creditos_hipotecarios  Nro_retraso_ultm3anios  \\\n",
       "0                   0                          6                       0   \n",
       "1                   0                          0                       0   \n",
       "2                   1                          0                       0   \n",
       "3                   0                          0                       0   \n",
       "4                   0                          1                       0   \n",
       "\n",
       "   Nro_dependiente  \n",
       "0              2.0  \n",
       "1              1.0  \n",
       "2              0.0  \n",
       "3              0.0  \n",
       "4              0.0  "
      ]
     },
     "execution_count": 6,
     "metadata": {},
     "output_type": "execute_result"
    }
   ],
   "source": [
    "df.head()"
   ]
  },
  {
   "cell_type": "code",
   "execution_count": 7,
   "id": "f6dce793",
   "metadata": {},
   "outputs": [
    {
     "data": {
      "text/plain": [
       "0    High (>50%)\n",
       "1    Low (0-35%)\n",
       "2    Low (0-35%)\n",
       "3    Low (0-35%)\n",
       "4    Low (0-35%)\n",
       "Name: debt_ratio_bin, dtype: category\n",
       "Categories (3, object): ['Low (0-35%)' < 'Medium (36-49%)' < 'High (>50%)']"
      ]
     },
     "execution_count": 7,
     "metadata": {},
     "output_type": "execute_result"
    }
   ],
   "source": [
    "df['debt_ratio_bin'] = pd.cut(df['Prct_deuda_vs_ingresos'],     \n",
    "                          bins=[0, .35, 0.49, float('inf')],  # Realistic thresholds\n",
    "                          labels=['Low (0-35%)', 'Medium (36-49%)', 'High (>50%)'])\n",
    "\n",
    "df['debt_ratio_bin'].head()"
   ]
  },
  {
   "cell_type": "code",
   "execution_count": 8,
   "id": "8f267847",
   "metadata": {},
   "outputs": [
    {
     "data": {
      "text/plain": [
       "['High (>50%)', 'Low (0-35%)', 'Medium (36-49%)', NaN]\n",
       "Categories (3, object): ['Low (0-35%)' < 'Medium (36-49%)' < 'High (>50%)']"
      ]
     },
     "execution_count": 8,
     "metadata": {},
     "output_type": "execute_result"
    }
   ],
   "source": [
    "df['debt_ratio_bin'].unique()"
   ]
  },
  {
   "cell_type": "code",
   "execution_count": 9,
   "id": "dae23cb2",
   "metadata": {},
   "outputs": [
    {
     "data": {
      "text/html": [
       "<div>\n",
       "<style scoped>\n",
       "    .dataframe tbody tr th:only-of-type {\n",
       "        vertical-align: middle;\n",
       "    }\n",
       "\n",
       "    .dataframe tbody tr th {\n",
       "        vertical-align: top;\n",
       "    }\n",
       "\n",
       "    .dataframe thead th {\n",
       "        text-align: right;\n",
       "    }\n",
       "</style>\n",
       "<table border=\"1\" class=\"dataframe\">\n",
       "  <thead>\n",
       "    <tr style=\"text-align: right;\">\n",
       "      <th></th>\n",
       "      <th>Default</th>\n",
       "      <th>Low (0-35%)</th>\n",
       "      <th>Medium (36-49%)</th>\n",
       "      <th>High (&gt;50%)</th>\n",
       "    </tr>\n",
       "  </thead>\n",
       "  <tbody>\n",
       "    <tr>\n",
       "      <th>0</th>\n",
       "      <td>1</td>\n",
       "      <td>0</td>\n",
       "      <td>0</td>\n",
       "      <td>1</td>\n",
       "    </tr>\n",
       "    <tr>\n",
       "      <th>1</th>\n",
       "      <td>0</td>\n",
       "      <td>1</td>\n",
       "      <td>0</td>\n",
       "      <td>0</td>\n",
       "    </tr>\n",
       "    <tr>\n",
       "      <th>2</th>\n",
       "      <td>0</td>\n",
       "      <td>1</td>\n",
       "      <td>0</td>\n",
       "      <td>0</td>\n",
       "    </tr>\n",
       "    <tr>\n",
       "      <th>3</th>\n",
       "      <td>0</td>\n",
       "      <td>1</td>\n",
       "      <td>0</td>\n",
       "      <td>0</td>\n",
       "    </tr>\n",
       "    <tr>\n",
       "      <th>4</th>\n",
       "      <td>0</td>\n",
       "      <td>1</td>\n",
       "      <td>0</td>\n",
       "      <td>0</td>\n",
       "    </tr>\n",
       "  </tbody>\n",
       "</table>\n",
       "</div>"
      ],
      "text/plain": [
       "   Default  Low (0-35%)  Medium (36-49%)  High (>50%)\n",
       "0        1            0                0            1\n",
       "1        0            1                0            0\n",
       "2        0            1                0            0\n",
       "3        0            1                0            0\n",
       "4        0            1                0            0"
      ]
     },
     "execution_count": 9,
     "metadata": {},
     "output_type": "execute_result"
    }
   ],
   "source": [
    "df_transactions = pd.get_dummies(\n",
    "    df[['debt_ratio_bin', 'Default']],\n",
    "    prefix='', prefix_sep=''\n",
    ")\n",
    "\n",
    "df_transactions.head()"
   ]
  },
  {
   "cell_type": "code",
   "execution_count": 10,
   "id": "9c6087fa",
   "metadata": {},
   "outputs": [
    {
     "name": "stderr",
     "output_type": "stream",
     "text": [
      "/home/u21/fantacher/.local/lib/python3.8/site-packages/mlxtend/frequent_patterns/fpcommon.py:111: DeprecationWarning: DataFrames with non-bool types result in worse computationalperformance and their support might be discontinued in the future.Please use a DataFrame with bool type\n",
      "  warnings.warn(\n"
     ]
    },
    {
     "data": {
      "text/html": [
       "<div>\n",
       "<style scoped>\n",
       "    .dataframe tbody tr th:only-of-type {\n",
       "        vertical-align: middle;\n",
       "    }\n",
       "\n",
       "    .dataframe tbody tr th {\n",
       "        vertical-align: top;\n",
       "    }\n",
       "\n",
       "    .dataframe thead th {\n",
       "        text-align: right;\n",
       "    }\n",
       "</style>\n",
       "<table border=\"1\" class=\"dataframe\">\n",
       "  <thead>\n",
       "    <tr style=\"text-align: right;\">\n",
       "      <th></th>\n",
       "      <th>antecedents</th>\n",
       "      <th>consequents</th>\n",
       "      <th>antecedent support</th>\n",
       "      <th>consequent support</th>\n",
       "      <th>support</th>\n",
       "      <th>confidence</th>\n",
       "      <th>lift</th>\n",
       "      <th>leverage</th>\n",
       "      <th>conviction</th>\n",
       "    </tr>\n",
       "  </thead>\n",
       "  <tbody>\n",
       "    <tr>\n",
       "      <th>0</th>\n",
       "      <td>(Default)</td>\n",
       "      <td>(Low (0-35%))</td>\n",
       "      <td>0.06684</td>\n",
       "      <td>0.452987</td>\n",
       "      <td>0.025673</td>\n",
       "      <td>0.384101</td>\n",
       "      <td>0.847931</td>\n",
       "      <td>-0.004604</td>\n",
       "      <td>0.888155</td>\n",
       "    </tr>\n",
       "    <tr>\n",
       "      <th>1</th>\n",
       "      <td>(Default)</td>\n",
       "      <td>(High (&gt;50%))</td>\n",
       "      <td>0.06684</td>\n",
       "      <td>0.382300</td>\n",
       "      <td>0.029653</td>\n",
       "      <td>0.443647</td>\n",
       "      <td>1.160467</td>\n",
       "      <td>0.004100</td>\n",
       "      <td>1.110265</td>\n",
       "    </tr>\n",
       "  </tbody>\n",
       "</table>\n",
       "</div>"
      ],
      "text/plain": [
       "  antecedents    consequents  antecedent support  consequent support  \\\n",
       "0   (Default)  (Low (0-35%))             0.06684            0.452987   \n",
       "1   (Default)  (High (>50%))             0.06684            0.382300   \n",
       "\n",
       "    support  confidence      lift  leverage  conviction  \n",
       "0  0.025673    0.384101  0.847931 -0.004604    0.888155  \n",
       "1  0.029653    0.443647  1.160467  0.004100    1.110265  "
      ]
     },
     "execution_count": 10,
     "metadata": {},
     "output_type": "execute_result"
    }
   ],
   "source": [
    "frequent_itemsets = apriori(df_transactions, min_support=0.005, use_colnames=True)\n",
    "frequent_itemsets['num_itemsets'] = frequent_itemsets['itemsets'].apply(len)\n",
    "\n",
    "# Generate rules with even lower confidence threshold\n",
    "rules = association_rules(frequent_itemsets, metric=\"confidence\", min_threshold=0.2)\n",
    "# Display the first few rules\n",
    "rules.head()\n"
   ]
  },
  {
   "cell_type": "code",
   "execution_count": 11,
   "id": "cacc0590",
   "metadata": {},
   "outputs": [
    {
     "data": {
      "image/png": "[encoded data removed]",
      "text/plain": [
       "<Figure size 576x432 with 2 Axes>"
      ]
     },
     "metadata": {
      "needs_background": "light"
     },
     "output_type": "display_data"
    }
   ],
   "source": [
    "# Prepare data for plotting\n",
    "dti_rules_data = [\n",
    "    {\n",
    "        'Consequent Group': 'Low (0-35%)', \n",
    "        'Support': 0.025673, \n",
    "        'Confidence': 0.384101, \n",
    "        'Lift': 0.847931\n",
    "    },\n",
    "    {\n",
    "        'Consequent Group': 'High (>50%)', \n",
    "        'Support': 0.029653, \n",
    "        'Confidence': 0.443647, \n",
    "        'Lift': 1.160467\n",
    "    },\n",
    "]\n",
    "\n",
    "# Convert to DataFrame\n",
    "dti_rules_df = pd.DataFrame(dti_rules_data)\n",
    "\n",
    "# Create scatter plot\n",
    "plt.figure(figsize=(8, 6))\n",
    "plt.scatter(dti_rules_df['Support'], dti_rules_df['Confidence'], c=dti_rules_df['Lift'], cmap='coolwarm', s=200, edgecolor='black')\n",
    "for i, row in dti_rules_df.iterrows():\n",
    "    plt.text(row['Support'], row['Confidence'], row['Consequent Group'], fontsize=12, ha='right')\n",
    "\n",
    "# Add labels and color bar\n",
    "plt.colorbar(label='Lift')\n",
    "plt.xlabel('Support', fontsize=12)\n",
    "plt.ylabel('Confidence', fontsize=12)\n",
    "plt.title('Default Rules by Debt to Income Groups', fontsize=14)\n",
    "plt.grid(True, linestyle='--', alpha=0.7)\n",
    "plt.savefig('AR_DTI_group.jpg', dpi=300, bbox_inches=\"tight\", format='png')  # PNG with high DPI\n",
    "plt.show()\n"
   ]
  },
  {
   "cell_type": "code",
   "execution_count": 12,
   "id": "88bf520a",
   "metadata": {},
   "outputs": [
    {
     "data": {
      "text/plain": [
       "0         High\n",
       "1          Low\n",
       "2          Low\n",
       "3          Low\n",
       "4    Very High\n",
       "Name: income_bin, dtype: category\n",
       "Categories (5, object): ['Very Low' < 'Low' < 'Medium' < 'High' < 'Very High']"
      ]
     },
     "execution_count": 12,
     "metadata": {},
     "output_type": "execute_result"
    }
   ],
   "source": [
    "\n",
    "df['income_bin'] = pd.cut(df['Mto_ingreso_mensual'], bins=[0, 2500, 4800, 7800, 12750, float('inf')], \n",
    "                          labels=['Very Low','Low', 'Medium', 'High','Very High'])\n",
    "\n",
    "df['income_bin'].head()\n"
   ]
  },
  {
   "cell_type": "code",
   "execution_count": 13,
   "id": "ce3c116a",
   "metadata": {},
   "outputs": [
    {
     "data": {
      "text/plain": [
       "['High', 'Low', 'Very High', 'Very Low', 'Medium', NaN]\n",
       "Categories (5, object): ['Very Low' < 'Low' < 'Medium' < 'High' < 'Very High']"
      ]
     },
     "execution_count": 13,
     "metadata": {},
     "output_type": "execute_result"
    }
   ],
   "source": [
    "df['income_bin'].unique()"
   ]
  },
  {
   "cell_type": "code",
   "execution_count": 14,
   "id": "a68bb6ac",
   "metadata": {},
   "outputs": [
    {
     "data": {
      "text/html": [
       "<div>\n",
       "<style scoped>\n",
       "    .dataframe tbody tr th:only-of-type {\n",
       "        vertical-align: middle;\n",
       "    }\n",
       "\n",
       "    .dataframe tbody tr th {\n",
       "        vertical-align: top;\n",
       "    }\n",
       "\n",
       "    .dataframe thead th {\n",
       "        text-align: right;\n",
       "    }\n",
       "</style>\n",
       "<table border=\"1\" class=\"dataframe\">\n",
       "  <thead>\n",
       "    <tr style=\"text-align: right;\">\n",
       "      <th></th>\n",
       "      <th>Default</th>\n",
       "      <th>Very Low</th>\n",
       "      <th>Low</th>\n",
       "      <th>Medium</th>\n",
       "      <th>High</th>\n",
       "      <th>Very High</th>\n",
       "    </tr>\n",
       "  </thead>\n",
       "  <tbody>\n",
       "    <tr>\n",
       "      <th>0</th>\n",
       "      <td>1</td>\n",
       "      <td>0</td>\n",
       "      <td>0</td>\n",
       "      <td>0</td>\n",
       "      <td>1</td>\n",
       "      <td>0</td>\n",
       "    </tr>\n",
       "    <tr>\n",
       "      <th>1</th>\n",
       "      <td>0</td>\n",
       "      <td>0</td>\n",
       "      <td>1</td>\n",
       "      <td>0</td>\n",
       "      <td>0</td>\n",
       "      <td>0</td>\n",
       "    </tr>\n",
       "    <tr>\n",
       "      <th>2</th>\n",
       "      <td>0</td>\n",
       "      <td>0</td>\n",
       "      <td>1</td>\n",
       "      <td>0</td>\n",
       "      <td>0</td>\n",
       "      <td>0</td>\n",
       "    </tr>\n",
       "    <tr>\n",
       "      <th>3</th>\n",
       "      <td>0</td>\n",
       "      <td>0</td>\n",
       "      <td>1</td>\n",
       "      <td>0</td>\n",
       "      <td>0</td>\n",
       "      <td>0</td>\n",
       "    </tr>\n",
       "    <tr>\n",
       "      <th>4</th>\n",
       "      <td>0</td>\n",
       "      <td>0</td>\n",
       "      <td>0</td>\n",
       "      <td>0</td>\n",
       "      <td>0</td>\n",
       "      <td>1</td>\n",
       "    </tr>\n",
       "  </tbody>\n",
       "</table>\n",
       "</div>"
      ],
      "text/plain": [
       "   Default  Very Low  Low  Medium  High  Very High\n",
       "0        1         0    0       0     1          0\n",
       "1        0         0    1       0     0          0\n",
       "2        0         0    1       0     0          0\n",
       "3        0         0    1       0     0          0\n",
       "4        0         0    0       0     0          1"
      ]
     },
     "execution_count": 14,
     "metadata": {},
     "output_type": "execute_result"
    }
   ],
   "source": [
    "df_transactions = pd.get_dummies(\n",
    "    df[['income_bin', 'Default']],\n",
    "    prefix='', prefix_sep=''\n",
    ")\n",
    "\n",
    "df_transactions.head()\n"
   ]
  },
  {
   "cell_type": "code",
   "execution_count": 15,
   "id": "083b0989",
   "metadata": {},
   "outputs": [
    {
     "name": "stderr",
     "output_type": "stream",
     "text": [
      "/home/u21/fantacher/.local/lib/python3.8/site-packages/mlxtend/frequent_patterns/fpcommon.py:111: DeprecationWarning: DataFrames with non-bool types result in worse computationalperformance and their support might be discontinued in the future.Please use a DataFrame with bool type\n",
      "  warnings.warn(\n"
     ]
    },
    {
     "data": {
      "text/html": [
       "<div>\n",
       "<style scoped>\n",
       "    .dataframe tbody tr th:only-of-type {\n",
       "        vertical-align: middle;\n",
       "    }\n",
       "\n",
       "    .dataframe tbody tr th {\n",
       "        vertical-align: top;\n",
       "    }\n",
       "\n",
       "    .dataframe thead th {\n",
       "        text-align: right;\n",
       "    }\n",
       "</style>\n",
       "<table border=\"1\" class=\"dataframe\">\n",
       "  <thead>\n",
       "    <tr style=\"text-align: right;\">\n",
       "      <th></th>\n",
       "      <th>antecedents</th>\n",
       "      <th>consequents</th>\n",
       "      <th>antecedent support</th>\n",
       "      <th>consequent support</th>\n",
       "      <th>support</th>\n",
       "      <th>confidence</th>\n",
       "      <th>lift</th>\n",
       "      <th>leverage</th>\n",
       "      <th>conviction</th>\n",
       "    </tr>\n",
       "  </thead>\n",
       "  <tbody>\n",
       "    <tr>\n",
       "      <th>0</th>\n",
       "      <td>(Default)</td>\n",
       "      <td>(Low)</td>\n",
       "      <td>0.06684</td>\n",
       "      <td>0.323480</td>\n",
       "      <td>0.027253</td>\n",
       "      <td>0.40774</td>\n",
       "      <td>1.260479</td>\n",
       "      <td>0.005632</td>\n",
       "      <td>1.142268</td>\n",
       "    </tr>\n",
       "    <tr>\n",
       "      <th>1</th>\n",
       "      <td>(Default)</td>\n",
       "      <td>(Medium)</td>\n",
       "      <td>0.06684</td>\n",
       "      <td>0.314667</td>\n",
       "      <td>0.016967</td>\n",
       "      <td>0.25384</td>\n",
       "      <td>0.806695</td>\n",
       "      <td>-0.004066</td>\n",
       "      <td>0.918480</td>\n",
       "    </tr>\n",
       "  </tbody>\n",
       "</table>\n",
       "</div>"
      ],
      "text/plain": [
       "  antecedents consequents  antecedent support  consequent support   support  \\\n",
       "0   (Default)       (Low)             0.06684            0.323480  0.027253   \n",
       "1   (Default)    (Medium)             0.06684            0.314667  0.016967   \n",
       "\n",
       "   confidence      lift  leverage  conviction  \n",
       "0     0.40774  1.260479  0.005632    1.142268  \n",
       "1     0.25384  0.806695 -0.004066    0.918480  "
      ]
     },
     "execution_count": 15,
     "metadata": {},
     "output_type": "execute_result"
    }
   ],
   "source": [
    "frequent_itemsets = apriori(df_transactions, min_support=0.005, use_colnames=True)\n",
    "frequent_itemsets['num_itemsets'] = frequent_itemsets['itemsets'].apply(len)\n",
    "\n",
    "# Generate rules with even lower confidence threshold\n",
    "rules = association_rules(frequent_itemsets, metric=\"confidence\", min_threshold=0.2)\n",
    "# Display the first few rules\n",
    "rules.head()\n"
   ]
  },
  {
   "cell_type": "code",
   "execution_count": 16,
   "id": "bb17f56e",
   "metadata": {},
   "outputs": [
    {
     "data": {
      "image/png": "[encoded data removed]",
      "text/plain": [
       "<Figure size 576x432 with 2 Axes>"
      ]
     },
     "metadata": {
      "needs_background": "light"
     },
     "output_type": "display_data"
    }
   ],
   "source": [
    "import matplotlib.pyplot as plt\n",
    "\n",
    "# Prepare data for plotting\n",
    "income_groups = ['Low', 'Medium']\n",
    "rules_data_income = [\n",
    "    {'Income Group': 'Low', 'Support': 0.019773, 'Confidence': 0.295831, 'Lift': 1.327381},\n",
    "    {'Income Group': 'Medium', 'Support': 0.014900, 'Confidence': 0.222920, 'Lift': 0.955940},\n",
    "]\n",
    "\n",
    "# Convert to DataFrame\n",
    "rules_df_income = pd.DataFrame(rules_data_income)\n",
    "\n",
    "# Create scatter plot\n",
    "plt.figure(figsize=(8, 6))\n",
    "plt.scatter(rules_df_income['Support'], rules_df_income['Confidence'], c=rules_df_income['Lift'], cmap='coolwarm', s=200, edgecolor='black')\n",
    "for i, row in rules_df_income.iterrows():\n",
    "    plt.text(row['Support'], row['Confidence'], row['Income Group'], fontsize=12, ha='right')\n",
    "\n",
    "# Add labels and color bar\n",
    "plt.colorbar(label='Lift')\n",
    "plt.xlabel('Support', fontsize=12)\n",
    "plt.ylabel('Confidence', fontsize=12)\n",
    "plt.title('Default Rules by Monthly Income Groups', fontsize=14)\n",
    "plt.grid(True, linestyle='--', alpha=0.7)\n",
    "plt.savefig('AR_income_group.jpg', dpi=300, bbox_inches=\"tight\", format='png')  # PNG with high DPI\n",
    "plt.show()\n"
   ]
  },
  {
   "cell_type": "code",
   "execution_count": 17,
   "id": "bb37beac",
   "metadata": {},
   "outputs": [
    {
     "data": {
      "text/plain": [
       "count    150000.000000\n",
       "mean          0.265973\n",
       "std           4.169304\n",
       "min           0.000000\n",
       "25%           0.000000\n",
       "50%           0.000000\n",
       "75%           0.000000\n",
       "max          98.000000\n",
       "Name: Nro_retraso_60dias, dtype: float64"
      ]
     },
     "execution_count": 17,
     "metadata": {},
     "output_type": "execute_result"
    }
   ],
   "source": [
    "df['Nro_retraso_60dias'].describe()"
   ]
  },
  {
   "cell_type": "code",
   "execution_count": 18,
   "id": "cd893b3b",
   "metadata": {},
   "outputs": [
    {
     "data": {
      "text/plain": [
       "0        NaN\n",
       "1        NaN\n",
       "2    Delay 1\n",
       "3        NaN\n",
       "4        NaN\n",
       "Name: loans_delays_bin, dtype: category\n",
       "Categories (6, object): ['Delay 1' < 'Delay 2' < 'Delay 3' < 'Delay 4' < 'Delay 5' < 'Delay >5']"
      ]
     },
     "execution_count": 18,
     "metadata": {},
     "output_type": "execute_result"
    }
   ],
   "source": [
    "df['loans_delays_bin'] = pd.cut(df['Nro_retraso_60dias'],     \n",
    "                          bins=[0, 1, 2, 3, 4, 5, float('inf')],  # Realistic thresholds\n",
    "                          labels=['Delay 1', 'Delay 2','Delay 3', 'Delay 4','Delay 5', 'Delay >5'])\n",
    "\n",
    "df['loans_delays_bin'].head()"
   ]
  },
  {
   "cell_type": "code",
   "execution_count": 19,
   "id": "60e89bc6",
   "metadata": {},
   "outputs": [
    {
     "data": {
      "text/plain": [
       "[NaN, 'Delay 1', 'Delay 3', 'Delay 2', 'Delay 5', 'Delay 4', 'Delay >5']\n",
       "Categories (6, object): ['Delay 1' < 'Delay 2' < 'Delay 3' < 'Delay 4' < 'Delay 5' < 'Delay >5']"
      ]
     },
     "execution_count": 19,
     "metadata": {},
     "output_type": "execute_result"
    }
   ],
   "source": [
    "df['loans_delays_bin'].unique()"
   ]
  },
  {
   "cell_type": "code",
   "execution_count": 20,
   "id": "09023a36",
   "metadata": {},
   "outputs": [
    {
     "data": {
      "text/html": [
       "<div>\n",
       "<style scoped>\n",
       "    .dataframe tbody tr th:only-of-type {\n",
       "        vertical-align: middle;\n",
       "    }\n",
       "\n",
       "    .dataframe tbody tr th {\n",
       "        vertical-align: top;\n",
       "    }\n",
       "\n",
       "    .dataframe thead th {\n",
       "        text-align: right;\n",
       "    }\n",
       "</style>\n",
       "<table border=\"1\" class=\"dataframe\">\n",
       "  <thead>\n",
       "    <tr style=\"text-align: right;\">\n",
       "      <th></th>\n",
       "      <th>Default</th>\n",
       "      <th>Delay 1</th>\n",
       "      <th>Delay 2</th>\n",
       "      <th>Delay 3</th>\n",
       "      <th>Delay 4</th>\n",
       "      <th>Delay 5</th>\n",
       "      <th>Delay &gt;5</th>\n",
       "    </tr>\n",
       "  </thead>\n",
       "  <tbody>\n",
       "    <tr>\n",
       "      <th>0</th>\n",
       "      <td>1</td>\n",
       "      <td>0</td>\n",
       "      <td>0</td>\n",
       "      <td>0</td>\n",
       "      <td>0</td>\n",
       "      <td>0</td>\n",
       "      <td>0</td>\n",
       "    </tr>\n",
       "    <tr>\n",
       "      <th>1</th>\n",
       "      <td>0</td>\n",
       "      <td>0</td>\n",
       "      <td>0</td>\n",
       "      <td>0</td>\n",
       "      <td>0</td>\n",
       "      <td>0</td>\n",
       "      <td>0</td>\n",
       "    </tr>\n",
       "    <tr>\n",
       "      <th>2</th>\n",
       "      <td>0</td>\n",
       "      <td>1</td>\n",
       "      <td>0</td>\n",
       "      <td>0</td>\n",
       "      <td>0</td>\n",
       "      <td>0</td>\n",
       "      <td>0</td>\n",
       "    </tr>\n",
       "    <tr>\n",
       "      <th>3</th>\n",
       "      <td>0</td>\n",
       "      <td>0</td>\n",
       "      <td>0</td>\n",
       "      <td>0</td>\n",
       "      <td>0</td>\n",
       "      <td>0</td>\n",
       "      <td>0</td>\n",
       "    </tr>\n",
       "    <tr>\n",
       "      <th>4</th>\n",
       "      <td>0</td>\n",
       "      <td>0</td>\n",
       "      <td>0</td>\n",
       "      <td>0</td>\n",
       "      <td>0</td>\n",
       "      <td>0</td>\n",
       "      <td>0</td>\n",
       "    </tr>\n",
       "  </tbody>\n",
       "</table>\n",
       "</div>"
      ],
      "text/plain": [
       "   Default  Delay 1  Delay 2  Delay 3  Delay 4  Delay 5  Delay >5\n",
       "0        1        0        0        0        0        0         0\n",
       "1        0        0        0        0        0        0         0\n",
       "2        0        1        0        0        0        0         0\n",
       "3        0        0        0        0        0        0         0\n",
       "4        0        0        0        0        0        0         0"
      ]
     },
     "execution_count": 20,
     "metadata": {},
     "output_type": "execute_result"
    }
   ],
   "source": [
    "# Transform the dataset into a transactional-style format\n",
    "df_transactions = pd.get_dummies(\n",
    "    df[['loans_delays_bin', 'Default']],\n",
    "    prefix='', prefix_sep=''\n",
    ")\n",
    "\n",
    "# Debug: Verify the transaction format|\n",
    "df_transactions.head()\n"
   ]
  },
  {
   "cell_type": "code",
   "execution_count": 21,
   "id": "8a557ff0",
   "metadata": {},
   "outputs": [
    {
     "name": "stderr",
     "output_type": "stream",
     "text": [
      "/home/u21/fantacher/.local/lib/python3.8/site-packages/mlxtend/frequent_patterns/fpcommon.py:111: DeprecationWarning: DataFrames with non-bool types result in worse computationalperformance and their support might be discontinued in the future.Please use a DataFrame with bool type\n",
      "  warnings.warn(\n"
     ]
    },
    {
     "data": {
      "text/html": [
       "<div>\n",
       "<style scoped>\n",
       "    .dataframe tbody tr th:only-of-type {\n",
       "        vertical-align: middle;\n",
       "    }\n",
       "\n",
       "    .dataframe tbody tr th {\n",
       "        vertical-align: top;\n",
       "    }\n",
       "\n",
       "    .dataframe thead th {\n",
       "        text-align: right;\n",
       "    }\n",
       "</style>\n",
       "<table border=\"1\" class=\"dataframe\">\n",
       "  <thead>\n",
       "    <tr style=\"text-align: right;\">\n",
       "      <th></th>\n",
       "      <th>antecedents</th>\n",
       "      <th>consequents</th>\n",
       "      <th>antecedent support</th>\n",
       "      <th>consequent support</th>\n",
       "      <th>support</th>\n",
       "      <th>confidence</th>\n",
       "      <th>lift</th>\n",
       "      <th>leverage</th>\n",
       "      <th>conviction</th>\n",
       "    </tr>\n",
       "  </thead>\n",
       "  <tbody>\n",
       "    <tr>\n",
       "      <th>0</th>\n",
       "      <td>(Delay 1)</td>\n",
       "      <td>(Default)</td>\n",
       "      <td>0.034953</td>\n",
       "      <td>0.06684</td>\n",
       "      <td>0.011767</td>\n",
       "      <td>0.336639</td>\n",
       "      <td>5.036495</td>\n",
       "      <td>0.00943</td>\n",
       "      <td>1.406716</td>\n",
       "    </tr>\n",
       "    <tr>\n",
       "      <th>1</th>\n",
       "      <td>(Delay 2)</td>\n",
       "      <td>(Default)</td>\n",
       "      <td>0.010367</td>\n",
       "      <td>0.06684</td>\n",
       "      <td>0.005173</td>\n",
       "      <td>0.499035</td>\n",
       "      <td>7.466119</td>\n",
       "      <td>0.00448</td>\n",
       "      <td>1.862726</td>\n",
       "    </tr>\n",
       "  </tbody>\n",
       "</table>\n",
       "</div>"
      ],
      "text/plain": [
       "  antecedents consequents  antecedent support  consequent support   support  \\\n",
       "0   (Delay 1)   (Default)            0.034953             0.06684  0.011767   \n",
       "1   (Delay 2)   (Default)            0.010367             0.06684  0.005173   \n",
       "\n",
       "   confidence      lift  leverage  conviction  \n",
       "0    0.336639  5.036495   0.00943    1.406716  \n",
       "1    0.499035  7.466119   0.00448    1.862726  "
      ]
     },
     "execution_count": 21,
     "metadata": {},
     "output_type": "execute_result"
    }
   ],
   "source": [
    "# Apply Apriori with lower thresholds\n",
    "frequent_itemsets = apriori(df_transactions, min_support=0.005, use_colnames=True)\n",
    "frequent_itemsets['num_itemsets'] = frequent_itemsets['itemsets'].apply(len)\n",
    "\n",
    "# Generate rules with even lower confidence threshold\n",
    "rules = association_rules(frequent_itemsets, metric=\"confidence\", min_threshold=0.2)\n",
    "\n",
    "# Display the first few rules\n",
    "rules.head()\n"
   ]
  },
  {
   "cell_type": "code",
   "execution_count": 22,
   "id": "ca56cb4a",
   "metadata": {},
   "outputs": [
    {
     "data": {
      "image/png": "[encoded data removed]",
      "text/plain": [
       "<Figure size 576x432 with 2 Axes>"
      ]
     },
     "metadata": {
      "needs_background": "light"
     },
     "output_type": "display_data"
    }
   ],
   "source": [
    "# Prepare data for plotting\n",
    "dti_rules_data = [\n",
    "    {\n",
    "        'Consequent Group': 'Delay 1', \n",
    "        'Support': 0.011767, \n",
    "        'Confidence': 0.336639, \n",
    "        'Lift': 5.036495\n",
    "    },\n",
    "    {\n",
    "        'Consequent Group': 'Delay 2', \n",
    "        'Support': 0.005173, \n",
    "        'Confidence': 0.499035, \n",
    "        'Lift': 7.466119\n",
    "    },\n",
    "]\n",
    "\n",
    "# Convert to DataFrame\n",
    "dti_rules_df = pd.DataFrame(dti_rules_data)\n",
    "\n",
    "# Create scatter plot\n",
    "plt.figure(figsize=(8, 6))\n",
    "plt.scatter(dti_rules_df['Support'], dti_rules_df['Confidence'], c=dti_rules_df['Lift'], cmap='coolwarm', s=200, edgecolor='black')\n",
    "for i, row in dti_rules_df.iterrows():\n",
    "    plt.text(row['Support'], row['Confidence'], row['Consequent Group'], fontsize=12, ha='right')\n",
    "\n",
    "# Add labels and color bar\n",
    "plt.colorbar(label='Lift')\n",
    "plt.xlabel('Support', fontsize=12)\n",
    "plt.ylabel('Confidence', fontsize=12)\n",
    "plt.title('Default Rules by No. of Payment Delays', fontsize=14)\n",
    "plt.grid(True, linestyle='--', alpha=0.7)\n",
    "plt.savefig('AR_Delay_group.jpg', dpi=300, bbox_inches=\"tight\", format='png')  # PNG with high DPI\n",
    "plt.show()\n"
   ]
  },
  {
   "cell_type": "code",
   "execution_count": 24,
   "id": "cce4c30d",
   "metadata": {},
   "outputs": [
    {
     "data": {
      "image/png": "[encoded data removed]",
      "text/plain": [
       "<Figure size 720x504 with 2 Axes>"
      ]
     },
     "metadata": {
      "needs_background": "light"
     },
     "output_type": "display_data"
    }
   ],
   "source": [
    "# Data from rules for Age Groups and Income Levels\n",
    "rules_data_combined = [\n",
    "    {'Category': 'Middle-aged', 'Support': 0.034754, 'Confidence': 0.519948, 'Lift': 1.354964},\n",
    "    {'Category': 'Senior', 'Support': 0.022187, 'Confidence': 0.331937, 'Lift': 0.775476},\n",
    "    {'Category': 'Low Income', 'Support': 0.019773, 'Confidence': 0.295831, 'Lift': 1.327381},\n",
    "    {'Category': 'Medium Income', 'Support': 0.014900, 'Confidence': 0.222920, 'Lift': 0.955940},\n",
    "    {'Category': 'Young & Very Low Income', 'Support': 0.022373, 'Confidence': 0.380499, 'Lift': 3.463886},\n",
    "]\n",
    "\n",
    "# Convert to DataFrame\n",
    "rules_df_combined = pd.DataFrame(rules_data_combined)\n",
    "\n",
    "# Create scatter plot\n",
    "plt.figure(figsize=(10, 7))\n",
    "scatter = plt.scatter(\n",
    "    rules_df_combined['Support'], \n",
    "    rules_df_combined['Confidence'], \n",
    "    c=rules_df_combined['Lift'], \n",
    "    cmap='coolwarm', \n",
    "    s=300, \n",
    "    edgecolor='black'\n",
    ")\n",
    "\n",
    "# Annotate points with category names\n",
    "for i, row in rules_df_combined.iterrows():\n",
    "    plt.text(row['Support'], row['Confidence'], row['Category'], fontsize=12, ha='right', va='center')\n",
    "\n",
    "# Add color bar for lift values\n",
    "cbar = plt.colorbar(scatter)\n",
    "cbar.set_label('Lift', fontsize=12)\n",
    "\n",
    "# Add axis labels and title\n",
    "plt.xlabel('Support', fontsize=14)\n",
    "plt.ylabel('Confidence', fontsize=14)\n",
    "plt.title('Default Rules by Age and Income Groups', fontsize=16)\n",
    "\n",
    "# Add grid\n",
    "plt.grid(True, linestyle='--', alpha=0.7)\n",
    "\n",
    "# Show the plot\n",
    "plt.tight_layout()\n",
    "plt.savefig('AR_age_income.jpg', dpi=300, bbox_inches=\"tight\", format='png')  # PNG with high DPI\n",
    "plt.show()\n"
   ]
  },
  {
   "cell_type": "code",
   "execution_count": null,
   "id": "1024f97b",
   "metadata": {},
   "outputs": [],
   "source": []
  }
 ],
 "metadata": {
  "kernelspec": {
   "display_name": "Python 3 (ipykernel)",
   "language": "python",
   "name": "python3"
  },
  "language_info": {
   "codemirror_mode": {
    "name": "ipython",
    "version": 3
   },
   "file_extension": ".py",
   "mimetype": "text/x-python",
   "name": "python",
   "nbconvert_exporter": "python",
   "pygments_lexer": "ipython3",
   "version": "3.8.12"
  }
 },
 "nbformat": 4,
 "nbformat_minor": 5
}
